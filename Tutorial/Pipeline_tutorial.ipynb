{
  "nbformat": 4,
  "nbformat_minor": 0,
  "metadata": {
    "colab": {
      "name": "Pipeline tutorial.ipynb",
      "provenance": [],
      "collapsed_sections": []
    },
    "kernelspec": {
      "name": "python3",
      "display_name": "Python 3"
    },
    "language_info": {
      "name": "python"
    }
  },
  "cells": [
    {
      "cell_type": "markdown",
      "source": [
        "#### Pipeline : 데이터 누수(Data Leakge) 방지를 위한 모델링 기법\n",
        "- Pycaret, MLOps (Pipeline 형태로 구축)\n",
        "  + 머신러닝 코드의 자동화 및 운영 가능\n",
        "- 기존 방식\n",
        "  + 데이터 불러오기 -> 데이터 전처리 -> 특성 공학 -> 데이터셋 분리 -> 모델링 -> 평가\n",
        "- 파이프라인 방식\n",
        "  + 데이터 불러오기 -> 데이터 전처리 -> 데이터셋 분리 -> 파이프라인 구축(피처공학, 모델링) -> 평가"
      ],
      "metadata": {
        "id": "4ANak2Vkhca9"
      }
    },
    {
      "cell_type": "markdown",
      "source": [
        "# 데이터 불러오기"
      ],
      "metadata": {
        "id": "oueznYXgkMYe"
      }
    },
    {
      "cell_type": "code",
      "execution_count": 1,
      "metadata": {
        "colab": {
          "base_uri": "https://localhost:8080/"
        },
        "id": "dxeixyJPhXeN",
        "outputId": "e061bc25-2512-4942-bfee-9d5fc1ecac0c"
      },
      "outputs": [
        {
          "output_type": "stream",
          "name": "stdout",
          "text": [
            "<class 'pandas.core.frame.DataFrame'>\n",
            "RangeIndex: 731 entries, 0 to 730\n",
            "Data columns (total 14 columns):\n",
            " #   Column      Non-Null Count  Dtype  \n",
            "---  ------      --------------  -----  \n",
            " 0   instant     731 non-null    int64  \n",
            " 1   dteday      731 non-null    object \n",
            " 2   season      731 non-null    int64  \n",
            " 3   yr          731 non-null    int64  \n",
            " 4   mnth        731 non-null    int64  \n",
            " 5   holiday     731 non-null    int64  \n",
            " 6   weekday     731 non-null    int64  \n",
            " 7   workingday  731 non-null    int64  \n",
            " 8   weathersit  731 non-null    int64  \n",
            " 9   temp        731 non-null    float64\n",
            " 10  atemp       731 non-null    float64\n",
            " 11  hum         731 non-null    float64\n",
            " 12  windspeed   731 non-null    float64\n",
            " 13  rentals     731 non-null    int64  \n",
            "dtypes: float64(4), int64(9), object(1)\n",
            "memory usage: 80.1+ KB\n"
          ]
        }
      ],
      "source": [
        "import pandas as pd\n",
        "import numpy as np\n",
        "data = pd.read_csv('https://raw.githubusercontent.com/MicrosoftDocs/ml-basics/master/data/daily-bike-share.csv')\n",
        "data.info()"
      ]
    },
    {
      "cell_type": "code",
      "source": [
        "from sklearn.model_selection import train_test_split\n",
        "X = data.drop('rentals',axis=1)\n",
        "y = data['rentals']\n",
        "\n",
        "X_train, X_val, y_train, y_val = train_test_split(X, y, test_size=0.2, random_state=123)"
      ],
      "metadata": {
        "id": "VtKM-nbInaPj"
      },
      "execution_count": 9,
      "outputs": []
    },
    {
      "cell_type": "markdown",
      "source": [
        "# Pipeline 구축"
      ],
      "metadata": {
        "id": "UxYhSofhlBwR"
      }
    },
    {
      "cell_type": "markdown",
      "source": [
        "## 데이터 전처리 파이프라인"
      ],
      "metadata": {
        "id": "_QODN4Jrmkp2"
      }
    },
    {
      "cell_type": "code",
      "source": [
        "from sklearn.preprocessing import StandardScaler, OrdinalEncoder, OneHotEncoder\n",
        "from sklearn.impute import SimpleImputer\n",
        "from sklearn.compose import ColumnTransformer\n",
        "from sklearn.pipeline import Pipeline\n",
        "\n",
        "# 수치형 데이터\n",
        "numeric_transformer = Pipeline(steps=[\n",
        "       ('imputer', SimpleImputer(strategy='mean'))\n",
        "      ,('scaler', StandardScaler())\n",
        "])\n",
        "\n",
        "# 서열형 데이터\n",
        "ordinal_transformer = Pipeline(steps=[\n",
        "       ('imputer', SimpleImputer(strategy='constant'))\n",
        "      ,('ordEncoder', OrdinalEncoder())\n",
        "])\n",
        "\n",
        "# 명목형 데이터\n",
        "onehot_transformer = Pipeline(steps=[\n",
        "       ('imputer', SimpleImputer(strategy='constant'))\n",
        "      ,('oheEncoder', OneHotEncoder())                                   \n",
        "])\n",
        "\n",
        "# 수치형 데이터 및 Categorical 데이터 컬럼 분리\n",
        "numeric_features = ['temp', 'atemp', 'hum', 'windspeed']\n",
        "ordinal_features = ['holiday', 'weekday', 'workingday', 'weathersit']\n",
        "onehot_features  = ['season', 'mnth']\n",
        "\n",
        "# numeric_features = data.select_dtypes(include=['int64', 'float64']).columns\n",
        "# categorical_features = data.select_dtypes(include=['object']).drop(['Loan_Status'], axis=1).columns\n",
        "\n",
        "preprocessor = ColumnTransformer(\n",
        "   transformers=[\n",
        "     ('numeric', numeric_transformer, numeric_features)\n",
        "   , ('ord_categorical', ordinal_transformer, ordinal_features)\n",
        "   , ('ohe_categorical', onehot_transformer, onehot_features)\n",
        "])"
      ],
      "metadata": {
        "id": "BW_HJ-GhkQbS"
      },
      "execution_count": 3,
      "outputs": []
    },
    {
      "cell_type": "markdown",
      "source": [
        "## 모델 적용 파이프라인"
      ],
      "metadata": {
        "id": "sfVIRIAcmn3E"
      }
    },
    {
      "cell_type": "code",
      "source": [
        "from sklearn.ensemble import RandomForestRegressor\n",
        "\n",
        "pipeline = Pipeline(steps = [\n",
        "               ('preprocessor', preprocessor) # 전처리 파이프라인\n",
        "              ,('regressor', RandomForestRegressor()) # 모델 연결\n",
        "           ])\n",
        "\n",
        "rf_model = pipeline.fit(X_train, y_train)\n",
        "print(rf_model)"
      ],
      "metadata": {
        "colab": {
          "base_uri": "https://localhost:8080/"
        },
        "id": "B-vINUp7mfz2",
        "outputId": "258f0133-7aef-4e24-8926-33ff9550cbc2"
      },
      "execution_count": 7,
      "outputs": [
        {
          "output_type": "stream",
          "name": "stdout",
          "text": [
            "Pipeline(steps=[('preprocessor',\n",
            "                 ColumnTransformer(transformers=[('numeric',\n",
            "                                                  Pipeline(steps=[('imputer',\n",
            "                                                                   SimpleImputer()),\n",
            "                                                                  ('scaler',\n",
            "                                                                   StandardScaler())]),\n",
            "                                                  ['temp', 'atemp', 'hum',\n",
            "                                                   'windspeed']),\n",
            "                                                 ('ord_categorical',\n",
            "                                                  Pipeline(steps=[('imputer',\n",
            "                                                                   SimpleImputer(strategy='constant')),\n",
            "                                                                  ('ordEncoder',\n",
            "                                                                   OrdinalEncoder())]),\n",
            "                                                  ['holiday', 'weekday',\n",
            "                                                   'workingday',\n",
            "                                                   'weathersit']),\n",
            "                                                 ('ohe_categorical',\n",
            "                                                  Pipeline(steps=[('imputer',\n",
            "                                                                   SimpleImputer(strategy='constant')),\n",
            "                                                                  ('oheEncoder',\n",
            "                                                                   OneHotEncoder())]),\n",
            "                                                  ['season', 'mnth'])])),\n",
            "                ('regressor', RandomForestRegressor())])\n"
          ]
        }
      ]
    },
    {
      "cell_type": "markdown",
      "source": [
        "# 모델 평가"
      ],
      "metadata": {
        "id": "JIUC7nMIojPz"
      }
    },
    {
      "cell_type": "code",
      "source": [
        "from sklearn.metrics import r2_score\n",
        "predictions = rf_model.predict(X_val)\n",
        "print (r2_score(y_val, predictions))"
      ],
      "metadata": {
        "colab": {
          "base_uri": "https://localhost:8080/"
        },
        "id": "b6AzquyIohMH",
        "outputId": "a4fe3571-aea8-44de-a854-165be4662383"
      },
      "execution_count": 10,
      "outputs": [
        {
          "output_type": "stream",
          "name": "stdout",
          "text": [
            "0.7654903256614782\n"
          ]
        }
      ]
    },
    {
      "cell_type": "markdown",
      "source": [
        "# 다중 모형 개발"
      ],
      "metadata": {
        "id": "m20fXBEsovGH"
      }
    },
    {
      "cell_type": "code",
      "source": [
        "from sklearn.ensemble import RandomForestRegressor\n",
        "from sklearn.tree import DecisionTreeRegressor\n",
        "from sklearn.linear_model import LinearRegression\n",
        "\n",
        "regressors = [\n",
        "    RandomForestRegressor(),\n",
        "    DecisionTreeRegressor(),\n",
        "    LinearRegression()\n",
        "]\n",
        "\n",
        "# regressors = [pipe_rf, pipe_dt]\n",
        "for regressor in regressors:\n",
        "    pipeline = Pipeline(steps = [\n",
        "               ('preprocessor', preprocessor)\n",
        "              ,('regressor',regressor)\n",
        "           ])\n",
        "    model = pipeline.fit(X_train, y_train)\n",
        "    predictions = model.predict(X_val)\n",
        "    print(regressor)\n",
        "    print(f'Model r2 score:{r2_score(predictions, y_val)}')"
      ],
      "metadata": {
        "colab": {
          "base_uri": "https://localhost:8080/"
        },
        "id": "Lmt1UKOHou7Z",
        "outputId": "d761dc90-9c9b-4249-dc76-f74690f49a03"
      },
      "execution_count": 14,
      "outputs": [
        {
          "output_type": "stream",
          "name": "stdout",
          "text": [
            "RandomForestRegressor()\n",
            "Model r2 score:0.7447806201844671\n",
            "DecisionTreeRegressor()\n",
            "Model r2 score:0.5885371412997458\n",
            "LinearRegression()\n",
            "Model r2 score:0.5703227526319388\n"
          ]
        }
      ]
    }
  ]
}