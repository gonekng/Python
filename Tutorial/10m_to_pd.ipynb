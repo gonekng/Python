{
 "cells": [
  {
   "cell_type": "markdown",
   "metadata": {
    "id": "IhJcGDeNTWlK"
   },
   "source": [
    "# Import Library"
   ]
  },
  {
   "cell_type": "code",
   "execution_count": null,
   "metadata": {
    "colab": {
     "base_uri": "https://localhost:8080/"
    },
    "id": "PU-1BQjDrxhZ",
    "outputId": "ccbd8d7f-a4d1-400a-e407-a9723be54385"
   },
   "outputs": [
    {
     "name": "stdout",
     "output_type": "stream",
     "text": [
      "numpy ver.1.21.5\n",
      "pandas ver.1.3.5\n"
     ]
    }
   ],
   "source": [
    "import numpy as np\n",
    "print(\"numpy ver.\" + np.__version__)\n",
    "import pandas as pd\n",
    "print(\"pandas ver.\" + pd.__version__)"
   ]
  },
  {
   "cell_type": "markdown",
   "metadata": {
    "id": "Xc6Ha_62y7j1"
   },
   "source": [
    "# Object Creation"
   ]
  },
  {
   "cell_type": "markdown",
   "metadata": {
    "id": "mqCzfwWyzIm1"
   },
   "source": [
    "## Creating Series\n",
    "- by passing a list of values, letting pandas create a default integer index"
   ]
  },
  {
   "cell_type": "code",
   "execution_count": null,
   "metadata": {
    "colab": {
     "base_uri": "https://localhost:8080/"
    },
    "id": "RAN0bXIFy7GA",
    "outputId": "750dc17b-d22f-436e-a247-45a0f09a4c61"
   },
   "outputs": [
    {
     "name": "stdout",
     "output_type": "stream",
     "text": [
      "0    1.0\n",
      "1    3.0\n",
      "2    5.0\n",
      "3    NaN\n",
      "4    6.0\n",
      "5    8.0\n",
      "dtype: float64\n"
     ]
    }
   ],
   "source": [
    "s = pd.Series([1,3,5,np.nan, 6,8])\n",
    "print(s)"
   ]
  },
  {
   "cell_type": "markdown",
   "metadata": {
    "id": "Ljvd0Ns1zPnZ"
   },
   "source": [
    "## Creation DataFrame\n",
    "- by passing a NumPy array, with a datetime index and labeled columns"
   ]
  },
  {
   "cell_type": "code",
   "execution_count": null,
   "metadata": {
    "colab": {
     "base_uri": "https://localhost:8080/"
    },
    "id": "W-D3E6xyzZtV",
    "outputId": "189c7747-fa26-4e0a-e6b7-0b2eb39741ff"
   },
   "outputs": [
    {
     "name": "stdout",
     "output_type": "stream",
     "text": [
      "DatetimeIndex(['2013-01-01', '2013-01-02', '2013-01-03', '2013-01-04',\n",
      "               '2013-01-05', '2013-01-06'],\n",
      "              dtype='datetime64[ns]', freq='D')\n",
      "\n",
      "                   A         B         C         D\n",
      "2013-01-01 -0.818896 -0.409184  0.087447 -0.935887\n",
      "2013-01-02  0.681543 -1.390976  2.013105  0.644468\n",
      "2013-01-03  1.017911  0.033224 -0.103912  0.634459\n",
      "2013-01-04 -0.450437  0.501915  1.003776  0.691249\n",
      "2013-01-05  1.633764  0.324234 -1.707570  1.163615\n",
      "2013-01-06  0.282402 -0.922663 -1.641314  0.505433\n"
     ]
    }
   ],
   "source": [
    "dates = pd.date_range(\"20130101\", periods=6)\n",
    "print(dates)\n",
    "print()\n",
    "df = pd.DataFrame(np.random.randn(6,4), index=dates, columns=list(\"ABCD\"))\n",
    "print(df)"
   ]
  },
  {
   "cell_type": "markdown",
   "metadata": {
    "id": "vFkjI5KR0NGE"
   },
   "source": [
    "- by passing a dictionary of objects that can be converted into a series-like structure"
   ]
  },
  {
   "cell_type": "code",
   "execution_count": null,
   "metadata": {
    "colab": {
     "base_uri": "https://localhost:8080/"
    },
    "id": "MJqUazJQ0Qry",
    "outputId": "53e6b0e2-6614-4906-f17e-ded7062217fc"
   },
   "outputs": [
    {
     "name": "stdout",
     "output_type": "stream",
     "text": [
      "     A          B    C  D      E    F\n",
      "0  1.0 2013-01-02  1.0  3   test  foo\n",
      "1  1.0 2013-01-02  1.0  3  train  foo\n",
      "2  1.0 2013-01-02  1.0  3   test  foo\n",
      "3  1.0 2013-01-02  1.0  3  train  foo\n",
      "\n",
      "dtypes:\n",
      "A           float64\n",
      "B    datetime64[ns]\n",
      "C           float32\n",
      "D             int32\n",
      "E          category\n",
      "F            object\n",
      "dtype: object\n"
     ]
    }
   ],
   "source": [
    "df2 = pd.DataFrame(\n",
    "    {\n",
    "        \"A\": 1.0,\n",
    "        \"B\": pd.Timestamp(\"20130102\"),\n",
    "        \"C\": pd.Series(1, index=list(range(4)), dtype=\"float32\"),\n",
    "        \"D\": np.array([3] * 4, dtype=\"int32\"),\n",
    "        \"E\": pd.Categorical([\"test\", \"train\", \"test\", \"train\"]),\n",
    "        \"F\": \"foo\",\n",
    "    }\n",
    ")\n",
    "print(df2)\n",
    "print()\n",
    "print(\"dtypes:\")\n",
    "print(df2.dtypes)"
   ]
  },
  {
   "cell_type": "code",
   "execution_count": null,
   "metadata": {
    "id": "40koZ0uC1MeJ"
   },
   "outputs": [],
   "source": [
    "# IPython\n",
    "# df2.<TAB>"
   ]
  },
  {
   "cell_type": "markdown",
   "metadata": {
    "id": "OQxMPRD42PFB"
   },
   "source": [
    "# Viewing Data"
   ]
  },
  {
   "cell_type": "markdown",
   "metadata": {
    "id": "0ndrvPOvT3p2"
   },
   "source": [
    "## Basic Structure"
   ]
  },
  {
   "cell_type": "code",
   "execution_count": null,
   "metadata": {
    "colab": {
     "base_uri": "https://localhost:8080/"
    },
    "id": "0yZhLihl2ODR",
    "outputId": "dd6538ce-2f17-4654-ddf9-7cbd2e19b692"
   },
   "outputs": [
    {
     "name": "stdout",
     "output_type": "stream",
     "text": [
      "Head 5:\n",
      "                    A         B         C         D\n",
      "2013-01-01 -0.818896 -0.409184  0.087447 -0.935887\n",
      "2013-01-02  0.681543 -1.390976  2.013105  0.644468\n",
      "2013-01-03  1.017911  0.033224 -0.103912  0.634459\n",
      "2013-01-04 -0.450437  0.501915  1.003776  0.691249\n",
      "2013-01-05  1.633764  0.324234 -1.707570  1.163615\n",
      "\n",
      "Tail 5:\n",
      "                    A         B         C         D\n",
      "2013-01-02  0.681543 -1.390976  2.013105  0.644468\n",
      "2013-01-03  1.017911  0.033224 -0.103912  0.634459\n",
      "2013-01-04 -0.450437  0.501915  1.003776  0.691249\n",
      "2013-01-05  1.633764  0.324234 -1.707570  1.163615\n",
      "2013-01-06  0.282402 -0.922663 -1.641314  0.505433\n"
     ]
    }
   ],
   "source": [
    "print(\"Head 5:\\n\", df.head())\n",
    "print()\n",
    "print(\"Tail 5:\\n\", df.tail())"
   ]
  },
  {
   "cell_type": "code",
   "execution_count": null,
   "metadata": {
    "colab": {
     "base_uri": "https://localhost:8080/"
    },
    "id": "n2Yps-KO2bt3",
    "outputId": "a29cf10f-5dd0-4708-86b0-00bb1c4d7ec4"
   },
   "outputs": [
    {
     "name": "stdout",
     "output_type": "stream",
     "text": [
      "Index :\n",
      " DatetimeIndex(['2013-01-01', '2013-01-02', '2013-01-03', '2013-01-04',\n",
      "               '2013-01-05', '2013-01-06'],\n",
      "              dtype='datetime64[ns]', freq='D')\n",
      "Columns:\n",
      " Index(['A', 'B', 'C', 'D'], dtype='object')\n"
     ]
    }
   ],
   "source": [
    "print(\"Index :\\n\", df.index)\n",
    "print(\"Columns:\\n\", df.columns)"
   ]
  },
  {
   "cell_type": "markdown",
   "metadata": {
    "id": "6o4QaRL95wyi"
   },
   "source": [
    "## DataFrame to NumPy array\n",
    "- This can be an expensive operation when your DataFrame has columns with different data types:\n",
    "  + **NumPy arrays have one dtype for the entire array.**\n",
    "  + **Pandas DataFrames have one dtype per column.**\n",
    "\n",
    "- With heterogeneous data, the lowest common type will have to be used.\n",
    "\n",
    "- For a mix of numeric and non-numeric types, the output array will have object dtype."
   ]
  },
  {
   "cell_type": "code",
   "execution_count": null,
   "metadata": {
    "colab": {
     "base_uri": "https://localhost:8080/"
    },
    "id": "ohNbjKJK4Xzl",
    "outputId": "e8f8f500-7e2b-4c0c-b09b-b605627a85ea"
   },
   "outputs": [
    {
     "data": {
      "text/plain": [
       "array([[-0.81889557, -0.40918379,  0.08744721, -0.93588677],\n",
       "       [ 0.68154262, -1.39097644,  2.01310478,  0.64446846],\n",
       "       [ 1.01791104,  0.03322364, -0.1039122 ,  0.63445887],\n",
       "       [-0.45043711,  0.50191541,  1.00377617,  0.69124864],\n",
       "       [ 1.633764  ,  0.32423439, -1.70757042,  1.16361464],\n",
       "       [ 0.28240247, -0.92266305, -1.64131359,  0.50543323]])"
      ]
     },
     "execution_count": 9,
     "metadata": {},
     "output_type": "execute_result"
    }
   ],
   "source": [
    "df.values"
   ]
  },
  {
   "cell_type": "code",
   "execution_count": null,
   "metadata": {
    "colab": {
     "base_uri": "https://localhost:8080/"
    },
    "id": "92QeyLvy5EF7",
    "outputId": "0379c6e0-c258-42c3-db00-1a9abf506b78"
   },
   "outputs": [
    {
     "data": {
      "text/plain": [
       "array([[-0.81889557, -0.40918379,  0.08744721, -0.93588677],\n",
       "       [ 0.68154262, -1.39097644,  2.01310478,  0.64446846],\n",
       "       [ 1.01791104,  0.03322364, -0.1039122 ,  0.63445887],\n",
       "       [-0.45043711,  0.50191541,  1.00377617,  0.69124864],\n",
       "       [ 1.633764  ,  0.32423439, -1.70757042,  1.16361464],\n",
       "       [ 0.28240247, -0.92266305, -1.64131359,  0.50543323]])"
      ]
     },
     "execution_count": 10,
     "metadata": {},
     "output_type": "execute_result"
    }
   ],
   "source": [
    "# For df, our DataFrame of all floating-point values,\n",
    "# DataFrame.to_numpy() is fast and doesn't require copying data:\n",
    "df.to_numpy()"
   ]
  },
  {
   "cell_type": "code",
   "execution_count": null,
   "metadata": {
    "colab": {
     "base_uri": "https://localhost:8080/"
    },
    "id": "FZgFQwKZ5BXD",
    "outputId": "5ebbebfd-602f-4613-f3b2-fe51467366fa"
   },
   "outputs": [
    {
     "data": {
      "text/plain": [
       "array([[1.0, Timestamp('2013-01-02 00:00:00'), 1.0, 3, 'test', 'foo'],\n",
       "       [1.0, Timestamp('2013-01-02 00:00:00'), 1.0, 3, 'train', 'foo'],\n",
       "       [1.0, Timestamp('2013-01-02 00:00:00'), 1.0, 3, 'test', 'foo'],\n",
       "       [1.0, Timestamp('2013-01-02 00:00:00'), 1.0, 3, 'train', 'foo']],\n",
       "      dtype=object)"
      ]
     },
     "execution_count": 11,
     "metadata": {},
     "output_type": "execute_result"
    }
   ],
   "source": [
    "df2.values"
   ]
  },
  {
   "cell_type": "code",
   "execution_count": null,
   "metadata": {
    "colab": {
     "base_uri": "https://localhost:8080/"
    },
    "id": "6jQtMZ525G6N",
    "outputId": "cb8f0b56-0558-47ab-b897-a3713616a0ce"
   },
   "outputs": [
    {
     "data": {
      "text/plain": [
       "array([[1.0, Timestamp('2013-01-02 00:00:00'), 1.0, 3, 'test', 'foo'],\n",
       "       [1.0, Timestamp('2013-01-02 00:00:00'), 1.0, 3, 'train', 'foo'],\n",
       "       [1.0, Timestamp('2013-01-02 00:00:00'), 1.0, 3, 'test', 'foo'],\n",
       "       [1.0, Timestamp('2013-01-02 00:00:00'), 1.0, 3, 'train', 'foo']],\n",
       "      dtype=object)"
      ]
     },
     "execution_count": 12,
     "metadata": {},
     "output_type": "execute_result"
    }
   ],
   "source": [
    "# For df2, the DataFrame with multiple dtypes,\n",
    "# DataFrame.to_numpy() is relatively expensive:\n",
    "df2.to_numpy()"
   ]
  },
  {
   "cell_type": "markdown",
   "metadata": {
    "id": "UfesFuDgW0Ts"
   },
   "source": [
    "## Describe, Transpose, Sort"
   ]
  },
  {
   "cell_type": "code",
   "execution_count": null,
   "metadata": {
    "colab": {
     "base_uri": "https://localhost:8080/"
    },
    "id": "fZ3uPvwJTQ1T",
    "outputId": "eceabb41-1b26-40af-8d42-4bc0fccc8323"
   },
   "outputs": [
    {
     "name": "stdout",
     "output_type": "stream",
     "text": [
      "              A         B         C         D\n",
      "count  6.000000  6.000000  6.000000  6.000000\n",
      "mean   0.391048 -0.310575 -0.058078  0.450556\n",
      "std    0.917121  0.739319  1.460690  0.715967\n",
      "min   -0.818896 -1.390976 -1.707570 -0.935887\n",
      "25%   -0.267227 -0.794293 -1.256963  0.537690\n",
      "50%    0.481973 -0.187980 -0.008232  0.639464\n",
      "75%    0.933819  0.251482  0.774694  0.679554\n",
      "max    1.633764  0.501915  2.013105  1.163615\n"
     ]
    }
   ],
   "source": [
    "print(df.describe())"
   ]
  },
  {
   "cell_type": "code",
   "execution_count": null,
   "metadata": {
    "colab": {
     "base_uri": "https://localhost:8080/"
    },
    "id": "5ogp7wjFXbvp",
    "outputId": "d788dfb5-4025-4014-81b8-a775024c6300"
   },
   "outputs": [
    {
     "name": "stdout",
     "output_type": "stream",
     "text": [
      "   2013-01-01  2013-01-02  2013-01-03  2013-01-04  2013-01-05  2013-01-06\n",
      "A   -0.818896    0.681543    1.017911   -0.450437    1.633764    0.282402\n",
      "B   -0.409184   -1.390976    0.033224    0.501915    0.324234   -0.922663\n",
      "C    0.087447    2.013105   -0.103912    1.003776   -1.707570   -1.641314\n",
      "D   -0.935887    0.644468    0.634459    0.691249    1.163615    0.505433\n"
     ]
    }
   ],
   "source": [
    "print(df.T)"
   ]
  },
  {
   "cell_type": "code",
   "execution_count": null,
   "metadata": {
    "colab": {
     "base_uri": "https://localhost:8080/"
    },
    "id": "4UAKooeZXdoG",
    "outputId": "425fe5b8-3728-49d6-ea97-72f3fee71d4a"
   },
   "outputs": [
    {
     "name": "stdout",
     "output_type": "stream",
     "text": [
      "Sorted by axis 1:\n",
      "                   D         C         B         A\n",
      "2013-01-01 -0.935887  0.087447 -0.409184 -0.818896\n",
      "2013-01-02  0.644468  2.013105 -1.390976  0.681543\n",
      "2013-01-03  0.634459 -0.103912  0.033224  1.017911\n",
      "2013-01-04  0.691249  1.003776  0.501915 -0.450437\n",
      "2013-01-05  1.163615 -1.707570  0.324234  1.633764\n",
      "2013-01-06  0.505433 -1.641314 -0.922663  0.282402\n",
      "\n",
      "Sorted by values B:\n",
      "                   A         B         C         D\n",
      "2013-01-02  0.681543 -1.390976  2.013105  0.644468\n",
      "2013-01-06  0.282402 -0.922663 -1.641314  0.505433\n",
      "2013-01-01 -0.818896 -0.409184  0.087447 -0.935887\n",
      "2013-01-03  1.017911  0.033224 -0.103912  0.634459\n",
      "2013-01-05  1.633764  0.324234 -1.707570  1.163615\n",
      "2013-01-04 -0.450437  0.501915  1.003776  0.691249\n"
     ]
    }
   ],
   "source": [
    "print(\"Sorted by axis 1:\")\n",
    "print(df.sort_index(axis=1, ascending=False))\n",
    "print()\n",
    "print(\"Sorted by values B:\")\n",
    "print(df.sort_values(by=\"B\"))"
   ]
  },
  {
   "cell_type": "markdown",
   "metadata": {
    "id": "RUalItCTYXgl"
   },
   "source": [
    "# Selecting Data"
   ]
  },
  {
   "cell_type": "markdown",
   "metadata": {
    "id": "uoEr5vbYYvNH"
   },
   "source": [
    "## Getting"
   ]
  },
  {
   "cell_type": "code",
   "execution_count": null,
   "metadata": {
    "colab": {
     "base_uri": "https://localhost:8080/"
    },
    "id": "bKiGXS9wYWtw",
    "outputId": "77637462-f808-4230-914d-a76e54411b0e"
   },
   "outputs": [
    {
     "name": "stdout",
     "output_type": "stream",
     "text": [
      "2013-01-01   -0.818896\n",
      "2013-01-02    0.681543\n",
      "2013-01-03    1.017911\n",
      "2013-01-04   -0.450437\n",
      "2013-01-05    1.633764\n",
      "2013-01-06    0.282402\n",
      "Freq: D, Name: A, dtype: float64\n"
     ]
    }
   ],
   "source": [
    "print(df[\"A\"])\n",
    "# print(df.A)"
   ]
  },
  {
   "cell_type": "code",
   "execution_count": null,
   "metadata": {
    "colab": {
     "base_uri": "https://localhost:8080/"
    },
    "id": "Ujs1ahQhY0ao",
    "outputId": "b0825e7e-325a-43f5-8fb9-c7f34bdd4fbb"
   },
   "outputs": [
    {
     "name": "stdout",
     "output_type": "stream",
     "text": [
      "                   A         B         C         D\n",
      "2013-01-01 -0.818896 -0.409184  0.087447 -0.935887\n",
      "2013-01-02  0.681543 -1.390976  2.013105  0.644468\n",
      "2013-01-03  1.017911  0.033224 -0.103912  0.634459\n",
      "                   A         B         C         D\n",
      "2013-01-02  0.681543 -1.390976  2.013105  0.644468\n",
      "2013-01-03  1.017911  0.033224 -0.103912  0.634459\n",
      "2013-01-04 -0.450437  0.501915  1.003776  0.691249\n"
     ]
    }
   ],
   "source": [
    "print(df[:3])\n",
    "print(df[\"20130102\":\"20130104\"])"
   ]
  },
  {
   "cell_type": "markdown",
   "metadata": {
    "id": "FVO0PW6MZPu5"
   },
   "source": [
    "## Selection by Label"
   ]
  },
  {
   "cell_type": "code",
   "execution_count": null,
   "metadata": {
    "colab": {
     "base_uri": "https://localhost:8080/"
    },
    "id": "CL70WdxZY2rH",
    "outputId": "d16adaae-6f20-45bf-80ae-e819675c0c38"
   },
   "outputs": [
    {
     "name": "stdout",
     "output_type": "stream",
     "text": [
      "A   -0.818896\n",
      "B   -0.409184\n",
      "C    0.087447\n",
      "D   -0.935887\n",
      "Name: 2013-01-01 00:00:00, dtype: float64\n"
     ]
    }
   ],
   "source": [
    "print(df.loc[dates[0]])"
   ]
  },
  {
   "cell_type": "code",
   "execution_count": null,
   "metadata": {
    "colab": {
     "base_uri": "https://localhost:8080/"
    },
    "id": "F3qSkf7EZYaa",
    "outputId": "4b04fc4c-0a9c-430f-a9a0-ec4e973997ce"
   },
   "outputs": [
    {
     "name": "stdout",
     "output_type": "stream",
     "text": [
      "                   A         B\n",
      "2013-01-02  0.681543 -1.390976\n",
      "2013-01-03  1.017911  0.033224\n",
      "2013-01-04 -0.450437  0.501915\n"
     ]
    }
   ],
   "source": [
    "print(df.loc[\"20130102\":\"20130104\", [\"A\",\"B\"]])"
   ]
  },
  {
   "cell_type": "code",
   "execution_count": null,
   "metadata": {
    "colab": {
     "base_uri": "https://localhost:8080/"
    },
    "id": "vRXMa6AkZxhn",
    "outputId": "f38ccd9d-cf20-4e1a-e19d-2e963fe57438"
   },
   "outputs": [
    {
     "name": "stdout",
     "output_type": "stream",
     "text": [
      "A    0.681543\n",
      "B   -1.390976\n",
      "Name: 2013-01-02 00:00:00, dtype: float64\n"
     ]
    }
   ],
   "source": [
    "print(df.loc[\"20130102\", [\"A\",\"B\"]])"
   ]
  },
  {
   "cell_type": "code",
   "execution_count": null,
   "metadata": {
    "colab": {
     "base_uri": "https://localhost:8080/"
    },
    "id": "Cf4eNUHIaDb8",
    "outputId": "046b78f8-8872-4896-dc39-df895e968d01"
   },
   "outputs": [
    {
     "name": "stdout",
     "output_type": "stream",
     "text": [
      "-0.818895566676464\n",
      "-0.818895566676464\n"
     ]
    }
   ],
   "source": [
    "print(df.loc[dates[0], \"A\"])\n",
    "print(df.at[dates[0],\"A\"]) # equivalent to the prior method"
   ]
  },
  {
   "cell_type": "markdown",
   "metadata": {
    "id": "1-7vF5ghaeDY"
   },
   "source": [
    "## Selection by Position"
   ]
  },
  {
   "cell_type": "code",
   "execution_count": null,
   "metadata": {
    "colab": {
     "base_uri": "https://localhost:8080/"
    },
    "id": "0S5QXmKHagfn",
    "outputId": "da3cc980-a057-4265-80b2-39c5971d42db"
   },
   "outputs": [
    {
     "name": "stdout",
     "output_type": "stream",
     "text": [
      "A   -0.450437\n",
      "B    0.501915\n",
      "C    1.003776\n",
      "D    0.691249\n",
      "Name: 2013-01-04 00:00:00, dtype: float64\n"
     ]
    }
   ],
   "source": [
    "print(df.iloc[3])"
   ]
  },
  {
   "cell_type": "code",
   "execution_count": null,
   "metadata": {
    "colab": {
     "base_uri": "https://localhost:8080/"
    },
    "id": "PZrZfz2uQlEa",
    "outputId": "b174ad18-b708-4a7f-8a65-3c0f31ef38a5"
   },
   "outputs": [
    {
     "name": "stdout",
     "output_type": "stream",
     "text": [
      "                   A         B\n",
      "2013-01-04 -0.450437  0.501915\n",
      "2013-01-05  1.633764  0.324234\n"
     ]
    }
   ],
   "source": [
    "print(df.iloc[3:5, 0:2])"
   ]
  },
  {
   "cell_type": "code",
   "execution_count": null,
   "metadata": {
    "colab": {
     "base_uri": "https://localhost:8080/"
    },
    "id": "xhowN-S1Ruwc",
    "outputId": "36c0370e-230a-4f60-c954-7a06b485dcf3"
   },
   "outputs": [
    {
     "name": "stdout",
     "output_type": "stream",
     "text": [
      "                   B         D\n",
      "2013-01-02 -1.390976  0.644468\n",
      "2013-01-03  0.033224  0.634459\n",
      "2013-01-06 -0.922663  0.505433\n"
     ]
    }
   ],
   "source": [
    "print(df.iloc[[1,2,5],[1,3]])"
   ]
  },
  {
   "cell_type": "code",
   "execution_count": null,
   "metadata": {
    "colab": {
     "base_uri": "https://localhost:8080/"
    },
    "id": "z63FduI3R58r",
    "outputId": "1bcaccf8-f4f5-42a1-b51a-402b5b9dcafa"
   },
   "outputs": [
    {
     "name": "stdout",
     "output_type": "stream",
     "text": [
      "                   A         B         C         D\n",
      "2013-01-02  0.681543 -1.390976  2.013105  0.644468\n",
      "2013-01-03  1.017911  0.033224 -0.103912  0.634459\n"
     ]
    }
   ],
   "source": [
    "print(df.iloc[1:3,:])"
   ]
  },
  {
   "cell_type": "code",
   "execution_count": null,
   "metadata": {
    "colab": {
     "base_uri": "https://localhost:8080/"
    },
    "id": "lxMXZhnvR9zU",
    "outputId": "446119ae-f0ef-4c32-f8dd-ef5643a5f6f1"
   },
   "outputs": [
    {
     "name": "stdout",
     "output_type": "stream",
     "text": [
      "                   B         C\n",
      "2013-01-01 -0.409184  0.087447\n",
      "2013-01-02 -1.390976  2.013105\n",
      "2013-01-03  0.033224 -0.103912\n",
      "2013-01-04  0.501915  1.003776\n",
      "2013-01-05  0.324234 -1.707570\n",
      "2013-01-06 -0.922663 -1.641314\n"
     ]
    }
   ],
   "source": [
    "print(df.iloc[:,1:3])"
   ]
  },
  {
   "cell_type": "code",
   "execution_count": null,
   "metadata": {
    "colab": {
     "base_uri": "https://localhost:8080/"
    },
    "id": "h7jUEsLcSOJ8",
    "outputId": "c1f54a83-3bb3-410c-fb64-7af91826c8fb"
   },
   "outputs": [
    {
     "name": "stdout",
     "output_type": "stream",
     "text": [
      "-1.3909764417520816\n",
      "-1.3909764417520816\n"
     ]
    }
   ],
   "source": [
    "print(df.iloc[1,1])\n",
    "print(df.iat[1,1])  # equivalent to the prior method"
   ]
  },
  {
   "cell_type": "markdown",
   "metadata": {
    "id": "opomfD01Scba"
   },
   "source": [
    "## Boolean Indexing"
   ]
  },
  {
   "cell_type": "code",
   "execution_count": null,
   "metadata": {
    "colab": {
     "base_uri": "https://localhost:8080/"
    },
    "id": "4_Of8DakSXm-",
    "outputId": "d15fd82e-a8aa-4c06-8202-436c97e14a07"
   },
   "outputs": [
    {
     "name": "stdout",
     "output_type": "stream",
     "text": [
      "                   A         B         C         D\n",
      "2013-01-02  0.681543 -1.390976  2.013105  0.644468\n",
      "2013-01-03  1.017911  0.033224 -0.103912  0.634459\n",
      "2013-01-05  1.633764  0.324234 -1.707570  1.163615\n",
      "2013-01-06  0.282402 -0.922663 -1.641314  0.505433\n"
     ]
    }
   ],
   "source": [
    "print(df[df[\"A\"]>0])"
   ]
  },
  {
   "cell_type": "code",
   "execution_count": null,
   "metadata": {
    "colab": {
     "base_uri": "https://localhost:8080/"
    },
    "id": "0DwNid7ISifv",
    "outputId": "ffee578e-e7b9-4c59-a11e-8be29eaefac7"
   },
   "outputs": [
    {
     "name": "stdout",
     "output_type": "stream",
     "text": [
      "                   A         B         C         D\n",
      "2013-01-01       NaN       NaN  0.087447       NaN\n",
      "2013-01-02  0.681543       NaN  2.013105  0.644468\n",
      "2013-01-03  1.017911  0.033224       NaN  0.634459\n",
      "2013-01-04       NaN  0.501915  1.003776  0.691249\n",
      "2013-01-05  1.633764  0.324234       NaN  1.163615\n",
      "2013-01-06  0.282402       NaN       NaN  0.505433\n"
     ]
    }
   ],
   "source": [
    "print(df[df>0])"
   ]
  },
  {
   "cell_type": "code",
   "execution_count": null,
   "metadata": {
    "colab": {
     "base_uri": "https://localhost:8080/"
    },
    "id": "b3LD7ja4Syhm",
    "outputId": "967e14cc-f934-49df-ce17-29dc2adf54f7"
   },
   "outputs": [
    {
     "name": "stdout",
     "output_type": "stream",
     "text": [
      "                   A         B         C         D      E\n",
      "2013-01-01 -0.818896 -0.409184  0.087447 -0.935887    one\n",
      "2013-01-02  0.681543 -1.390976  2.013105  0.644468    one\n",
      "2013-01-03  1.017911  0.033224 -0.103912  0.634459    two\n",
      "2013-01-04 -0.450437  0.501915  1.003776  0.691249  three\n",
      "2013-01-05  1.633764  0.324234 -1.707570  1.163615   four\n",
      "2013-01-06  0.282402 -0.922663 -1.641314  0.505433  three\n",
      "\n",
      "                   A         B         C         D     E\n",
      "2013-01-03  1.017911  0.033224 -0.103912  0.634459   two\n",
      "2013-01-05  1.633764  0.324234 -1.707570  1.163615  four\n"
     ]
    }
   ],
   "source": [
    "df2 = df.copy()\n",
    "df2[\"E\"] = ['one', 'one', 'two', 'three', 'four', 'three']\n",
    "print(df2)\n",
    "print()\n",
    "print(df2[df2[\"E\"].isin([\"two\", \"four\"])])"
   ]
  },
  {
   "cell_type": "markdown",
   "metadata": {
    "id": "EvNVBH3K5F1q"
   },
   "source": [
    "## Setting"
   ]
  },
  {
   "cell_type": "code",
   "execution_count": null,
   "metadata": {
    "colab": {
     "base_uri": "https://localhost:8080/"
    },
    "id": "A7b4YWn9TUpK",
    "outputId": "959963fa-881f-4372-b33f-8d3bc9c6cbba"
   },
   "outputs": [
    {
     "name": "stdout",
     "output_type": "stream",
     "text": [
      "2013-01-02    1\n",
      "2013-01-03    2\n",
      "2013-01-04    3\n",
      "2013-01-05    4\n",
      "2013-01-06    5\n",
      "2013-01-07    6\n",
      "Freq: D, dtype: int64\n",
      "\n",
      "                   A         B         C         D    F\n",
      "2013-01-01 -0.818896 -0.409184  0.087447 -0.935887  NaN\n",
      "2013-01-02  0.681543 -1.390976  2.013105  0.644468  1.0\n",
      "2013-01-03  1.017911  0.033224 -0.103912  0.634459  2.0\n",
      "2013-01-04 -0.450437  0.501915  1.003776  0.691249  3.0\n",
      "2013-01-05  1.633764  0.324234 -1.707570  1.163615  4.0\n",
      "2013-01-06  0.282402 -0.922663 -1.641314  0.505433  5.0\n"
     ]
    }
   ],
   "source": [
    "s1 = pd.Series([1,2,3,4,5,6], index = pd.date_range(\"20130102\",periods=6))\n",
    "print(s1)\n",
    "print()\n",
    "df[\"F\"] = s1\n",
    "print(df)"
   ]
  },
  {
   "cell_type": "code",
   "execution_count": null,
   "metadata": {
    "colab": {
     "base_uri": "https://localhost:8080/"
    },
    "id": "Cs5t6Wdb6qd1",
    "outputId": "0ea11b04-3871-479d-a37d-9984f163ce43"
   },
   "outputs": [
    {
     "name": "stdout",
     "output_type": "stream",
     "text": [
      "                   A         B         C  D    F\n",
      "2013-01-01  0.000000  0.000000  0.087447  5  NaN\n",
      "2013-01-02  0.681543 -1.390976  2.013105  5  1.0\n",
      "2013-01-03  1.017911  0.033224 -0.103912  5  2.0\n",
      "2013-01-04 -0.450437  0.501915  1.003776  5  3.0\n",
      "2013-01-05  1.633764  0.324234 -1.707570  5  4.0\n",
      "2013-01-06  0.282402 -0.922663 -1.641314  5  5.0\n"
     ]
    }
   ],
   "source": [
    "df.at[dates[0], \"A\"] = 0 # setting values by label\n",
    "df.iat[0,1] = 0 # setting values by position\n",
    "df.loc[:, \"D\"] = np.array([5] * len(df)) # setting by assigning with a NumPy array\n",
    "print(df)"
   ]
  },
  {
   "cell_type": "code",
   "execution_count": null,
   "metadata": {
    "colab": {
     "base_uri": "https://localhost:8080/"
    },
    "id": "LqePSvhY8GUy",
    "outputId": "f7a06eea-7355-4310-9b43-fc9d20e33ad4"
   },
   "outputs": [
    {
     "name": "stdout",
     "output_type": "stream",
     "text": [
      "                   A         B         C  D    F\n",
      "2013-01-01  0.000000  0.000000 -0.087447 -5  NaN\n",
      "2013-01-02 -0.681543 -1.390976 -2.013105 -5 -1.0\n",
      "2013-01-03 -1.017911 -0.033224 -0.103912 -5 -2.0\n",
      "2013-01-04 -0.450437 -0.501915 -1.003776 -5 -3.0\n",
      "2013-01-05 -1.633764 -0.324234 -1.707570 -5 -4.0\n",
      "2013-01-06 -0.282402 -0.922663 -1.641314 -5 -5.0\n"
     ]
    }
   ],
   "source": [
    "df2 = df.copy()\n",
    "df2[df2>0] = -df2 # setting values by boolean\n",
    "print(df2)"
   ]
  },
  {
   "cell_type": "markdown",
   "metadata": {
    "id": "Aq-hqW-g8ZS6"
   },
   "source": [
    "# Missing Data"
   ]
  },
  {
   "cell_type": "code",
   "execution_count": null,
   "metadata": {
    "colab": {
     "base_uri": "https://localhost:8080/"
    },
    "id": "lnMDLXm88mmi",
    "outputId": "fa819a5e-c329-4f20-f0e1-53499801b168"
   },
   "outputs": [
    {
     "name": "stdout",
     "output_type": "stream",
     "text": [
      "                   A         B         C  D    F    E\n",
      "2013-01-01  0.000000  0.000000  0.087447  5  NaN  1.0\n",
      "2013-01-02  0.681543 -1.390976  2.013105  5  1.0  1.0\n",
      "2013-01-03  1.017911  0.033224 -0.103912  5  2.0  NaN\n",
      "2013-01-04 -0.450437  0.501915  1.003776  5  3.0  NaN\n"
     ]
    }
   ],
   "source": [
    "df1 = df.reindex(index=dates[0:4], columns=list(df.columns) + [\"E\"])\n",
    "df1.loc[dates[0] : dates[1], \"E\"] = 1\n",
    "print(df1)"
   ]
  },
  {
   "cell_type": "code",
   "execution_count": null,
   "metadata": {
    "colab": {
     "base_uri": "https://localhost:8080/"
    },
    "id": "d7D5w7g99BLq",
    "outputId": "0223ddf4-ab03-444e-868b-f277e24577d5"
   },
   "outputs": [
    {
     "name": "stdout",
     "output_type": "stream",
     "text": [
      "                   A         B         C  D    F    E\n",
      "2013-01-02  0.681543 -1.390976  2.013105  5  1.0  1.0\n",
      "\n",
      "                   A         B         C  D    F    E\n",
      "2013-01-01  0.000000  0.000000  0.087447  5  NaN  1.0\n",
      "2013-01-02  0.681543 -1.390976  2.013105  5  1.0  1.0\n",
      "2013-01-03  1.017911  0.033224 -0.103912  5  2.0  NaN\n",
      "2013-01-04 -0.450437  0.501915  1.003776  5  3.0  NaN\n"
     ]
    }
   ],
   "source": [
    "print(df1.dropna(how=\"any\")) # how=\"any\" (default) : where any NA values are present\n",
    "print()\n",
    "print(df1.dropna(how=\"all\")) # how=\"all\" : where all values are NA"
   ]
  },
  {
   "cell_type": "code",
   "execution_count": null,
   "metadata": {
    "colab": {
     "base_uri": "https://localhost:8080/"
    },
    "id": "AUzHQ3Bx-77y",
    "outputId": "e122d74f-f234-41a2-85eb-33d6802deb21"
   },
   "outputs": [
    {
     "name": "stdout",
     "output_type": "stream",
     "text": [
      "                A      B      C      D      F      E\n",
      "2013-01-01  False  False  False  False   True  False\n",
      "2013-01-02  False  False  False  False  False  False\n",
      "2013-01-03  False  False  False  False  False   True\n",
      "2013-01-04  False  False  False  False  False   True\n",
      "\n",
      "                   A         B         C  D    F    E\n",
      "2013-01-01  0.000000  0.000000  0.087447  5  5.0  1.0\n",
      "2013-01-02  0.681543 -1.390976  2.013105  5  1.0  1.0\n",
      "2013-01-03  1.017911  0.033224 -0.103912  5  2.0  5.0\n",
      "2013-01-04 -0.450437  0.501915  1.003776  5  3.0  5.0\n"
     ]
    }
   ],
   "source": [
    "print(pd.isna(df1))\n",
    "print()\n",
    "print(df1.fillna(value=5))"
   ]
  },
  {
   "cell_type": "markdown",
   "metadata": {
    "id": "1-kmP6QS_aM0"
   },
   "source": [
    "# Operations"
   ]
  },
  {
   "cell_type": "markdown",
   "metadata": {
    "id": "2ZgJbc6n_b38"
   },
   "source": [
    "## Stats"
   ]
  },
  {
   "cell_type": "code",
   "execution_count": null,
   "metadata": {
    "colab": {
     "base_uri": "https://localhost:8080/"
    },
    "id": "bSykANMY_PlM",
    "outputId": "c0131176-e658-41d8-97d3-4aaae21ab34e"
   },
   "outputs": [
    {
     "name": "stdout",
     "output_type": "stream",
     "text": [
      "axis 0 :\n",
      "A    0.527531\n",
      "B   -0.242378\n",
      "C   -0.058078\n",
      "D    5.000000\n",
      "F    3.000000\n",
      "dtype: float64\n",
      "\n",
      "axis 1 :\n",
      "2013-01-01    1.271862\n",
      "2013-01-02    1.460734\n",
      "2013-01-03    1.589444\n",
      "2013-01-04    1.811051\n",
      "2013-01-05    1.850086\n",
      "2013-01-06    1.543685\n",
      "Freq: D, dtype: float64\n"
     ]
    }
   ],
   "source": [
    "print(\"axis 0 :\")\n",
    "print(df.mean())\n",
    "print()\n",
    "print(\"axis 1 :\")\n",
    "print(df.mean(1))"
   ]
  },
  {
   "cell_type": "code",
   "execution_count": null,
   "metadata": {
    "colab": {
     "base_uri": "https://localhost:8080/"
    },
    "id": "BQgStQw4Bw9E",
    "outputId": "e4c8aa8e-2e12-4a61-c746-99c3d7b57a00"
   },
   "outputs": [
    {
     "name": "stdout",
     "output_type": "stream",
     "text": [
      "                   A         B         C  D    F\n",
      "2013-01-01  0.000000  0.000000  0.087447  5  NaN\n",
      "2013-01-02  0.681543 -1.390976  2.013105  5  1.0\n",
      "2013-01-03  1.017911  0.033224 -0.103912  5  2.0\n",
      "2013-01-04 -0.450437  0.501915  1.003776  5  3.0\n",
      "2013-01-05  1.633764  0.324234 -1.707570  5  4.0\n",
      "2013-01-06  0.282402 -0.922663 -1.641314  5  5.0\n",
      "\n",
      "2013-01-01    NaN\n",
      "2013-01-02    NaN\n",
      "2013-01-03    1.0\n",
      "2013-01-04    3.0\n",
      "2013-01-05    4.0\n",
      "2013-01-06    NaN\n",
      "Freq: D, dtype: float64\n",
      "\n",
      "                   A         B         C    D    F\n",
      "2013-01-01       NaN       NaN       NaN  NaN  NaN\n",
      "2013-01-02       NaN       NaN       NaN  NaN  NaN\n",
      "2013-01-03  0.017911 -0.966776 -1.103912  4.0  1.0\n",
      "2013-01-04 -3.450437 -2.498085 -1.996224  2.0  0.0\n",
      "2013-01-05 -2.366236 -3.675766 -5.707570  1.0  0.0\n",
      "2013-01-06       NaN       NaN       NaN  NaN  NaN\n"
     ]
    }
   ],
   "source": [
    "print(df)\n",
    "print()\n",
    "s = pd.Series([1, 3, 4, np.nan, 6, 8], index=dates).shift(2)\n",
    "print(s)\n",
    "print()\n",
    "print(df.sub(s, axis=0)) # equivalent to (dataframe - other)"
   ]
  },
  {
   "cell_type": "markdown",
   "metadata": {
    "id": "3BMNohVyDgIi"
   },
   "source": [
    "## Apply"
   ]
  },
  {
   "cell_type": "code",
   "execution_count": null,
   "metadata": {
    "colab": {
     "base_uri": "https://localhost:8080/"
    },
    "id": "RNnye2vbDhnr",
    "outputId": "208f1c06-4725-45e6-ec5a-bb581d46af5c"
   },
   "outputs": [
    {
     "name": "stdout",
     "output_type": "stream",
     "text": [
      "                   A         B         C   D     F\n",
      "2013-01-01  0.000000  0.000000  0.087447   5   NaN\n",
      "2013-01-02  0.681543 -1.390976  2.100552  10   1.0\n",
      "2013-01-03  1.699454 -1.357753  1.996640  15   3.0\n",
      "2013-01-04  1.249017 -0.855837  3.000416  20   6.0\n",
      "2013-01-05  2.882781 -0.531603  1.292846  25  10.0\n",
      "2013-01-06  3.165183 -1.454266 -0.348468  30  15.0\n"
     ]
    }
   ],
   "source": [
    "print(df.apply(np.cumsum))"
   ]
  },
  {
   "cell_type": "code",
   "execution_count": null,
   "metadata": {
    "colab": {
     "base_uri": "https://localhost:8080/"
    },
    "id": "wI4gDa9aRJAB",
    "outputId": "4f0dd363-d643-42cd-edc8-7a13c866715d"
   },
   "outputs": [
    {
     "name": "stdout",
     "output_type": "stream",
     "text": [
      "A    2.084201\n",
      "B    1.892892\n",
      "C    3.720675\n",
      "D    0.000000\n",
      "F    4.000000\n",
      "dtype: float64\n"
     ]
    }
   ],
   "source": [
    "print(df.apply(lambda x: x.max() - x.min()))"
   ]
  },
  {
   "cell_type": "markdown",
   "metadata": {
    "id": "VnrddZT9RZML"
   },
   "source": [
    "## Histogramming"
   ]
  },
  {
   "cell_type": "code",
   "execution_count": null,
   "metadata": {
    "colab": {
     "base_uri": "https://localhost:8080/"
    },
    "id": "w3pXMjUnRbBe",
    "outputId": "573f1b48-8c9d-4c7f-a0af-2361a4187ac6"
   },
   "outputs": [
    {
     "name": "stdout",
     "output_type": "stream",
     "text": [
      "0    1\n",
      "1    6\n",
      "2    5\n",
      "3    1\n",
      "4    1\n",
      "5    3\n",
      "6    2\n",
      "7    1\n",
      "8    1\n",
      "9    6\n",
      "dtype: int64\n",
      "\n",
      "1    5\n",
      "6    2\n",
      "5    1\n",
      "3    1\n",
      "2    1\n",
      "dtype: int64\n"
     ]
    }
   ],
   "source": [
    "s = pd.Series(np.random.randint(0, 7, size=10))\n",
    "print(s)\n",
    "print()\n",
    "print(s.value_counts())"
   ]
  },
  {
   "cell_type": "markdown",
   "metadata": {
    "id": "ARbKOgRd-pvO"
   },
   "source": [
    "## String Methods"
   ]
  },
  {
   "cell_type": "code",
   "execution_count": null,
   "metadata": {
    "colab": {
     "base_uri": "https://localhost:8080/"
    },
    "id": "Jtxf-7sD-pRI",
    "outputId": "de9a1b22-84d2-4eed-ba57-ddf564c76e83"
   },
   "outputs": [
    {
     "name": "stdout",
     "output_type": "stream",
     "text": [
      "0       a\n",
      "1    aaba\n",
      "2     NaN\n",
      "3    caba\n",
      "4     cat\n",
      "dtype: object\n",
      "\n",
      "0       A\n",
      "1    AABA\n",
      "2     NaN\n",
      "3    CABA\n",
      "4     CAT\n",
      "dtype: object\n"
     ]
    }
   ],
   "source": [
    "s = pd.Series([\"A\",\"Aaba\", np.nan, \"CABA\", \"cat\"])\n",
    "print(s.str.lower())\n",
    "print()\n",
    "print(s.str.upper())"
   ]
  },
  {
   "cell_type": "markdown",
   "metadata": {
    "id": "LBq2U5T7_PM2"
   },
   "source": [
    "# Merge"
   ]
  },
  {
   "cell_type": "markdown",
   "metadata": {
    "id": "N9vkXt9R_Rxz"
   },
   "source": [
    "## Concat\n",
    "- combining together Series and DataFrame objects"
   ]
  },
  {
   "cell_type": "code",
   "execution_count": null,
   "metadata": {
    "colab": {
     "base_uri": "https://localhost:8080/"
    },
    "id": "kPLzw7EU_S-F",
    "outputId": "51a14566-ef4d-4b78-f884-89176d8bb1b1"
   },
   "outputs": [
    {
     "name": "stdout",
     "output_type": "stream",
     "text": [
      "          0         1         2         3\n",
      "0 -0.146700  1.278642  1.837775  0.644873\n",
      "1 -0.332040  1.597295 -0.681229 -1.238212\n",
      "2  0.751823  1.117058 -0.453366  0.953989\n",
      "3  0.074173 -1.043050  0.276312  0.926186\n",
      "4 -0.090674  1.679349  2.130480  0.950658\n",
      "5  0.483778 -0.330530  0.370747  0.569736\n",
      "6 -0.603331  2.363939 -0.052191  0.186119\n",
      "7 -2.002784 -1.237193 -1.876920 -0.876104\n",
      "8  1.121755 -0.104830 -1.675228  1.250540\n",
      "9  0.008456 -1.287063  0.070528 -0.642563\n"
     ]
    }
   ],
   "source": [
    "df = pd.DataFrame(np.random.randn(10,4))\n",
    "print(df)"
   ]
  },
  {
   "cell_type": "code",
   "execution_count": null,
   "metadata": {
    "colab": {
     "base_uri": "https://localhost:8080/"
    },
    "id": "Tr4OCgK6_chA",
    "outputId": "929d21cf-dba1-40f8-e67d-0e9ba65342bd"
   },
   "outputs": [
    {
     "name": "stdout",
     "output_type": "stream",
     "text": [
      "[          0         1         2         3\n",
      "0 -0.146700  1.278642  1.837775  0.644873\n",
      "1 -0.332040  1.597295 -0.681229 -1.238212\n",
      "2  0.751823  1.117058 -0.453366  0.953989,           0         1         2         3\n",
      "3  0.074173 -1.043050  0.276312  0.926186\n",
      "4 -0.090674  1.679349  2.130480  0.950658\n",
      "5  0.483778 -0.330530  0.370747  0.569736\n",
      "6 -0.603331  2.363939 -0.052191  0.186119,           0         1         2         3\n",
      "7 -2.002784 -1.237193 -1.876920 -0.876104\n",
      "8  1.121755 -0.104830 -1.675228  1.250540\n",
      "9  0.008456 -1.287063  0.070528 -0.642563]\n",
      "\n",
      "          0         1         2         3\n",
      "0 -0.146700  1.278642  1.837775  0.644873\n",
      "1 -0.332040  1.597295 -0.681229 -1.238212\n",
      "2  0.751823  1.117058 -0.453366  0.953989\n",
      "3  0.074173 -1.043050  0.276312  0.926186\n",
      "4 -0.090674  1.679349  2.130480  0.950658\n",
      "5  0.483778 -0.330530  0.370747  0.569736\n",
      "6 -0.603331  2.363939 -0.052191  0.186119\n",
      "7 -2.002784 -1.237193 -1.876920 -0.876104\n",
      "8  1.121755 -0.104830 -1.675228  1.250540\n",
      "9  0.008456 -1.287063  0.070528 -0.642563\n"
     ]
    }
   ],
   "source": [
    "pieces = [df[:3], df[3:7], df[7:]]\n",
    "print(pieces)\n",
    "print()\n",
    "print(pd.concat(pieces)) # Concatenating objects together"
   ]
  },
  {
   "cell_type": "markdown",
   "metadata": {
    "id": "L4s92tAhBMk4"
   },
   "source": [
    "## Join\n",
    "- SQL style merging"
   ]
  },
  {
   "cell_type": "code",
   "execution_count": null,
   "metadata": {
    "colab": {
     "base_uri": "https://localhost:8080/"
    },
    "id": "yzcjI6-oBKhu",
    "outputId": "626fa368-ac84-4c97-e54d-999a36dfb256"
   },
   "outputs": [
    {
     "name": "stdout",
     "output_type": "stream",
     "text": [
      "   key  lval\n",
      "0  foo     1\n",
      "1  foo     2\n",
      "\n",
      "   key  rval\n",
      "0  foo     4\n",
      "1  foo     5\n",
      "\n",
      "   key  lval  rval\n",
      "0  foo     1     4\n",
      "1  foo     1     5\n",
      "2  foo     2     4\n",
      "3  foo     2     5\n"
     ]
    }
   ],
   "source": [
    "left = pd.DataFrame({'key':['foo', 'foo'], 'lval':[1, 2]})\n",
    "right = pd.DataFrame({'key':['foo', 'foo'], 'rval':[4, 5]})\n",
    "print(left)\n",
    "print()\n",
    "print(right)\n",
    "print()\n",
    "print(pd.merge(left, right, on='key'))"
   ]
  },
  {
   "cell_type": "code",
   "execution_count": null,
   "metadata": {
    "colab": {
     "base_uri": "https://localhost:8080/"
    },
    "id": "LTbh2KB3Chns",
    "outputId": "5d206317-e2cd-4670-81b3-7abb69ecdfb3"
   },
   "outputs": [
    {
     "name": "stdout",
     "output_type": "stream",
     "text": [
      "   key  lval\n",
      "0  foo     1\n",
      "1  bar     2\n",
      "\n",
      "   key  rval\n",
      "0  foo     4\n",
      "1  bar     5\n",
      "\n",
      "   key  lval  rval\n",
      "0  foo     1     4\n",
      "1  bar     2     5\n"
     ]
    }
   ],
   "source": [
    "left = pd.DataFrame({'key':['foo', 'bar'], 'lval':[1, 2]})\n",
    "right = pd.DataFrame({'key':['foo', 'bar'], 'rval':[4, 5]})\n",
    "print(left)\n",
    "print()\n",
    "print(right)\n",
    "print()\n",
    "print(pd.merge(left, right, on='key'))"
   ]
  },
  {
   "cell_type": "markdown",
   "metadata": {
    "id": "t2g60Z3zItXy"
   },
   "source": [
    "## Append"
   ]
  },
  {
   "cell_type": "code",
   "execution_count": null,
   "metadata": {
    "colab": {
     "base_uri": "https://localhost:8080/"
    },
    "id": "zEIcQCsQIsvW",
    "outputId": "0476c8e0-5f86-49d6-c667-d4699eea71bd"
   },
   "outputs": [
    {
     "name": "stdout",
     "output_type": "stream",
     "text": [
      "          A         B         C         D\n",
      "0  0.120201 -0.286267 -0.205740  1.107503\n",
      "1 -0.818479 -0.059564  0.192151  1.920259\n",
      "2  0.687467 -0.833330 -0.426913  0.852926\n",
      "3 -1.103335  0.213012  1.003000 -0.648385\n",
      "4 -0.576006  1.414470  0.851227 -0.277232\n",
      "5  0.189853  0.311170 -0.448372 -0.201059\n",
      "6  1.707547  0.099129 -1.332999  0.478148\n",
      "7  1.153861  1.831233  0.125928 -1.330353\n"
     ]
    }
   ],
   "source": [
    "df = pd.DataFrame(np.random.randn(8, 4), columns=['A', 'B', 'C', 'D'])\n",
    "print(df)"
   ]
  },
  {
   "cell_type": "code",
   "execution_count": null,
   "metadata": {
    "colab": {
     "base_uri": "https://localhost:8080/"
    },
    "id": "DIN3Q7-8I1Vq",
    "outputId": "b235a5c3-b41a-4ff6-d198-208d6884d42e"
   },
   "outputs": [
    {
     "name": "stdout",
     "output_type": "stream",
     "text": [
      "          A         B         C         D\n",
      "0  0.120201 -0.286267 -0.205740  1.107503\n",
      "1 -0.818479 -0.059564  0.192151  1.920259\n",
      "2  0.687467 -0.833330 -0.426913  0.852926\n",
      "3 -1.103335  0.213012  1.003000 -0.648385\n",
      "4 -0.576006  1.414470  0.851227 -0.277232\n",
      "5  0.189853  0.311170 -0.448372 -0.201059\n",
      "6  1.707547  0.099129 -1.332999  0.478148\n",
      "7  1.153861  1.831233  0.125928 -1.330353\n",
      "8 -1.103335  0.213012  1.003000 -0.648385\n"
     ]
    }
   ],
   "source": [
    "s = df.iloc[3]\n",
    "print(df.append(s, ignore_index=True))"
   ]
  },
  {
   "cell_type": "markdown",
   "metadata": {
    "id": "EfzN2_hUC5Yl"
   },
   "source": [
    "# Grouping\n",
    "- Splitting the data into groups based on some criteria\n",
    "- Applying a function to each group independently\n",
    "- Combining the results into a data structure"
   ]
  },
  {
   "cell_type": "code",
   "execution_count": null,
   "metadata": {
    "colab": {
     "base_uri": "https://localhost:8080/"
    },
    "id": "wOs1mEA9C3sF",
    "outputId": "de768f05-44d0-4915-fc30-d35d43d9ab89"
   },
   "outputs": [
    {
     "name": "stdout",
     "output_type": "stream",
     "text": [
      "     A      B         C         D\n",
      "0  foo    one  0.031321 -0.238988\n",
      "1  bar    one -0.626332 -0.445851\n",
      "2  foo    two -1.448981  1.262838\n",
      "3  bar  three -0.424664 -0.639157\n",
      "4  foo    two  1.547849  2.378992\n",
      "5  bar    two -0.351304 -0.521492\n",
      "6  foo    one -1.903777  1.998802\n",
      "7  foo  three -0.613947 -0.422391\n"
     ]
    }
   ],
   "source": [
    "df = pd.DataFrame(\n",
    "    {\n",
    "        \"A\": [\"foo\", \"bar\", \"foo\", \"bar\", \"foo\", \"bar\", \"foo\", \"foo\"],\n",
    "        \"B\": [\"one\", \"one\", \"two\", \"three\", \"two\", \"two\", \"one\", \"three\"],\n",
    "        \"C\": np.random.randn(8),\n",
    "        \"D\": np.random.randn(8),\n",
    "    }\n",
    ")\n",
    "print(df)"
   ]
  },
  {
   "cell_type": "code",
   "execution_count": null,
   "metadata": {
    "colab": {
     "base_uri": "https://localhost:8080/"
    },
    "id": "xrlDt2oeDQMb",
    "outputId": "7640afed-f3e9-4b19-d939-2431ae0ae959"
   },
   "outputs": [
    {
     "name": "stdout",
     "output_type": "stream",
     "text": [
      "            C         D\n",
      "A                      \n",
      "bar -1.402300 -1.606500\n",
      "foo -2.387536  4.979252\n"
     ]
    }
   ],
   "source": [
    "print(df.groupby(\"A\").sum())"
   ]
  },
  {
   "cell_type": "code",
   "execution_count": null,
   "metadata": {
    "colab": {
     "base_uri": "https://localhost:8080/"
    },
    "id": "bPfj07P4DW5F",
    "outputId": "92a2a02a-7c7c-4541-e094-a4a6b71aa8c0"
   },
   "outputs": [
    {
     "name": "stdout",
     "output_type": "stream",
     "text": [
      "                  C         D\n",
      "A   B                        \n",
      "bar one   -0.626332 -0.445851\n",
      "    three -0.424664 -0.639157\n",
      "    two   -0.351304 -0.521492\n",
      "foo one   -1.872457  1.759814\n",
      "    three -0.613947 -0.422391\n",
      "    two    0.098868  3.641830\n"
     ]
    }
   ],
   "source": [
    "print(df.groupby([\"A\",\"B\"]).sum())"
   ]
  },
  {
   "cell_type": "code",
   "execution_count": null,
   "metadata": {
    "colab": {
     "base_uri": "https://localhost:8080/"
    },
    "id": "CCUPjrrnDePz",
    "outputId": "854aa0c4-8e09-4259-dc8c-a4895742ee30"
   },
   "outputs": [
    {
     "name": "stdout",
     "output_type": "stream",
     "text": [
      "              C_min     C_max\n",
      "A   B                        \n",
      "bar one   -0.626332 -0.626332\n",
      "    three -0.424664 -0.424664\n",
      "    two   -0.351304 -0.351304\n",
      "foo one   -1.903777  0.031321\n",
      "    three -0.613947 -0.613947\n",
      "    two   -1.448981  1.547849\n"
     ]
    }
   ],
   "source": [
    "df_min = df.groupby([\"A\",\"B\"])[\"C\"].min()\n",
    "df_max = df.groupby([\"A\",\"B\"])[\"C\"].max()\n",
    "\n",
    "print(pd.merge(df_min, df_max, on=['A',\"B\"], suffixes=('_min', '_max')))"
   ]
  },
  {
   "cell_type": "markdown",
   "metadata": {
    "id": "hpiPKrCoE7uM"
   },
   "source": [
    "# Reshaping"
   ]
  },
  {
   "cell_type": "markdown",
   "metadata": {
    "id": "OVoHhQpHE9W2"
   },
   "source": [
    "## Stack\n",
    "- stack() : Compress a level in the DataFrame's columns:"
   ]
  },
  {
   "cell_type": "code",
   "execution_count": null,
   "metadata": {
    "colab": {
     "base_uri": "https://localhost:8080/"
    },
    "id": "98pdm_PDE6_g",
    "outputId": "3be726be-ee53-453a-85d3-f4703fb5a8b8"
   },
   "outputs": [
    {
     "name": "stdout",
     "output_type": "stream",
     "text": [
      "                    A         B\n",
      "idx_1 idx_2                    \n",
      "bar   one   -0.748802  0.560048\n",
      "      two   -0.214015 -0.658540\n",
      "baz   one   -1.968829 -0.806776\n",
      "      two   -1.314742 -0.174498\n"
     ]
    }
   ],
   "source": [
    "tuples = list(\n",
    "    zip(\n",
    "        *[\n",
    "            [\"bar\", \"bar\", \"baz\", \"baz\", \"foo\", \"foo\", \"qux\", \"qux\"],\n",
    "            [\"one\", \"two\", \"one\", \"two\", \"one\", \"two\", \"one\", \"two\"],\n",
    "        ]\n",
    "    )\n",
    ")\n",
    "\n",
    "index = pd.MultiIndex.from_tuples(tuples, names=[\"idx_1\", \"idx_2\"])\n",
    "df = pd.DataFrame(np.random.randn(8,2), index=index, columns=[\"A\",\"B\"])\n",
    "df2 = df[:4]\n",
    "\n",
    "print(df2)"
   ]
  },
  {
   "cell_type": "code",
   "execution_count": null,
   "metadata": {
    "colab": {
     "base_uri": "https://localhost:8080/"
    },
    "id": "kqxSgXmSHIVB",
    "outputId": "90fcfcbf-1c3a-4687-d298-cbd8e28cd2d4"
   },
   "outputs": [
    {
     "name": "stdout",
     "output_type": "stream",
     "text": [
      "idx_1  idx_2   \n",
      "bar    one    A   -0.748802\n",
      "              B    0.560048\n",
      "       two    A   -0.214015\n",
      "              B   -0.658540\n",
      "baz    one    A   -1.968829\n",
      "              B   -0.806776\n",
      "       two    A   -1.314742\n",
      "              B   -0.174498\n",
      "dtype: float64\n"
     ]
    }
   ],
   "source": [
    "stacked = df2.stack()\n",
    "print(stacked) # level: idx_1 > idx_2 > columns"
   ]
  },
  {
   "cell_type": "markdown",
   "metadata": {
    "id": "csDf_xS1HNDS"
   },
   "source": [
    "- unstack() : the inverse operation of stack()"
   ]
  },
  {
   "cell_type": "code",
   "execution_count": null,
   "metadata": {
    "colab": {
     "base_uri": "https://localhost:8080/"
    },
    "id": "wHj48a3QHMkW",
    "outputId": "98cb5a38-59dc-4d04-84ce-2a04f1fed664"
   },
   "outputs": [
    {
     "name": "stdout",
     "output_type": "stream",
     "text": [
      "                    A         B\n",
      "idx_1 idx_2                    \n",
      "bar   one   -0.748802  0.560048\n",
      "      two   -0.214015 -0.658540\n",
      "baz   one   -1.968829 -0.806776\n",
      "      two   -1.314742 -0.174498\n",
      "\n",
      "idx_1         bar       baz\n",
      "idx_2                      \n",
      "one   A -0.748802 -1.968829\n",
      "      B  0.560048 -0.806776\n",
      "two   A -0.214015 -1.314742\n",
      "      B -0.658540 -0.174498\n",
      "\n",
      "idx_2         one       two\n",
      "idx_1                      \n",
      "bar   A -0.748802 -0.214015\n",
      "      B  0.560048 -0.658540\n",
      "baz   A -1.968829 -1.314742\n",
      "      B -0.806776 -0.174498\n"
     ]
    }
   ],
   "source": [
    "print(stacked.unstack()) # columns(last level) / default -1\n",
    "print()\n",
    "print(stacked.unstack(0)) # idx_1 \n",
    "print()\n",
    "print(stacked.unstack(1)) # idx_2"
   ]
  },
  {
   "cell_type": "markdown",
   "metadata": {
    "id": "-haML-U6Kgck"
   },
   "source": [
    "## Pivot Table"
   ]
  },
  {
   "cell_type": "code",
   "execution_count": null,
   "metadata": {
    "colab": {
     "base_uri": "https://localhost:8080/"
    },
    "id": "l11ZLq0oKf-C",
    "outputId": "697607e1-d794-42c4-aebb-8099354472d2"
   },
   "outputs": [
    {
     "name": "stdout",
     "output_type": "stream",
     "text": [
      "        A   B    C         D         E\n",
      "0     one  aa  foo  1.055556 -0.342298\n",
      "1     one  bb  foo -0.463657 -0.004332\n",
      "2     two  cc  foo  0.953746  0.690613\n",
      "3   three  aa  bar -0.980697  0.498251\n",
      "4     one  bb  bar -0.352120 -0.503475\n",
      "5     one  cc  bar  0.298470 -1.316212\n",
      "6     two  aa  foo  0.580929  0.483970\n",
      "7   three  bb  foo  0.391527  0.200354\n",
      "8     one  cc  foo -1.314898 -1.183403\n",
      "9     one  aa  bar -0.058855 -0.004713\n",
      "10    two  bb  bar -0.253133  1.255313\n",
      "11  three  cc  bar  0.882602  0.561369\n"
     ]
    }
   ],
   "source": [
    "df = pd.DataFrame(\n",
    "    {\n",
    "        \"A\": [\"one\", \"one\", \"two\", \"three\"] * 3,\n",
    "        \"B\": [\"aa\", \"bb\", \"cc\"] * 4,\n",
    "        \"C\": [\"foo\", \"foo\", \"foo\", \"bar\", \"bar\", \"bar\"] * 2,\n",
    "        \"D\": np.random.randn(12),\n",
    "        \"E\": np.random.randn(12),\n",
    "    }\n",
    ")\n",
    "print(df)"
   ]
  },
  {
   "cell_type": "code",
   "execution_count": null,
   "metadata": {
    "colab": {
     "base_uri": "https://localhost:8080/"
    },
    "id": "W3yL-I7wKmp4",
    "outputId": "d3be46ad-f4dc-4670-9799-4c6095059238"
   },
   "outputs": [
    {
     "name": "stdout",
     "output_type": "stream",
     "text": [
      "C              bar       foo\n",
      "A     B                     \n",
      "one   aa -0.058855  1.055556\n",
      "      bb -0.352120 -0.463657\n",
      "      cc  0.298470 -1.314898\n",
      "three aa -0.980697       NaN\n",
      "      bb       NaN  0.391527\n",
      "      cc  0.882602       NaN\n",
      "two   aa       NaN  0.580929\n",
      "      bb -0.253133       NaN\n",
      "      cc       NaN  0.953746\n"
     ]
    }
   ],
   "source": [
    "print(pd.pivot_table(df, values=\"D\", index=[\"A\",\"B\"], columns=\"C\"))"
   ]
  },
  {
   "cell_type": "markdown",
   "metadata": {
    "id": "sErOCu5EK-pJ"
   },
   "source": [
    "# Time Series"
   ]
  },
  {
   "cell_type": "code",
   "execution_count": null,
   "metadata": {
    "colab": {
     "base_uri": "https://localhost:8080/"
    },
    "id": "1RGq3DFNK5VM",
    "outputId": "f49c5726-452a-4a82-ec72-237d5f45f257"
   },
   "outputs": [
    {
     "name": "stdout",
     "output_type": "stream",
     "text": [
      "2022-01-01    192\n",
      "Freq: 5T, dtype: int64\n",
      "2022-01-01    304\n",
      "Freq: 5T, dtype: int64\n",
      "2022-01-01    26586\n",
      "Freq: 5T, dtype: int64\n"
     ]
    }
   ],
   "source": [
    "rng = pd.date_range(\"1/1/2022\", periods=100, freq=\"S\") # secondly frequency\n",
    "ts = pd.Series(np.random.randint(0,500,len(rng)), index=rng)\n",
    "print(ts.resample(\"5Min\").first())\n",
    "print(ts.resample(\"5Min\").last())\n",
    "print(ts.resample(\"5Min\").sum())"
   ]
  },
  {
   "cell_type": "code",
   "execution_count": null,
   "metadata": {
    "colab": {
     "base_uri": "https://localhost:8080/"
    },
    "id": "3Q0nTlCcjTQ2",
    "outputId": "a07f9a5a-7904-49f4-c3fd-e06fd2118357"
   },
   "outputs": [
    {
     "name": "stdout",
     "output_type": "stream",
     "text": [
      "2021-03-06   -1.465806\n",
      "2021-03-07    0.938092\n",
      "2021-03-08    2.811226\n",
      "2021-03-09   -0.186533\n",
      "2021-03-10   -1.048929\n",
      "Freq: D, dtype: float64\n"
     ]
    }
   ],
   "source": [
    "rng = pd.date_range(\"3/6/2021 00:00\", periods=5, freq=\"D\") # daily frequency\n",
    "ts = pd.Series(np.random.randn(len(rng)), rng)\n",
    "print(ts)"
   ]
  },
  {
   "cell_type": "code",
   "execution_count": null,
   "metadata": {
    "colab": {
     "base_uri": "https://localhost:8080/"
    },
    "id": "ja28o1jBmAzK",
    "outputId": "99f021b4-0a4e-4431-bb42-d5b58ddfefc7"
   },
   "outputs": [
    {
     "name": "stdout",
     "output_type": "stream",
     "text": [
      "UTC :\n",
      "2021-03-06 00:00:00+00:00   -1.465806\n",
      "2021-03-07 00:00:00+00:00    0.938092\n",
      "2021-03-08 00:00:00+00:00    2.811226\n",
      "2021-03-09 00:00:00+00:00   -0.186533\n",
      "2021-03-10 00:00:00+00:00   -1.048929\n",
      "Freq: D, dtype: float64\n",
      "\n",
      "US/Eastern :\n",
      "2021-03-05 19:00:00-05:00   -1.465806\n",
      "2021-03-06 19:00:00-05:00    0.938092\n",
      "2021-03-07 19:00:00-05:00    2.811226\n",
      "2021-03-08 19:00:00-05:00   -0.186533\n",
      "2021-03-09 19:00:00-05:00   -1.048929\n",
      "Freq: D, dtype: float64\n"
     ]
    }
   ],
   "source": [
    "ts_utc = ts.tz_localize(\"UTC\") # UTC timezone\n",
    "print(\"UTC :\")\n",
    "print(ts_utc)\n",
    "print(\"\\nUS/Eastern :\")\n",
    "print(ts_utc.tz_convert(\"US/Eastern\")) # US/Eastern timezone"
   ]
  },
  {
   "cell_type": "code",
   "execution_count": null,
   "metadata": {
    "colab": {
     "base_uri": "https://localhost:8080/"
    },
    "id": "oEHM8_UemPM8",
    "outputId": "12bda60f-a337-4b1e-8ae4-d602c38ecc0f"
   },
   "outputs": [
    {
     "name": "stdout",
     "output_type": "stream",
     "text": [
      "2022-01-31    0.438135\n",
      "2022-02-28   -0.052516\n",
      "2022-03-31   -1.491175\n",
      "2022-04-30    0.708521\n",
      "2022-05-31   -1.794057\n",
      "Freq: M, dtype: float64\n",
      "DatetimeIndex(['2022-01-31', '2022-02-28', '2022-03-31', '2022-04-30',\n",
      "               '2022-05-31'],\n",
      "              dtype='datetime64[ns]', freq='M')\n",
      "\n",
      "2022-01    0.438135\n",
      "2022-02   -0.052516\n",
      "2022-03   -1.491175\n",
      "2022-04    0.708521\n",
      "2022-05   -1.794057\n",
      "Freq: M, dtype: float64\n",
      "PeriodIndex(['2022-01', '2022-02', '2022-03', '2022-04', '2022-05'], dtype='period[M]')\n",
      "\n",
      "2022-01-01    0.438135\n",
      "2022-02-01   -0.052516\n",
      "2022-03-01   -1.491175\n",
      "2022-04-01    0.708521\n",
      "2022-05-01   -1.794057\n",
      "Freq: MS, dtype: float64\n"
     ]
    }
   ],
   "source": [
    "rng = pd.date_range(\"1/1/2022\", periods=5, freq=\"M\")\n",
    "ts = pd.Series(np.random.randn(len(rng)), index=rng)\n",
    "print(ts) # DatetimeIndex\n",
    "print()\n",
    "ps = ts.to_period()\n",
    "print(ps) # PeriodIndex\n",
    "print()\n",
    "print(ps.to_timestamp())"
   ]
  },
  {
   "cell_type": "code",
   "execution_count": null,
   "metadata": {
    "colab": {
     "base_uri": "https://localhost:8080/"
    },
    "id": "sZqqEyBjoMi2",
    "outputId": "7e075a42-76f7-44c4-ab5f-1ccfc20e3874"
   },
   "outputs": [
    {
     "name": "stdout",
     "output_type": "stream",
     "text": [
      "1990Q1    1.479314\n",
      "1990Q2    0.799696\n",
      "1990Q3    0.148978\n",
      "1990Q4   -0.571086\n",
      "1991Q1    1.908509\n",
      "Freq: Q-NOV, dtype: float64\n",
      "\n",
      "1990-03-01 09:00    1.479314\n",
      "1990-06-01 09:00    0.799696\n",
      "1990-09-01 09:00    0.148978\n",
      "1990-12-01 09:00   -0.571086\n",
      "1991-03-01 09:00    1.908509\n",
      "Freq: H, dtype: float64\n"
     ]
    }
   ],
   "source": [
    "prng = pd.period_range(\"1990Q1\", \"2000Q4\", freq=\"Q-NOV\") # quarterly frequency\n",
    "ts = pd.Series(np.random.randn(len(prng)), prng)\n",
    "print(ts.head())\n",
    "print()\n",
    "\n",
    "# month end & hour start\n",
    "ts.index = (prng.asfreq(\"M\", \"e\") + 1).asfreq(\"H\", \"s\") + 9\n",
    "print(ts.head())"
   ]
  },
  {
   "cell_type": "markdown",
   "metadata": {
    "id": "WOCKIWu1w7Bg"
   },
   "source": [
    "# Categoricals"
   ]
  },
  {
   "cell_type": "code",
   "execution_count": null,
   "metadata": {
    "colab": {
     "base_uri": "https://localhost:8080/"
    },
    "id": "nFo8JlmOw8lF",
    "outputId": "d665cad1-2d75-44db-eb8f-a1407e4f6ba9"
   },
   "outputs": [
    {
     "name": "stdout",
     "output_type": "stream",
     "text": [
      "   id raw_grade\n",
      "0   1         a\n",
      "1   2         b\n",
      "2   3         b\n",
      "3   4         a\n",
      "4   5         a\n",
      "5   6         e\n"
     ]
    }
   ],
   "source": [
    "df = pd.DataFrame({\"id\": [1, 2, 3, 4, 5, 6],\n",
    "                   \"raw_grade\": [\"a\", \"b\", \"b\", \"a\", \"a\", \"e\"]}\n",
    ")\n",
    "print(df)"
   ]
  },
  {
   "cell_type": "code",
   "execution_count": null,
   "metadata": {
    "colab": {
     "base_uri": "https://localhost:8080/"
    },
    "id": "lSSsPpIxxM20",
    "outputId": "9baf0c2f-edb9-4f6f-b1d4-444c1f0e25fc"
   },
   "outputs": [
    {
     "data": {
      "text/plain": [
       "0    very good\n",
       "1         good\n",
       "2         good\n",
       "3    very good\n",
       "4    very good\n",
       "5     very bad\n",
       "Name: grade, dtype: category\n",
       "Categories (5, object): ['very bad', 'bad', 'medium', 'good', 'very good']"
      ]
     },
     "execution_count": 166,
     "metadata": {},
     "output_type": "execute_result"
    }
   ],
   "source": [
    "df[\"grade\"] = df[\"raw_grade\"].astype(\"category\")\n",
    "df[\"grade\"].cat.categories = [\"very good\", \"good\", \"very bad\"] # rename categories\n",
    "df[\"grade\"] = df[\"grade\"].cat.set_categories(\n",
    "    [\"very bad\", \"bad\",\"medium\",\"good\",\"very good\"]\n",
    ")\n",
    "df[\"grade\"]"
   ]
  },
  {
   "cell_type": "code",
   "execution_count": null,
   "metadata": {
    "colab": {
     "base_uri": "https://localhost:8080/"
    },
    "id": "-4NIokGoyFt6",
    "outputId": "5af3d5b1-dd8e-4484-bcf2-b68a3be1fc54"
   },
   "outputs": [
    {
     "name": "stdout",
     "output_type": "stream",
     "text": [
      "   id raw_grade      grade\n",
      "0   6         e   very bad\n",
      "1   2         b       good\n",
      "2   3         b       good\n",
      "3   1         a  very good\n",
      "4   4         a  very good\n",
      "5   5         a  very good\n"
     ]
    }
   ],
   "source": [
    "print(df.sort_values(by=\"grade\").reset_index(drop=True))"
   ]
  },
  {
   "cell_type": "code",
   "execution_count": null,
   "metadata": {
    "colab": {
     "base_uri": "https://localhost:8080/"
    },
    "id": "0ZNYpjhgzbbC",
    "outputId": "167a854a-a427-46d2-ce96-9a73f1d8af14"
   },
   "outputs": [
    {
     "name": "stdout",
     "output_type": "stream",
     "text": [
      "grade\n",
      "very bad     1\n",
      "bad          0\n",
      "medium       0\n",
      "good         2\n",
      "very good    3\n",
      "dtype: int64\n"
     ]
    }
   ],
   "source": [
    "print(df.groupby(\"grade\").size())"
   ]
  },
  {
   "cell_type": "markdown",
   "metadata": {
    "id": "ajTrybD7zk7L"
   },
   "source": [
    "# Plotting"
   ]
  },
  {
   "cell_type": "code",
   "execution_count": null,
   "metadata": {
    "colab": {
     "base_uri": "https://localhost:8080/",
     "height": 277
    },
    "id": "rptbFllCzmOF",
    "outputId": "08be93a1-ad70-42fe-addb-b2df08dfbd8d"
   },
   "outputs": [
    {
     "data": {
      "image/png": "[encoded data removed]",
      "text/plain": [
       "<Figure size 432x288 with 1 Axes>"
      ]
     },
     "metadata": {
      "needs_background": "light"
     },
     "output_type": "display_data"
    }
   ],
   "source": [
    "import matplotlib.pyplot as plt\n",
    "\n",
    "ts = pd.Series(np.random.randn(1000), index=pd.date_range(\"1/1/2010\", periods=1000))\n",
    "ts = ts.cumsum()\n",
    "ts.plot()\n",
    "plt.show()"
   ]
  },
  {
   "cell_type": "code",
   "execution_count": null,
   "metadata": {
    "colab": {
     "base_uri": "https://localhost:8080/",
     "height": 280
    },
    "id": "DwN4s9BJB5Rg",
    "outputId": "70c045d2-7132-451a-98b6-81368011253a"
   },
   "outputs": [
    {
     "data": {
      "image/png": "[encoded data removed]",
      "text/plain": [
       "<Figure size 432x288 with 1 Axes>"
      ]
     },
     "metadata": {
      "needs_background": "light"
     },
     "output_type": "display_data"
    }
   ],
   "source": [
    "df = pd.DataFrame(np.random.randn(1000,4), index=ts.index, columns=[\"A\",\"B\",\"C\",\"D\"])\n",
    "df = df.cumsum()\n",
    "df.plot()\n",
    "plt.legend(loc='best')\n",
    "plt.show()"
   ]
  },
  {
   "cell_type": "markdown",
   "metadata": {
    "id": "yIXIVwy3CgqP"
   },
   "source": [
    "# Getting data in/out"
   ]
  },
  {
   "cell_type": "markdown",
   "metadata": {
    "id": "YBHL7FL4Ci9X"
   },
   "source": [
    "## CSV"
   ]
  },
  {
   "cell_type": "code",
   "execution_count": null,
   "metadata": {
    "id": "C7SJRrDsLsCa"
   },
   "outputs": [],
   "source": [
    "df.to_csv(\"foo.csv\")"
   ]
  },
  {
   "cell_type": "code",
   "execution_count": null,
   "metadata": {
    "colab": {
     "base_uri": "https://localhost:8080/"
    },
    "id": "TwgllozrMPZn",
    "outputId": "f2dba80b-8267-4508-abbe-51b78f44e977"
   },
   "outputs": [
    {
     "name": "stdout",
     "output_type": "stream",
     "text": [
      "     Unnamed: 0         A          B          C          D\n",
      "0    2010-01-01  0.015846   0.025822   0.443290  -0.724835\n",
      "1    2010-01-02 -0.084776   0.330946  -0.669265  -0.949676\n",
      "2    2010-01-03  1.325583  -0.697926  -0.204375  -1.145391\n",
      "3    2010-01-04  2.293831  -2.097458  -1.260249  -0.555542\n",
      "4    2010-01-05  1.334001  -2.392123  -2.659330  -0.325232\n",
      "..          ...       ...        ...        ...        ...\n",
      "995  2012-09-22 -7.868011 -59.520981 -49.220218 -54.072522\n",
      "996  2012-09-23 -7.288884 -59.584693 -49.307716 -54.783148\n",
      "997  2012-09-24 -6.835061 -59.508180 -49.608991 -55.780242\n",
      "998  2012-09-25 -6.863802 -58.711503 -50.458917 -55.218363\n",
      "999  2012-09-26 -7.075728 -59.524064 -49.924592 -55.653215\n",
      "\n",
      "[1000 rows x 5 columns]\n"
     ]
    }
   ],
   "source": [
    "print(pd.read_csv(\"foo.csv\"))"
   ]
  },
  {
   "cell_type": "markdown",
   "metadata": {
    "id": "Og2xCbRfMZW-"
   },
   "source": [
    "## HDF5"
   ]
  },
  {
   "cell_type": "code",
   "execution_count": null,
   "metadata": {
    "id": "tzRJz6EKMX9c"
   },
   "outputs": [],
   "source": [
    "df.to_hdf(\"foo.h5\", \"df\")"
   ]
  },
  {
   "cell_type": "code",
   "execution_count": null,
   "metadata": {
    "colab": {
     "base_uri": "https://localhost:8080/"
    },
    "id": "ltEud3FwNT6X",
    "outputId": "29ef811d-cec6-4f2e-fb06-8903691dab0f"
   },
   "outputs": [
    {
     "name": "stdout",
     "output_type": "stream",
     "text": [
      "                   A          B          C          D\n",
      "2010-01-01  0.015846   0.025822   0.443290  -0.724835\n",
      "2010-01-02 -0.084776   0.330946  -0.669265  -0.949676\n",
      "2010-01-03  1.325583  -0.697926  -0.204375  -1.145391\n",
      "2010-01-04  2.293831  -2.097458  -1.260249  -0.555542\n",
      "2010-01-05  1.334001  -2.392123  -2.659330  -0.325232\n",
      "...              ...        ...        ...        ...\n",
      "2012-09-22 -7.868011 -59.520981 -49.220218 -54.072522\n",
      "2012-09-23 -7.288884 -59.584693 -49.307716 -54.783148\n",
      "2012-09-24 -6.835061 -59.508180 -49.608991 -55.780242\n",
      "2012-09-25 -6.863802 -58.711503 -50.458917 -55.218363\n",
      "2012-09-26 -7.075728 -59.524064 -49.924592 -55.653215\n",
      "\n",
      "[1000 rows x 4 columns]\n"
     ]
    }
   ],
   "source": [
    "print(pd.read_hdf(\"foo.h5\", \"df\"))"
   ]
  },
  {
   "cell_type": "markdown",
   "metadata": {
    "id": "k1rgGiisNZ29"
   },
   "source": [
    "## Excel"
   ]
  },
  {
   "cell_type": "code",
   "execution_count": null,
   "metadata": {
    "id": "stuJX4zENf1I"
   },
   "outputs": [],
   "source": [
    "df.to_excel(\"foo.xlsx\", sheet_name=\"Sheet1\")"
   ]
  },
  {
   "cell_type": "code",
   "execution_count": null,
   "metadata": {
    "colab": {
     "base_uri": "https://localhost:8080/"
    },
    "id": "lfbRMBqmNlGK",
    "outputId": "4aba023c-895f-4e51-f33f-3562bd2c2895"
   },
   "outputs": [
    {
     "name": "stdout",
     "output_type": "stream",
     "text": [
      "    Unnamed: 0         A          B          C          D\n",
      "0   2010-01-01  0.015846   0.025822   0.443290  -0.724835\n",
      "1   2010-01-02 -0.084776   0.330946  -0.669265  -0.949676\n",
      "2   2010-01-03  1.325583  -0.697926  -0.204375  -1.145391\n",
      "3   2010-01-04  2.293831  -2.097458  -1.260249  -0.555542\n",
      "4   2010-01-05  1.334001  -2.392123  -2.659330  -0.325232\n",
      "..         ...       ...        ...        ...        ...\n",
      "995 2012-09-22 -7.868011 -59.520981 -49.220218 -54.072522\n",
      "996 2012-09-23 -7.288884 -59.584693 -49.307716 -54.783148\n",
      "997 2012-09-24 -6.835061 -59.508180 -49.608991 -55.780242\n",
      "998 2012-09-25 -6.863802 -58.711503 -50.458917 -55.218363\n",
      "999 2012-09-26 -7.075728 -59.524064 -49.924592 -55.653215\n",
      "\n",
      "[1000 rows x 5 columns]\n"
     ]
    }
   ],
   "source": [
    "print(pd.read_excel(\"foo.xlsx\", \"Sheet1\", index_col=None, na_values=[\"NA\"]))"
   ]
  }
 ],
 "metadata": {
  "colab": {
   "collapsed_sections": [],
   "name": "10minutes_to_pandas.ipynb",
   "provenance": [],
   "toc_visible": true
  },
  "kernelspec": {
   "display_name": "Python 3 (ipykernel)",
   "language": "python",
   "name": "python3"
  },
  "language_info": {
   "codemirror_mode": {
    "name": "ipython",
    "version": 3
   },
   "file_extension": ".py",
   "mimetype": "text/x-python",
   "name": "python",
   "nbconvert_exporter": "python",
   "pygments_lexer": "ipython3",
   "version": "3.9.7"
  }
 },
 "nbformat": 4,
 "nbformat_minor": 1
}
