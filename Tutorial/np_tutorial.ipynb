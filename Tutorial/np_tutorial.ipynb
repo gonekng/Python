{
 "cells": [
  {
   "cell_type": "markdown",
   "metadata": {
    "id": "eP9JfKHxNolq"
   },
   "source": [
    "# 파이썬 라이브러리 설치\n",
    "in R (코드에서 실행)\n",
    "  - install.package(\"패키지명\")\n",
    "  - library(패키지명)\n",
    "\n",
    "in Python (터미널에서 실행)\n",
    "  - 방법1. conda 설치 (주 사용목적: 데이터 과학)\n",
    "    + 아나콘다 설치 후에 conda 설치 가능\n",
    "  - 방법2. pip 설치 (개발, 데이터 과학, 그 외)\n",
    "    + 아나콘다 없이도 python만 설치하면 됨"
   ]
  },
  {
   "cell_type": "markdown",
   "metadata": {
    "id": "IqVRyLITHVuh"
   },
   "source": [
    "# NumPy 라이브러리\n",
    "- 파이썬의 대표적인 배열 라이브러리\n",
    "- 파이썬 수치 연산과 관련된 모든 라이브러리의 기본\n",
    "  + scikit learn, TensorFlow, PyTorch 등등\n",
    "- .array, .reshape, .matlib 등등 다양한 메서드 활용"
   ]
  },
  {
   "cell_type": "markdown",
   "metadata": {
    "id": "oXTmOXqaTV0C"
   },
   "source": [
    "## Numpy 라이브러리 불러오기"
   ]
  },
  {
   "cell_type": "code",
   "execution_count": null,
   "metadata": {
    "colab": {
     "base_uri": "https://localhost:8080/"
    },
    "id": "rYwaqSNXF09X",
    "outputId": "4c14c804-2263-46e5-935b-a10d4c5b1402"
   },
   "outputs": [
    {
     "name": "stdout",
     "output_type": "stream",
     "text": [
      "1.21.5\n"
     ]
    }
   ],
   "source": [
    "import numpy as np\n",
    "print(np.__version__)"
   ]
  },
  {
   "cell_type": "markdown",
   "metadata": {
    "id": "DpOjS3BNUYCw"
   },
   "source": [
    "# NumPy 배열 생성"
   ]
  },
  {
   "cell_type": "markdown",
   "metadata": {
    "id": "IX5bzE0UY8Wo"
   },
   "source": [
    "## 리스트를 배열로 변환\n",
    "- NumPy 배열로 변환하여 저장"
   ]
  },
  {
   "cell_type": "code",
   "execution_count": null,
   "metadata": {
    "colab": {
     "base_uri": "https://localhost:8080/"
    },
    "id": "my59x_HuUewK",
    "outputId": "508db827-98bd-4e3a-f915-f45fcb7d961c"
   },
   "outputs": [
    {
     "name": "stdout",
     "output_type": "stream",
     "text": [
      "[1, 2, 3, 4, 5, 6, 7, 8, 9, 10]\n",
      "<class 'list'>\n",
      "[ 1  2  3  4  5  6  7  8  9 10]\n",
      "<class 'numpy.ndarray'>\n"
     ]
    }
   ],
   "source": [
    "temp = [1, 2, 3, 4, 5, 6, 7, 8, 9, 10]\n",
    "print(temp)\n",
    "print(type(temp))\n",
    "\n",
    "arr = np.array(temp)\n",
    "print(arr)\n",
    "print(type(arr))"
   ]
  },
  {
   "cell_type": "markdown",
   "metadata": {
    "id": "9w3uSNHSVC63"
   },
   "source": [
    "- NumPy 배열에도 인덱싱, 슬라이싱 동일하게 적용"
   ]
  },
  {
   "cell_type": "code",
   "execution_count": null,
   "metadata": {
    "colab": {
     "base_uri": "https://localhost:8080/"
    },
    "id": "GZyRzJ5JVLsR",
    "outputId": "21227bac-b216-421b-b558-62c6f8af4dce"
   },
   "outputs": [
    {
     "name": "stdout",
     "output_type": "stream",
     "text": [
      "5\n",
      "[4 5 6 7]\n",
      "[1 3 5 7 9]\n"
     ]
    }
   ],
   "source": [
    "print(arr[4])\n",
    "print(arr[3:7])\n",
    "print(arr[::2])"
   ]
  },
  {
   "cell_type": "markdown",
   "metadata": {
    "id": "ioOsuj5bVdrD"
   },
   "source": [
    "- NumPy를 통한 기초 통계 함수 사용"
   ]
  },
  {
   "cell_type": "code",
   "execution_count": null,
   "metadata": {
    "colab": {
     "base_uri": "https://localhost:8080/"
    },
    "id": "qyuykX7SVj6b",
    "outputId": "d5dfa19d-43b6-46a9-b3d8-3a727907743c"
   },
   "outputs": [
    {
     "name": "stdout",
     "output_type": "stream",
     "text": [
      "sum: 55\n",
      "mean: 5.5\n",
      "median: 5.5\n",
      "min: 1\n",
      "max: 10\n",
      "std: 2.8722813232690143\n"
     ]
    }
   ],
   "source": [
    "print(\"sum:\", np.sum(arr))\n",
    "print(\"mean:\", np.mean(arr))\n",
    "print(\"median:\", np.median(arr))\n",
    "print(\"min:\", np.min(arr))\n",
    "print(\"max:\", np.max(arr))\n",
    "print(\"std:\", np.std(arr))"
   ]
  },
  {
   "cell_type": "markdown",
   "metadata": {
    "id": "ZIawRkBPWEEH"
   },
   "source": [
    "## 사칙연산"
   ]
  },
  {
   "cell_type": "code",
   "execution_count": null,
   "metadata": {
    "colab": {
     "base_uri": "https://localhost:8080/"
    },
    "id": "uq9pSLqkWGdB",
    "outputId": "463aa122-8837-457f-8d53-df968e360ccb"
   },
   "outputs": [
    {
     "name": "stdout",
     "output_type": "stream",
     "text": [
      "[90, 80, 88, 80, 70, 90]\n",
      "[170 150 178]\n"
     ]
    }
   ],
   "source": [
    "math_scores = [90, 80, 88]\n",
    "english_scores = [80, 70, 90]\n",
    "total_scores = math_scores + english_scores # 단순한 리스트 연결 수행\n",
    "print(total_scores)\n",
    "\n",
    "math_arr = np.array(math_scores)\n",
    "english_arr = np.array(english_scores)\n",
    "total_arr = math_arr + english_arr # 각 요소의 덧셈 수행\n",
    "print(total_arr)"
   ]
  },
  {
   "cell_type": "code",
   "execution_count": null,
   "metadata": {
    "colab": {
     "base_uri": "https://localhost:8080/"
    },
    "id": "JGk_ZE5xXOvV",
    "outputId": "ed490bdf-f98b-4a61-8b4c-40db6b7ca119"
   },
   "outputs": [
    {
     "name": "stdout",
     "output_type": "stream",
     "text": [
      "덧셈: [6 7 7]\n",
      "뺄셈: [-2  3  1]\n",
      "곱셈: [ 8 10 12]\n",
      "나눗셈: [0.5        2.5        1.33333333]\n",
      "거듭제곱: [16 25 64]\n"
     ]
    }
   ],
   "source": [
    "arr1 = np.array([2, 5, 4])\n",
    "arr2 = np.array([4, 2, 3])\n",
    "\n",
    "# 사칙연산\n",
    "print(\"덧셈:\", np.add(arr1, arr2))\n",
    "print(\"뺄셈:\", np.subtract(arr1, arr2))\n",
    "print(\"곱셈:\", np.multiply(arr1, arr2))\n",
    "print(\"나눗셈:\", np.divide(arr1, arr2))\n",
    "print(\"거듭제곱:\", np.power(arr1, arr2))"
   ]
  },
  {
   "cell_type": "markdown",
   "metadata": {
    "id": "OQnLfLBLb-G1"
   },
   "source": [
    "## 소수점 처리"
   ]
  },
  {
   "cell_type": "code",
   "execution_count": null,
   "metadata": {
    "colab": {
     "base_uri": "https://localhost:8080/"
    },
    "id": "2kmHJNNVb_9b",
    "outputId": "52735073-7b44-4ec5-f040-ee426ebbc6cc"
   },
   "outputs": [
    {
     "name": "stdout",
     "output_type": "stream",
     "text": [
      "[-1.  1.]\n",
      "[-1.  1.]\n"
     ]
    }
   ],
   "source": [
    "# 소수점 절삭\n",
    "temp_arr = np.trunc([-1.23, 1.23])\n",
    "print(temp_arr)\n",
    "\n",
    "temp_arr = np.fix([-1.23, 1.23])\n",
    "print(temp_arr)"
   ]
  },
  {
   "cell_type": "code",
   "execution_count": null,
   "metadata": {
    "colab": {
     "base_uri": "https://localhost:8080/"
    },
    "id": "1tUapGUvcYMg",
    "outputId": "40897ce3-6f0a-42c0-cd1f-b548ba1256f9"
   },
   "outputs": [
    {
     "name": "stdout",
     "output_type": "stream",
     "text": [
      "[-1.  2.]\n",
      "[-2.  1.]\n",
      "[-1.24  1.24]\n",
      "[-1.2379  1.2379]\n"
     ]
    }
   ],
   "source": [
    "# 올림\n",
    "temp_arr = np.ceil([-1.23789, 1.23789])\n",
    "print(temp_arr)\n",
    "\n",
    "# 내림\n",
    "temp_arr = np.floor([-1.23789, 1.23789])\n",
    "print(temp_arr)\n",
    "\n",
    "# 반올림\n",
    "temp_arr = np.around([-1.23789, 1.23789], 2)\n",
    "print(temp_arr)\n",
    "\n",
    "temp_arr = np.around([-1.23789, 1.23789], 4)\n",
    "print(temp_arr)"
   ]
  },
  {
   "cell_type": "markdown",
   "metadata": {
    "id": "qe0CHTXaYfWk"
   },
   "source": [
    "## 배열의 형태 및 차원\n",
    "- 0차원부터 3차원까지 생성하는 방법\n",
    "- .shape : axis 축 기준으로 배열의 형태 반환"
   ]
  },
  {
   "cell_type": "code",
   "execution_count": null,
   "metadata": {
    "colab": {
     "base_uri": "https://localhost:8080/"
    },
    "id": "fRSfVOL4YjC4",
    "outputId": "42732e53-8d34-4c4e-9eaf-08b9dfb43146"
   },
   "outputs": [
    {
     "name": "stdout",
     "output_type": "stream",
     "text": [
      "20\n",
      "<class 'numpy.ndarray'>\n",
      "배열의 형태: ()\n",
      "배열의 차원: 0\n"
     ]
    }
   ],
   "source": [
    "# 0차원 배열\n",
    "temp_arr = np.array(20)\n",
    "print(temp_arr)\n",
    "print(type(temp_arr))\n",
    "print(\"배열의 형태:\", temp_arr.shape)\n",
    "print(\"배열의 차원:\", temp_arr.ndim)"
   ]
  },
  {
   "cell_type": "code",
   "execution_count": null,
   "metadata": {
    "colab": {
     "base_uri": "https://localhost:8080/"
    },
    "id": "_rjAy__ZZHzx",
    "outputId": "61c3a83c-fb7c-4b16-f842-6dbfe73863f9"
   },
   "outputs": [
    {
     "name": "stdout",
     "output_type": "stream",
     "text": [
      "[1 2 3 5]\n",
      "<class 'numpy.ndarray'>\n",
      "배열의 형태: (4,)\n",
      "배열의 차원: 1\n"
     ]
    }
   ],
   "source": [
    "# 1차원 배열\n",
    "temp_arr = np.array([1,2,3,5])\n",
    "print(temp_arr)\n",
    "print(type(temp_arr))\n",
    "print(\"배열의 형태:\", temp_arr.shape)\n",
    "print(\"배열의 차원:\", temp_arr.ndim)"
   ]
  },
  {
   "cell_type": "code",
   "execution_count": null,
   "metadata": {
    "colab": {
     "base_uri": "https://localhost:8080/"
    },
    "id": "MURcZVNUZh5Y",
    "outputId": "633ddf2b-06c3-48dc-ecf2-4c159f2c569b"
   },
   "outputs": [
    {
     "name": "stdout",
     "output_type": "stream",
     "text": [
      "[[1 2 3 5]\n",
      " [4 5 1 6]\n",
      " [9 0 2 3]]\n",
      "<class 'numpy.ndarray'>\n",
      "배열의 형태: (3, 4)\n",
      "배열의 차원: 2\n"
     ]
    }
   ],
   "source": [
    "# 2차원 배열\n",
    "temp_arr = np.array([[1,2,3,5],[4,5,1,6],[9,0,2,3]])\n",
    "print(temp_arr)\n",
    "print(type(temp_arr))\n",
    "print(\"배열의 형태:\", temp_arr.shape)\n",
    "print(\"배열의 차원:\", temp_arr.ndim)"
   ]
  },
  {
   "cell_type": "code",
   "execution_count": null,
   "metadata": {
    "colab": {
     "base_uri": "https://localhost:8080/"
    },
    "id": "w3GAL1okZ157",
    "outputId": "f4b5c5eb-c932-4b10-e695-563a6e054dbb"
   },
   "outputs": [
    {
     "name": "stdout",
     "output_type": "stream",
     "text": [
      "[[[1 2 3 5]\n",
      "  [4 5 1 6]\n",
      "  [9 0 2 3]]\n",
      "\n",
      " [[1 1 2 3]\n",
      "  [2 3 1 7]\n",
      "  [4 9 5 6]]]\n",
      "<class 'numpy.ndarray'>\n",
      "배열의 형태: (2, 3, 4)\n",
      "배열의 차원: 3\n"
     ]
    }
   ],
   "source": [
    "# 3차원 배열\n",
    "temp_arr = np.array([[[1,2,3,5],[4,5,1,6],[9,0,2,3]],\n",
    "                     [[1,1,2,3],[2,3,1,7],[4,9,5,6]]])\n",
    "print(temp_arr)\n",
    "print(type(temp_arr))\n",
    "print(\"배열의 형태:\", temp_arr.shape)\n",
    "print(\"배열의 차원:\", temp_arr.ndim)"
   ]
  },
  {
   "cell_type": "code",
   "execution_count": null,
   "metadata": {
    "colab": {
     "base_uri": "https://localhost:8080/"
    },
    "id": "3ENIxY5nbEKu",
    "outputId": "5740de6e-e483-4da6-c58e-8b3f9a6057b2"
   },
   "outputs": [
    {
     "name": "stdout",
     "output_type": "stream",
     "text": [
      "[[1 2 3 4]]\n",
      "<class 'numpy.ndarray'>\n",
      "배열의 형태: (1, 4)\n",
      "배열의 차원: 2\n"
     ]
    }
   ],
   "source": [
    "# parameter를 활용한 배열의 최소 차원 명시\n",
    "temp_arr = np.array([1,2,3,4], ndmin=2)\n",
    "print(temp_arr)\n",
    "print(type(temp_arr))\n",
    "print(\"배열의 형태:\", temp_arr.shape)\n",
    "print(\"배열의 차원:\", temp_arr.ndim)"
   ]
  },
  {
   "cell_type": "markdown",
   "metadata": {
    "id": "kA5_2Bf7iu1d"
   },
   "source": [
    "## 배열을 생성하는 다양한 방법"
   ]
  },
  {
   "cell_type": "code",
   "execution_count": null,
   "metadata": {
    "colab": {
     "base_uri": "https://localhost:8080/"
    },
    "id": "9tN26-xVi4Lu",
    "outputId": "ef0bf31f-eba4-4965-9890-0f7267088667"
   },
   "outputs": [
    {
     "name": "stdout",
     "output_type": "stream",
     "text": [
      "[0 1 2 3 4]\n",
      "[ 1  4  7 10]\n"
     ]
    }
   ],
   "source": [
    "temp_arr = np.arange(5) # [0:4]\n",
    "print(temp_arr)\n",
    "\n",
    "temp_arr = np.arange(1,11,3) # [1:11:3]\n",
    "print(temp_arr)"
   ]
  },
  {
   "cell_type": "code",
   "execution_count": null,
   "metadata": {
    "colab": {
     "base_uri": "https://localhost:8080/"
    },
    "id": "tsqg_DLCjV7Y",
    "outputId": "e022e46d-c6db-4917-8117-aafa02ba58b4"
   },
   "outputs": [
    {
     "name": "stdout",
     "output_type": "stream",
     "text": [
      "[[0. 0. 0.]\n",
      " [0. 0. 0.]]\n",
      "<class 'numpy.ndarray'>\n",
      "데이터 타입: float64\n"
     ]
    }
   ],
   "source": [
    "zero_arr = np.zeros((2,3)) # 0으로만 이루어진 배열\n",
    "print(zero_arr)\n",
    "print(type(zero_arr))\n",
    "print(\"데이터 타입:\", zero_arr.dtype)"
   ]
  },
  {
   "cell_type": "code",
   "execution_count": null,
   "metadata": {
    "colab": {
     "base_uri": "https://localhost:8080/"
    },
    "id": "wfKt9MBjke5O",
    "outputId": "7ea11b34-5702-4700-9ebf-62f0d78b50f3"
   },
   "outputs": [
    {
     "name": "stdout",
     "output_type": "stream",
     "text": [
      "[[1. 1. 1.]\n",
      " [1. 1. 1.]]\n",
      "<class 'numpy.ndarray'>\n",
      "데이터 타입: float64\n",
      "[[1 1 1]\n",
      " [1 1 1]]\n",
      "<class 'numpy.ndarray'>\n",
      "데이터 타입: int32\n"
     ]
    }
   ],
   "source": [
    "temp_arr = np.ones((2,3)) # 1로만 이루어진 배열\n",
    "print(temp_arr)\n",
    "print(type(temp_arr))\n",
    "print(\"데이터 타입:\", temp_arr.dtype)\n",
    "\n",
    "temp_arr = np.ones((2,3), dtype=\"int32\") # 자체적인 데이터 형변환\n",
    "print(temp_arr)\n",
    "print(type(temp_arr))\n",
    "print(\"데이터 타입:\", temp_arr.dtype)"
   ]
  },
  {
   "cell_type": "code",
   "execution_count": null,
   "metadata": {
    "colab": {
     "base_uri": "https://localhost:8080/"
    },
    "id": "ZrhZy_8-lP1c",
    "outputId": "d1419591-3b7d-4b35-b8ab-f46c020f85b9"
   },
   "outputs": [
    {
     "name": "stdout",
     "output_type": "stream",
     "text": [
      "[[1 1 1 1 1 1]\n",
      " [1 1 1 1 1 1]]\n",
      "배열의 형태: (2, 6)\n",
      "배열의 차원: 2\n",
      "\n",
      "\n",
      "[[1 1 1 1]\n",
      " [1 1 1 1]\n",
      " [1 1 1 1]]\n",
      "배열의 형태: (3, 4)\n",
      "배열의 차원: 2\n",
      "\n",
      "\n",
      "[[[1 1 1]\n",
      "  [1 1 1]]\n",
      "\n",
      " [[1 1 1]\n",
      "  [1 1 1]]]\n",
      "배열의 형태: (2, 2, 3)\n",
      "배열의 차원: 3\n"
     ]
    }
   ],
   "source": [
    "temp_arr = np.ones((2,6))\n",
    "print(temp_arr)\n",
    "print(\"배열의 형태:\", temp_arr.shape)\n",
    "print(\"배열의 차원:\", temp_arr.ndim)\n",
    "print(\"\\n\")\n",
    "\n",
    "temp_res = temp_arr.reshape(3,4)\n",
    "print(temp_res)\n",
    "print(\"배열의 형태:\", temp_res.shape)\n",
    "print(\"배열의 차원:\", temp_res.ndim)\n",
    "print(\"\\n\")\n",
    "\n",
    "temp_res2 = temp_arr.reshape(2,2,3)\n",
    "print(temp_res2)\n",
    "print(\"배열의 형태:\", temp_res2.shape)\n",
    "print(\"배열의 차원:\", temp_res2.ndim)"
   ]
  },
  {
   "cell_type": "code",
   "execution_count": null,
   "metadata": {
    "colab": {
     "base_uri": "https://localhost:8080/"
    },
    "id": "4t8nEWTkmYgR",
    "outputId": "3093fb97-f491-46e1-dbaf-283f4418079e"
   },
   "outputs": [
    {
     "name": "stdout",
     "output_type": "stream",
     "text": [
      "[[1 1 1 1 1 1 1 1 1 1 1 1 1 1 1 1 1 1 1 1 1 1 1 1]\n",
      " [1 1 1 1 1 1 1 1 1 1 1 1 1 1 1 1 1 1 1 1 1 1 1 1]\n",
      " [1 1 1 1 1 1 1 1 1 1 1 1 1 1 1 1 1 1 1 1 1 1 1 1]]\n",
      "배열의 형태: (3, 24)\n",
      "배열의 차원: 2\n"
     ]
    }
   ],
   "source": [
    "temp_arr = np.ones((12,6))\n",
    "temp_res = temp_arr.reshape(3,-1)\n",
    "print(temp_res)\n",
    "print(\"배열의 형태:\", temp_res.shape)\n",
    "print(\"배열의 차원:\", temp_res.ndim)\n",
    "\n",
    "# temp_res2 = temp_arr.reshape(5,-1)\n",
    "# ValueError: cannot reshape array of size 72 into shape (5,newaxis)"
   ]
  },
  {
   "cell_type": "markdown",
   "metadata": {
    "id": "ckxQfTuOnDfs"
   },
   "source": [
    "# NumPy 조건식\n",
    "- 조건식이 하나일 때: np.where"
   ]
  },
  {
   "cell_type": "code",
   "execution_count": null,
   "metadata": {
    "colab": {
     "base_uri": "https://localhost:8080/"
    },
    "id": "MGwBMZBZlBUL",
    "outputId": "fbe3b532-b5bd-40ee-fb55-74c4d4a665dd"
   },
   "outputs": [
    {
     "name": "stdout",
     "output_type": "stream",
     "text": [
      "[0 1 2 3 4 5 6 7 8 9]\n",
      "[ 0  1  2  3  4  5 60 70 80 90]\n"
     ]
    }
   ],
   "source": [
    "temp_arr = np.arange(10)\n",
    "print(temp_arr)\n",
    "\n",
    "# 5보다 큰 값은 기존 값 * 10\n",
    "print(np.where(temp_arr > 5, temp_arr * 10, temp_arr))"
   ]
  },
  {
   "cell_type": "code",
   "execution_count": null,
   "metadata": {
    "colab": {
     "base_uri": "https://localhost:8080/"
    },
    "id": "_wJT-33CnlIo",
    "outputId": "6b38a160-9001-4ec3-c566-4a70f72f1616"
   },
   "outputs": [
    {
     "name": "stdout",
     "output_type": "stream",
     "text": [
      "[ 0  1  2  3  4  5  6  7  8  9 10 11 12 13 14 15 16 17 18 19 20]\n",
      "[ 0 10 20 30 40 50 60 70 80 90 10 11 12 13 14 15 16 17 18 19 20]\n"
     ]
    }
   ],
   "source": [
    "temp_arr = np.arange(21)\n",
    "print(temp_arr)\n",
    "\n",
    "# 10보다 작은 값은 기존 값 * 10\n",
    "print(np.where(temp_arr < 10, temp_arr * 10, temp_arr))"
   ]
  },
  {
   "cell_type": "markdown",
   "metadata": {
    "id": "POXnV74Eoxa3"
   },
   "source": [
    "- 조건식이 2개 이상일 때: np.select"
   ]
  },
  {
   "cell_type": "code",
   "execution_count": null,
   "metadata": {
    "colab": {
     "base_uri": "https://localhost:8080/"
    },
    "id": "Z5gj98YAo0gv",
    "outputId": "4c47e7ae-1aa7-4a98-ae01-6c0d038da7aa"
   },
   "outputs": [
    {
     "name": "stdout",
     "output_type": "stream",
     "text": [
      "[0 1 2 3 4 5 6 7 8 9]\n"
     ]
    },
    {
     "data": {
      "text/plain": [
       "array([100, 101,   2,   3,   4,   5,  12,  14,  16,  18])"
      ]
     },
     "execution_count": 121,
     "metadata": {},
     "output_type": "execute_result"
    }
   ],
   "source": [
    "temp_arr = np.arange(10)\n",
    "print(temp_arr)\n",
    "\n",
    "# 5보다 큰 값은 기존 값 * 2, 2보다 작은 값은 기존 값 + 100\n",
    "condlist = [temp_arr > 5, temp_arr < 2] # The list of conditions\n",
    "choicelist = [temp_arr * 2, temp_arr + 100] # The list of outputs\n",
    "np.select(condlist, choicelist, default = temp_arr)"
   ]
  },
  {
   "cell_type": "markdown",
   "metadata": {
    "id": "tzQ5VEh5qfzf"
   },
   "source": [
    "# NumPy Broadcasting\n",
    "- 서로 다른 크기의 배열을 계산할 때의 기본적인 규칙\n",
    "- url : https://numpy.org/doc/stable/user/basics.broadcasting.html?highlight=broadcasting"
   ]
  },
  {
   "cell_type": "code",
   "execution_count": null,
   "metadata": {
    "id": "48XJ7rYFuqnx"
   },
   "outputs": [],
   "source": []
  }
 ],
 "metadata": {
  "colab": {
   "collapsed_sections": [],
   "name": "numpy_tutorial.ipynb",
   "provenance": [],
   "toc_visible": true
  },
  "kernelspec": {
   "display_name": "Python 3 (ipykernel)",
   "language": "python",
   "name": "python3"
  },
  "language_info": {
   "codemirror_mode": {
    "name": "ipython",
    "version": 3
   },
   "file_extension": ".py",
   "mimetype": "text/x-python",
   "name": "python",
   "nbconvert_exporter": "python",
   "pygments_lexer": "ipython3",
   "version": "3.9.7"
  }
 },
 "nbformat": 4,
 "nbformat_minor": 1
}
