{
 "cells": [
  {
   "cell_type": "markdown",
   "metadata": {
    "id": "wvppFAQ1TkFY"
   },
   "source": [
    "# 라이브러리 불러오기"
   ]
  },
  {
   "cell_type": "code",
   "execution_count": null,
   "metadata": {
    "colab": {
     "base_uri": "https://localhost:8080/"
    },
    "id": "rKAzHgPxTfOw",
    "outputId": "74189f73-8924-4bf8-8d41-4e1dc203fa37"
   },
   "outputs": [
    {
     "name": "stdout",
     "output_type": "stream",
     "text": [
      "numpy: ver. 1.21.5\n",
      "pandas: ver. 1.3.5\n"
     ]
    }
   ],
   "source": [
    "import numpy as np\n",
    "print(\"numpy: ver.\", np.__version__)\n",
    "import pandas as pd\n",
    "print(\"pandas: ver.\", pd.__version__)"
   ]
  },
  {
   "cell_type": "markdown",
   "metadata": {
    "id": "us5hMkfyUByr"
   },
   "source": [
    "# 데이터 불러오기"
   ]
  },
  {
   "cell_type": "code",
   "execution_count": null,
   "metadata": {
    "colab": {
     "base_uri": "https://localhost:8080/"
    },
    "id": "FzNa-wQ2UBgH",
    "outputId": "559818bb-8157-4097-d413-040bbf581f71"
   },
   "outputs": [
    {
     "name": "stdout",
     "output_type": "stream",
     "text": [
      "Mounted at /content/drive\n"
     ]
    }
   ],
   "source": [
    "from google.colab import drive\n",
    "drive.mount('/content/drive')"
   ]
  },
  {
   "cell_type": "code",
   "execution_count": null,
   "metadata": {
    "colab": {
     "base_uri": "https://localhost:8080/"
    },
    "id": "0jkStjVSTtsC",
    "outputId": "fffbc626-c0de-4503-d2ba-a328ea1f27d8"
   },
   "outputs": [
    {
     "name": "stdout",
     "output_type": "stream",
     "text": [
      "    Invoice ID Branch       City Customer type  Gender  \\\n",
      "0  750-67-8428      A     Yangon        Member  Female   \n",
      "1  226-31-3081      C  Naypyitaw        Normal  Female   \n",
      "2  631-41-3108      A     Yangon        Normal    Male   \n",
      "\n",
      "             Product line  Unit price  Quantity      Date   Time      Payment  \n",
      "0       Health and beauty       74.69         7  1/5/2019  13:08      Ewallet  \n",
      "1  Electronic accessories       15.28         5  3/8/2019  10:29         Cash  \n",
      "2      Home and lifestyle       46.33         7  3/3/2019  13:23  Credit card  \n"
     ]
    }
   ],
   "source": [
    "DATA_PATH = '/content/drive/MyDrive/Colab Notebooks/Data/supermarket_sales.csv'\n",
    "sales = pd.read_csv(DATA_PATH)\n",
    "print(sales.head(3))"
   ]
  },
  {
   "cell_type": "code",
   "execution_count": null,
   "metadata": {
    "colab": {
     "base_uri": "https://localhost:8080/"
    },
    "id": "aF8AWk9XVpHh",
    "outputId": "879b4763-6e29-4e0b-93ee-50486ddf6ca2"
   },
   "outputs": [
    {
     "name": "stdout",
     "output_type": "stream",
     "text": [
      "<class 'pandas.core.frame.DataFrame'>\n",
      "RangeIndex: 1000 entries, 0 to 999\n",
      "Data columns (total 11 columns):\n",
      " #   Column         Non-Null Count  Dtype  \n",
      "---  ------         --------------  -----  \n",
      " 0   Invoice ID     1000 non-null   object \n",
      " 1   Branch         1000 non-null   object \n",
      " 2   City           1000 non-null   object \n",
      " 3   Customer type  1000 non-null   object \n",
      " 4   Gender         1000 non-null   object \n",
      " 5   Product line   1000 non-null   object \n",
      " 6   Unit price     1000 non-null   float64\n",
      " 7   Quantity       1000 non-null   int64  \n",
      " 8   Date           1000 non-null   object \n",
      " 9   Time           1000 non-null   object \n",
      " 10  Payment        1000 non-null   object \n",
      "dtypes: float64(1), int64(1), object(9)\n",
      "memory usage: 86.1+ KB\n"
     ]
    }
   ],
   "source": [
    "sales.info()"
   ]
  },
  {
   "cell_type": "markdown",
   "metadata": {
    "id": "nMxzzp09VwwY"
   },
   "source": [
    "# 데이터 그룹화\n",
    "- groupby() 및 다양한 집계함수 활용"
   ]
  },
  {
   "cell_type": "code",
   "execution_count": null,
   "metadata": {
    "colab": {
     "base_uri": "https://localhost:8080/"
    },
    "id": "63j0bLo6Wrd-",
    "outputId": "4a98bdf7-07d0-4b0b-88ab-e7b681c6d435"
   },
   "outputs": [
    {
     "data": {
      "text/plain": [
       "Product line\n",
       "Electronic accessories    170\n",
       "Fashion accessories       178\n",
       "Food and beverages        174\n",
       "Health and beauty         152\n",
       "Home and lifestyle        160\n",
       "Sports and travel         166\n",
       "Name: Quantity, dtype: int64"
      ]
     },
     "execution_count": 67,
     "metadata": {},
     "output_type": "execute_result"
    }
   ],
   "source": [
    "sales.groupby(by=\"Product line\")['Quantity'].count()"
   ]
  },
  {
   "cell_type": "code",
   "execution_count": null,
   "metadata": {
    "colab": {
     "base_uri": "https://localhost:8080/"
    },
    "id": "Zsmvzu0VV3La",
    "outputId": "9e742041-e4f9-486c-c74b-c699b1430627"
   },
   "outputs": [
    {
     "data": {
      "text/plain": [
       "Product line\n",
       "Electronic accessories    971\n",
       "Fashion accessories       902\n",
       "Food and beverages        952\n",
       "Health and beauty         854\n",
       "Home and lifestyle        911\n",
       "Sports and travel         920\n",
       "Name: Quantity, dtype: int64"
      ]
     },
     "execution_count": 66,
     "metadata": {},
     "output_type": "execute_result"
    }
   ],
   "source": [
    "sales.groupby(by=\"Product line\")['Quantity'].sum()"
   ]
  },
  {
   "cell_type": "code",
   "execution_count": null,
   "metadata": {
    "colab": {
     "base_uri": "https://localhost:8080/"
    },
    "id": "QyF7S-yaYHp4",
    "outputId": "6d825cdd-bc0f-453c-a636-5fde1d69c9d5"
   },
   "outputs": [
    {
     "name": "stdout",
     "output_type": "stream",
     "text": [
      "Branch  Customer type\n",
      "A       Member           964\n",
      "        Normal           895\n",
      "B       Member           924\n",
      "        Normal           896\n",
      "C       Member           897\n",
      "        Normal           934\n",
      "Name: Quantity, dtype: int64\n",
      "<class 'pandas.core.series.Series'>\n"
     ]
    }
   ],
   "source": [
    "print(sales.groupby(by=[\"Branch\",\"Customer type\"])['Quantity'].sum())\n",
    "print(type(sales.groupby(by=[\"Branch\",\"Customer type\"])['Quantity'].sum())) # Series 객체"
   ]
  },
  {
   "cell_type": "code",
   "execution_count": null,
   "metadata": {
    "colab": {
     "base_uri": "https://localhost:8080/"
    },
    "id": "Y3lqcHTMclYA",
    "outputId": "0d4173dd-7aa4-4647-f7c2-81b28c598813"
   },
   "outputs": [
    {
     "name": "stdout",
     "output_type": "stream",
     "text": [
      "  Branch      Payment  Quantity\n",
      "0      A         Cash       572\n",
      "1      A  Credit card       580\n",
      "2      A      Ewallet       707\n",
      "3      B         Cash       628\n",
      "4      B  Credit card       599\n",
      "5      B      Ewallet       593\n",
      "6      C         Cash       696\n",
      "7      C  Credit card       543\n",
      "8      C      Ewallet       592\n",
      "<class 'pandas.core.frame.DataFrame'>\n"
     ]
    }
   ],
   "source": [
    "print(sales.groupby(by=[\"Branch\",\"Payment\"], as_index=False)['Quantity'].sum())\n",
    "print(type(sales.groupby(by=[\"Branch\",\"Payment\"], as_index=False)['Quantity'].sum())) # DataFrmae 객체"
   ]
  },
  {
   "cell_type": "code",
   "execution_count": null,
   "metadata": {
    "colab": {
     "base_uri": "https://localhost:8080/"
    },
    "id": "6JbcCKGnYemf",
    "outputId": "72d83797-899b-4d78-bc5d-9fec3ee4ce73"
   },
   "outputs": [
    {
     "name": "stdout",
     "output_type": "stream",
     "text": [
      "                      max    min       mean\n",
      "Branch Payment                             \n",
      "A      Cash         99.78  10.08  56.374636\n",
      "       Credit card  99.56  11.94  53.011635\n",
      "       Ewallet      99.83  10.13  54.849762\n",
      "B      Cash         99.69  11.85  56.758818\n",
      "       Credit card  99.96  10.59  56.838991\n",
      "       Ewallet      99.92  10.75  53.450973\n",
      "C      Cash         99.96  10.17  57.100081\n",
      "       Credit card  99.82  10.18  53.143061\n",
      "       Ewallet      99.79  10.16  59.238962\n",
      "<class 'pandas.core.frame.DataFrame'>\n"
     ]
    }
   ],
   "source": [
    "print(sales.groupby(by=[\"Branch\", \"Payment\"])['Unit price'].agg([\"max\", \"min\", \"mean\"]))\n",
    "print(type(sales.groupby(by=[\"Branch\", \"Payment\"])['Unit price'].agg([\"max\", \"min\", \"mean\"]))) # DataFrame 객체"
   ]
  },
  {
   "cell_type": "code",
   "execution_count": null,
   "metadata": {
    "colab": {
     "base_uri": "https://localhost:8080/"
    },
    "id": "ajhhiNsAdtg1",
    "outputId": "b83562d8-2b67-4749-8ad8-767d5743f0b5"
   },
   "outputs": [
    {
     "name": "stdout",
     "output_type": "stream",
     "text": [
      "  Branch      Payment    max    min       mean\n",
      "0      A         Cash  99.78  10.08  56.374636\n",
      "1      A  Credit card  99.56  11.94  53.011635\n",
      "2      A      Ewallet  99.83  10.13  54.849762\n",
      "3      B         Cash  99.69  11.85  56.758818\n",
      "4      B  Credit card  99.96  10.59  56.838991\n",
      "5      B      Ewallet  99.92  10.75  53.450973\n",
      "6      C         Cash  99.96  10.17  57.100081\n",
      "7      C  Credit card  99.82  10.18  53.143061\n",
      "8      C      Ewallet  99.79  10.16  59.238962\n",
      "<class 'pandas.core.frame.DataFrame'>\n"
     ]
    }
   ],
   "source": [
    "print(sales.groupby(by=[\"Branch\", \"Payment\"])['Unit price'].agg([\"max\", \"min\", \"mean\"]).reset_index())\n",
    "print(type(sales.groupby(by=[\"Branch\", \"Payment\"])['Unit price'].agg([\"max\", \"min\", \"mean\"]).reset_index()))"
   ]
  },
  {
   "cell_type": "markdown",
   "metadata": {
    "id": "YfRP1naFeS6c"
   },
   "source": [
    "# 결측치 처리"
   ]
  },
  {
   "cell_type": "markdown",
   "metadata": {
    "id": "95zLH7P6eWnd"
   },
   "source": [
    "## 결측치 데이터 생성"
   ]
  },
  {
   "cell_type": "code",
   "execution_count": null,
   "metadata": {
    "colab": {
     "base_uri": "https://localhost:8080/"
    },
    "id": "gOn2MlRHeYPx",
    "outputId": "122115df-3a26-4025-88a3-114441f5f275"
   },
   "outputs": [
    {
     "name": "stdout",
     "output_type": "stream",
     "text": [
      "   Score A  Score B  Score C\n",
      "0     80.0     30.0      NaN\n",
      "1     90.0     45.0     50.0\n",
      "2      NaN      NaN     80.0\n",
      "3     80.0      NaN     90.0\n"
     ]
    }
   ],
   "source": [
    "dict_01 = {\n",
    "    'Score A' : [80, 90, np.nan, 80],\n",
    "    'Score B' : [30, 45, np.nan, np.nan],\n",
    "    'Score C' : [np.nan, 50, 80, 90]\n",
    "}\n",
    "df = pd.DataFrame(dict_01)\n",
    "print(df)"
   ]
  },
  {
   "cell_type": "code",
   "execution_count": null,
   "metadata": {
    "colab": {
     "base_uri": "https://localhost:8080/"
    },
    "id": "8koPCowZfIC8",
    "outputId": "ed9c8280-64ca-4b2f-edb9-0cc578b20e2b"
   },
   "outputs": [
    {
     "name": "stdout",
     "output_type": "stream",
     "text": [
      "   Score A  Score B  Score C\n",
      "0    False    False     True\n",
      "1    False    False    False\n",
      "2     True     True    False\n",
      "3    False     True    False\n",
      "\n",
      "\n",
      "Score A    1\n",
      "Score B    2\n",
      "Score C    1\n",
      "dtype: int64\n"
     ]
    }
   ],
   "source": [
    "print(df.isnull())\n",
    "print(\"\\n\")\n",
    "print(df.isnull().sum())"
   ]
  },
  {
   "cell_type": "code",
   "execution_count": null,
   "metadata": {
    "colab": {
     "base_uri": "https://localhost:8080/"
    },
    "id": "92QFgte4ghDI",
    "outputId": "831cb5e4-aa9d-4e0e-88f0-e84d58d93cf0"
   },
   "outputs": [
    {
     "name": "stdout",
     "output_type": "stream",
     "text": [
      "   Gender  Salary\n",
      "0    Male      30\n",
      "1  Female      45\n",
      "2     NaN      90\n",
      "3    Male      70\n"
     ]
    }
   ],
   "source": [
    "dict_02 = {\n",
    "    \"Gender\" : [\"Male\", \"Female\", np.nan, \"Male\"],\n",
    "    \"Salary\" : [30, 45, 90, 70]\n",
    "}\n",
    "\n",
    "df2 = pd.DataFrame(dict_02)\n",
    "print(df2)"
   ]
  },
  {
   "cell_type": "code",
   "execution_count": null,
   "metadata": {
    "colab": {
     "base_uri": "https://localhost:8080/"
    },
    "id": "zlxqn0hZg4_b",
    "outputId": "3a073c8a-1813-44dd-f403-7ea488462d8b"
   },
   "outputs": [
    {
     "name": "stdout",
     "output_type": "stream",
     "text": [
      "   Score A  Score B  Score C\n",
      "0    False    False     True\n",
      "1    False    False    False\n",
      "2     True     True    False\n",
      "3    False     True    False\n",
      "\n",
      "\n",
      "Score A    1\n",
      "Score B    2\n",
      "Score C    1\n",
      "dtype: int64\n"
     ]
    }
   ],
   "source": [
    "print(df.isnull())\n",
    "print(\"\\n\")\n",
    "print(df.isnull().sum())"
   ]
  },
  {
   "cell_type": "markdown",
   "metadata": {
    "id": "NEFVIHECf-lO"
   },
   "source": [
    "## 결측치 값 대체\n",
    "- 문자열 타입과 숫자 타입의 접근 방법 상이\n",
    "  + 문자열 : 최빈값 등\n",
    "  + 숫자 : 평균, 최대값, 최소값, 중간값 등"
   ]
  },
  {
   "cell_type": "code",
   "execution_count": null,
   "metadata": {
    "colab": {
     "base_uri": "https://localhost:8080/"
    },
    "id": "PJcvSBHXf9Ox",
    "outputId": "9b029e8b-c218-49ee-870c-798b056a94db"
   },
   "outputs": [
    {
     "name": "stdout",
     "output_type": "stream",
     "text": [
      "   Score A  Score B  Score C\n",
      "0     80.0     30.0      0.0\n",
      "1     90.0     45.0     50.0\n",
      "2      0.0      0.0     80.0\n",
      "3     80.0      0.0     90.0\n",
      "Score A    float64\n",
      "Score B    float64\n",
      "Score C    float64\n",
      "dtype: object\n"
     ]
    }
   ],
   "source": [
    "print(df.fillna(0)) # 0으로 대체"
   ]
  },
  {
   "cell_type": "code",
   "execution_count": null,
   "metadata": {
    "colab": {
     "base_uri": "https://localhost:8080/"
    },
    "id": "AmKpnFQ5gJvg",
    "outputId": "f24b3dd9-dfa3-4c58-9d44-0401a7f64175"
   },
   "outputs": [
    {
     "name": "stdout",
     "output_type": "stream",
     "text": [
      "   Score A  Score B  Score C\n",
      "0     80.0     30.0      NaN\n",
      "1     90.0     45.0     50.0\n",
      "2     90.0     45.0     80.0\n",
      "3     80.0     45.0     90.0\n",
      "   Score A  Score B  Score C\n",
      "0     80.0     30.0      NaN\n",
      "1     90.0     45.0     50.0\n",
      "2     90.0     45.0     80.0\n",
      "3     80.0     45.0     90.0\n"
     ]
    }
   ],
   "source": [
    "print(df.fillna(method=\"pad\")) # 앞 데이터로 대체\n",
    "# print(df.fillna(method=\"ffill\")) : 동일한 결과"
   ]
  },
  {
   "cell_type": "code",
   "execution_count": null,
   "metadata": {
    "colab": {
     "base_uri": "https://localhost:8080/"
    },
    "id": "crsFaEh2hn6T",
    "outputId": "cfbaa200-4886-4e8c-eb78-00a884f412e7"
   },
   "outputs": [
    {
     "name": "stdout",
     "output_type": "stream",
     "text": [
      "   Score A  Score B  Score C\n",
      "0     80.0     30.0     50.0\n",
      "1     90.0     45.0     50.0\n",
      "2     80.0      NaN     80.0\n",
      "3     80.0      NaN     90.0\n"
     ]
    }
   ],
   "source": [
    "print(df.fillna(method=\"backfill\")) # 뒤 데이터로 대체\n",
    "# print(df.fillna(method=\"bfill\")) : 동일한 결과"
   ]
  },
  {
   "cell_type": "code",
   "execution_count": null,
   "metadata": {
    "colab": {
     "base_uri": "https://localhost:8080/"
    },
    "id": "5kV3eGGcgdmX",
    "outputId": "64ad5969-506f-4563-b3f0-414371a71380"
   },
   "outputs": [
    {
     "name": "stdout",
     "output_type": "stream",
     "text": [
      "0          Male\n",
      "1        Female\n",
      "2    Genderless\n",
      "3          Male\n",
      "Name: Gender, dtype: object\n"
     ]
    }
   ],
   "source": [
    "print(df2['Gender'].fillna(\"Genderless\")) # 특정 문자열로 대체"
   ]
  },
  {
   "cell_type": "markdown",
   "metadata": {
    "id": "Hwa_P3nJh-Hh"
   },
   "source": [
    "## 결측치가 있는 행, 열 제거"
   ]
  },
  {
   "cell_type": "code",
   "execution_count": null,
   "metadata": {
    "colab": {
     "base_uri": "https://localhost:8080/"
    },
    "id": "QuIx3IQviPfg",
    "outputId": "25ac431c-cb09-4987-959b-24385f32abeb"
   },
   "outputs": [
    {
     "name": "stdout",
     "output_type": "stream",
     "text": [
      "   Score A  Score B  Score C  Score D\n",
      "0     80.0     30.0      NaN       50\n",
      "1     90.0     45.0     50.0       30\n",
      "2      NaN      NaN     80.0       80\n",
      "3     80.0      NaN     90.0       60\n"
     ]
    }
   ],
   "source": [
    "dict_03 = {\n",
    "    'Score A' : [80, 90, np.nan, 80],\n",
    "    'Score B' : [30, 45, np.nan, np.nan],\n",
    "    'Score C' : [np.nan, 50, 80, 90],\n",
    "    'Score D' : [50, 30, 80, 60]\n",
    "}\n",
    "df3 = pd.DataFrame(dict_03)\n",
    "print(df3)"
   ]
  },
  {
   "cell_type": "code",
   "execution_count": null,
   "metadata": {
    "colab": {
     "base_uri": "https://localhost:8080/"
    },
    "id": "zdPRpA7sivZZ",
    "outputId": "c949b367-22be-4579-adaa-34559635d499"
   },
   "outputs": [
    {
     "name": "stdout",
     "output_type": "stream",
     "text": [
      "   Score A  Score B  Score C  Score D\n",
      "1     90.0     45.0     50.0       30\n",
      "\n",
      "\n",
      "   Score D\n",
      "0       50\n",
      "1       30\n",
      "2       80\n",
      "3       60\n"
     ]
    }
   ],
   "source": [
    "print(df3.dropna()) # axis: default 0\n",
    "print(\"\\n\")\n",
    "print(df3.dropna(axis=1))"
   ]
  },
  {
   "cell_type": "markdown",
   "metadata": {
    "id": "FQEhrfcRjxe9"
   },
   "source": [
    "# 이상치 탐지\n",
    "- 일반적으로 IQR(= Q3 - Q1; 사분위수범위)를 활용하여 탐지\n",
    "  + 하한 경계값 : Q1 - IQR * 1.5\n",
    "  + 상한 경계값 : Q3 + IQR * 1.5\n",
    "- Box Plot으로도 확인 가능\n",
    "- 실무에서는 각 도메인(비즈니스 영역)별로 기준 상이"
   ]
  },
  {
   "cell_type": "code",
   "execution_count": null,
   "metadata": {
    "colab": {
     "base_uri": "https://localhost:8080/"
    },
    "id": "D5_FTw0ijtt1",
    "outputId": "5716b935-7952-4957-c55e-d7c183b793a1"
   },
   "outputs": [
    {
     "name": "stdout",
     "output_type": "stream",
     "text": [
      "        Unit price\n",
      "count  1000.000000\n",
      "mean     55.672130\n",
      "std      26.494628\n",
      "min      10.080000\n",
      "25%      32.875000\n",
      "50%      55.230000\n",
      "75%      77.935000\n",
      "max      99.960000\n"
     ]
    }
   ],
   "source": [
    "print(sales[['Unit price']].describe())"
   ]
  },
  {
   "cell_type": "code",
   "execution_count": null,
   "metadata": {
    "colab": {
     "base_uri": "https://localhost:8080/"
    },
    "id": "dIsQ_OKPlN3p",
    "outputId": "573c3bab-febb-4f64-8da6-6e796bfc5b16"
   },
   "outputs": [
    {
     "name": "stdout",
     "output_type": "stream",
     "text": [
      "(-34.715, 145.525)\n",
      "\n",
      "\n",
      "Series([], Name: Unit price, dtype: float64)\n"
     ]
    }
   ],
   "source": [
    "q1 = sales['Unit price'].quantile(0.25)\n",
    "q3 = sales['Unit price'].quantile(0.75)\n",
    "iqr = q3 - q1\n",
    "lim_q1 = q1 - 1.5 * IQR\n",
    "lim_q3 = q3 + 1.5 * IQR\n",
    "print(tuple([lim_q1, lim_q3]))\n",
    "print(\"\\n\")\n",
    "out_q1 = (sales['Unit price'] < lim_q1)\n",
    "out_q3 = (sales['Unit price'] > lim_q3)\n",
    "outliers = (sales['Unit price'][out_q1 | out_q3])\n",
    "print(outliers)"
   ]
  },
  {
   "cell_type": "code",
   "execution_count": null,
   "metadata": {
    "colab": {
     "base_uri": "https://localhost:8080/",
     "height": 415
    },
    "id": "f7mC5ZnMocux",
    "outputId": "1c0f481b-ea34-42cb-f075-665f12877703"
   },
   "outputs": [
    {
     "data": {
      "text/plain": [
       "{'boxes': [<matplotlib.lines.Line2D at 0x7fefce5f93d0>],\n",
       " 'caps': [<matplotlib.lines.Line2D at 0x7fefce5fe3d0>,\n",
       "  <matplotlib.lines.Line2D at 0x7fefce5fe910>],\n",
       " 'fliers': [<matplotlib.lines.Line2D at 0x7fefce605410>],\n",
       " 'means': [],\n",
       " 'medians': [<matplotlib.lines.Line2D at 0x7fefce5fee90>],\n",
       " 'whiskers': [<matplotlib.lines.Line2D at 0x7fefce5f9910>,\n",
       "  <matplotlib.lines.Line2D at 0x7fefce5f9e50>]}"
      ]
     },
     "execution_count": 125,
     "metadata": {},
     "output_type": "execute_result"
    },
    {
     "data": {
      "image/png": "[encoded data removed]",
      "text/plain": [
       "<Figure size 432x288 with 1 Axes>"
      ]
     },
     "metadata": {
      "needs_background": "light"
     },
     "output_type": "display_data"
    }
   ],
   "source": [
    "import matplotlib.pyplot as plt\n",
    "plt.boxplot(sales['Unit price'])"
   ]
  }
 ],
 "metadata": {
  "colab": {
   "collapsed_sections": [],
   "name": "pandas_tutorial_02.ipynb",
   "provenance": [],
   "toc_visible": true
  },
  "kernelspec": {
   "display_name": "Python 3 (ipykernel)",
   "language": "python",
   "name": "python3"
  },
  "language_info": {
   "codemirror_mode": {
    "name": "ipython",
    "version": 3
   },
   "file_extension": ".py",
   "mimetype": "text/x-python",
   "name": "python",
   "nbconvert_exporter": "python",
   "pygments_lexer": "ipython3",
   "version": "3.9.7"
  }
 },
 "nbformat": 4,
 "nbformat_minor": 1
}
