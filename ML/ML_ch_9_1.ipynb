{
 "cells": [
  {
   "cell_type": "markdown",
   "metadata": {
    "id": "J8C61VPuw0kX"
   },
   "source": [
    "# Sequential data\n",
    "- meaningful in order such as text data, time series data\n",
    "- Requires the function to remember previously entered data\n",
    "\n",
    "## Text data\n",
    "- text mining (representatively, sentimental analysis)\n",
    "- natural language processing (using chatbot)\n",
    "- basic deep learning algorithm : RNN, LSTM\n",
    "  + tensorflow: https://wikidocs.net/book/2155\n",
    "  + pytorch: https://wikidocs.net/32471"
   ]
  },
  {
   "cell_type": "markdown",
   "metadata": {
    "id": "jj2ExVhU0rMJ"
   },
   "source": [
    "# RNN (Recurrent Neural Network)\n",
    "- the contrary of feedfoward neural network\n",
    "- Fully connected layer + Loop that circulates the processing flow of previous data\n",
    "  + timestep : a step in processing a sample\n",
    "- activation : default tanh (S-shape, -1 to 1)\n"
   ]
  },
  {
   "cell_type": "code",
   "execution_count": null,
   "metadata": {
    "id": "dtutftlloarH"
   },
   "outputs": [],
   "source": []
  }
 ],
 "metadata": {
  "colab": {
   "collapsed_sections": [],
   "name": "ML_ch_9_1.ipynb",
   "provenance": []
  },
  "kernelspec": {
   "display_name": "Python 3 (ipykernel)",
   "language": "python",
   "name": "python3"
  },
  "language_info": {
   "name": "python"
  }
 },
 "nbformat": 4,
 "nbformat_minor": 1
}
