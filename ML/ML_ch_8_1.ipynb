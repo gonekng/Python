{
 "cells": [
  {
   "cell_type": "markdown",
   "metadata": {
    "id": "mBs-DuciQ3ZR"
   },
   "source": [
    "# CNN(Convolution Neural Network)\n",
    "- Neural network operations can also be applied to two-dimensional arrays by CNN.\n",
    "- Neuron in CNN is called filter or kernel."
   ]
  },
  {
   "cell_type": "code",
   "execution_count": 1,
   "metadata": {
    "colab": {
     "base_uri": "https://localhost:8080/"
    },
    "id": "QKHNDOh1Q0fE",
    "outputId": "841e50ed-c3f5-4c9d-e957-766044dee063"
   },
   "outputs": [
    {
     "data": {
      "text/plain": [
       "<keras.layers.convolutional.Conv2D at 0x7effd27dea10>"
      ]
     },
     "execution_count": 1,
     "metadata": {},
     "output_type": "execute_result"
    }
   ],
   "source": [
    "from tensorflow import keras\n",
    "keras.layers.Conv2D(10, kernel_size=(3,3), activation=\"relu\")"
   ]
  },
  {
   "cell_type": "markdown",
   "metadata": {
    "id": "F7ex4JqhgXGK"
   },
   "source": [
    "## Padding & Stride\n",
    "### Padding : Filling the border of the input array with virtual elements\n",
    "  - To prevent the loss of the original features of the image even if you resize the array,\n",
    "  - Same padding : Padding to zero around the input to make the input and feature map the same size\n",
    "  - Valid padding : Convolution only in a pure input array without padding\n",
    "\n",
    "### Stride : Size of the filter moving over the input layer (default 1)"
   ]
  },
  {
   "cell_type": "code",
   "execution_count": 2,
   "metadata": {
    "colab": {
     "base_uri": "https://localhost:8080/"
    },
    "id": "vnDdgpfrgW1U",
    "outputId": "b569f90d-a1e0-42c0-af80-ac40d4a11cb6"
   },
   "outputs": [
    {
     "data": {
      "text/plain": [
       "<keras.layers.convolutional.Conv2D at 0x7effceb4fb10>"
      ]
     },
     "execution_count": 2,
     "metadata": {},
     "output_type": "execute_result"
    }
   ],
   "source": [
    "keras.layers.Conv2D(10, kernel_size=(3,3), activation='relu', padding='same', strides=1)"
   ]
  },
  {
   "cell_type": "markdown",
   "metadata": {
    "id": "JRgbSVaXiKSx"
   },
   "source": [
    "## Pooling\n",
    "- Reducing the size of the feature map while maintaining the original features of the image\n",
    "- Max pooling, Average pooling, etc"
   ]
  },
  {
   "cell_type": "code",
   "execution_count": 3,
   "metadata": {
    "colab": {
     "base_uri": "https://localhost:8080/"
    },
    "id": "FNj5fr_ijnqr",
    "outputId": "a4cebe3e-a165-41bf-8577-1e64c3d50bfc"
   },
   "outputs": [
    {
     "data": {
      "text/plain": [
       "<keras.layers.pooling.MaxPooling2D at 0x7effce850fd0>"
      ]
     },
     "execution_count": 3,
     "metadata": {},
     "output_type": "execute_result"
    }
   ],
   "source": [
    "keras.layers.MaxPooling2D(2, strides=2, padding=\"valid\")"
   ]
  },
  {
   "cell_type": "code",
   "execution_count": 4,
   "metadata": {
    "colab": {
     "base_uri": "https://localhost:8080/"
    },
    "id": "ByQRZ4NfkQo6",
    "outputId": "96e394d8-98a7-48ae-dda7-a0562efe4070"
   },
   "outputs": [
    {
     "data": {
      "text/plain": [
       "<keras.layers.pooling.AveragePooling2D at 0x7effcea305d0>"
      ]
     },
     "execution_count": 4,
     "metadata": {},
     "output_type": "execute_result"
    }
   ],
   "source": [
    "keras.layers.AveragePooling2D(2, strides=2, padding=\"valid\")"
   ]
  },
  {
   "cell_type": "markdown",
   "metadata": {
    "id": "pM3Z11BSnmT2"
   },
   "source": [
    "# Overall process in CNN\n",
    "1. Input Image Data\n",
    "2. CNN Layer\n",
    "  - kernel_size, padding, stride\n",
    "  - activation function\n",
    "  - Calculate each feature map\n",
    "3. Pooling Layer\n",
    "  - Maxpooling / Averagepooling\n",
    "  - final feature map\n",
    "4. Repeat the above process\n",
    "5. Fully Connected Layer\n",
    "6. Calculate classification predictions (Softmax)"
   ]
  }
 ],
 "metadata": {
  "colab": {
   "collapsed_sections": [],
   "name": "ML_ch_8_1.ipynb",
   "provenance": []
  },
  "kernelspec": {
   "display_name": "Python 3 (ipykernel)",
   "language": "python",
   "name": "python3"
  },
  "language_info": {
   "name": "python"
  }
 },
 "nbformat": 4,
 "nbformat_minor": 1
}
