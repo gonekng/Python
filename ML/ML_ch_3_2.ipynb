{
 "cells": [
  {
   "cell_type": "markdown",
   "metadata": {
    "id": "TEtDSqPXNKLH"
   },
   "source": [
    "# Data Set"
   ]
  },
  {
   "cell_type": "code",
   "execution_count": null,
   "metadata": {
    "id": "Y03ILxvhNF93"
   },
   "outputs": [],
   "source": [
    "import numpy as np\n",
    "\n",
    "perch_length = np.array(\n",
    "    [8.4, 13.7, 15.0, 16.2, 17.4, 18.0, 18.7, 19.0, 19.6, 20.0, \n",
    "     21.0, 21.0, 21.0, 21.3, 22.0, 22.0, 22.0, 22.0, 22.0, 22.5, \n",
    "     22.5, 22.7, 23.0, 23.5, 24.0, 24.0, 24.6, 25.0, 25.6, 26.5, \n",
    "     27.3, 27.5, 27.5, 27.5, 28.0, 28.7, 30.0, 32.8, 34.5, 35.0, \n",
    "     36.5, 36.0, 37.0, 37.0, 39.0, 39.0, 39.0, 40.0, 40.0, 40.0, \n",
    "     40.0, 42.0, 43.0, 43.0, 43.5, 44.0]\n",
    "     )\n",
    "perch_weight = np.array(\n",
    "    [5.9, 32.0, 40.0, 51.5, 70.0, 100.0, 78.0, 80.0, 85.0, 85.0, \n",
    "     110.0, 115.0, 125.0, 130.0, 120.0, 120.0, 130.0, 135.0, 110.0, \n",
    "     130.0, 150.0, 145.0, 150.0, 170.0, 225.0, 145.0, 188.0, 180.0, \n",
    "     197.0, 218.0, 300.0, 260.0, 265.0, 250.0, 250.0, 300.0, 320.0, \n",
    "     514.0, 556.0, 840.0, 685.0, 700.0, 700.0, 690.0, 900.0, 650.0, \n",
    "     820.0, 850.0, 900.0, 1015.0, 820.0, 1100.0, 1000.0, 1100.0, \n",
    "     1000.0, 1000.0]\n",
    "     )"
   ]
  },
  {
   "cell_type": "code",
   "execution_count": null,
   "metadata": {
    "colab": {
     "base_uri": "https://localhost:8080/"
    },
    "id": "1rfAXnMtNlaW",
    "outputId": "3a7d4a97-c23b-430b-d557-3813faf36e7e"
   },
   "outputs": [
    {
     "data": {
      "text/plain": [
       "((42,), (14,), (42,), (14,))"
      ]
     },
     "execution_count": 3,
     "metadata": {},
     "output_type": "execute_result"
    }
   ],
   "source": [
    "from sklearn.model_selection import train_test_split\n",
    "train_input, test_input, train_target, test_target = train_test_split(\n",
    "    perch_length, perch_weight, random_state=42\n",
    ")\n",
    "train_input.shape, test_input.shape, train_target.shape, test_target.shape"
   ]
  },
  {
   "cell_type": "code",
   "execution_count": null,
   "metadata": {
    "colab": {
     "base_uri": "https://localhost:8080/"
    },
    "id": "Y4QB2fBiNvxO",
    "outputId": "e0326992-828b-4b13-e6c6-ceabe52804ff"
   },
   "outputs": [
    {
     "name": "stdout",
     "output_type": "stream",
     "text": [
      "(42, 1) (14, 1)\n"
     ]
    }
   ],
   "source": [
    "train_input = train_input.reshape(-1,1)\n",
    "test_input = test_input.reshape(-1,1)\n",
    "\n",
    "print(train_input.shape, test_input.shape)"
   ]
  },
  {
   "cell_type": "markdown",
   "metadata": {
    "id": "M9je5o-AN95_"
   },
   "source": [
    "# KNN Regression"
   ]
  },
  {
   "cell_type": "code",
   "execution_count": null,
   "metadata": {
    "colab": {
     "base_uri": "https://localhost:8080/"
    },
    "id": "cAK2lnY5OAMF",
    "outputId": "ca3a9648-4af4-4f80-f89a-f8757475f139"
   },
   "outputs": [
    {
     "data": {
      "text/plain": [
       "0.9746459963987609"
      ]
     },
     "execution_count": 10,
     "metadata": {},
     "output_type": "execute_result"
    }
   ],
   "source": [
    "from sklearn.neighbors import KNeighborsRegressor\n",
    "\n",
    "knr = KNeighborsRegressor(n_neighbors=3)\n",
    "knr.fit(train_input, train_target)\n",
    "knr.score(test_input, test_target)"
   ]
  },
  {
   "cell_type": "markdown",
   "metadata": {
    "id": "VubVWtbqOvat"
   },
   "source": [
    "## Predict a data 1\n",
    "- the weight of a 50-centimeter-long perch"
   ]
  },
  {
   "cell_type": "code",
   "execution_count": null,
   "metadata": {
    "colab": {
     "base_uri": "https://localhost:8080/"
    },
    "id": "fVBQvM0sOyfa",
    "outputId": "8853be52-a916-4e03-b33d-47935d7f16bb"
   },
   "outputs": [
    {
     "name": "stdout",
     "output_type": "stream",
     "text": [
      "[1033.33333333]\n"
     ]
    }
   ],
   "source": [
    "print(knr.predict([[50]]))"
   ]
  },
  {
   "cell_type": "code",
   "execution_count": null,
   "metadata": {
    "colab": {
     "base_uri": "https://localhost:8080/",
     "height": 265
    },
    "id": "NtNugrCmO018",
    "outputId": "da9be936-c90e-477b-c7be-e6404ed7a17c"
   },
   "outputs": [
    {
     "data": {
      "image/png": "[encoded data removed]",
      "text/plain": [
       "<Figure size 432x288 with 1 Axes>"
      ]
     },
     "metadata": {
      "needs_background": "light"
     },
     "output_type": "display_data"
    }
   ],
   "source": [
    "import matplotlib.pyplot as plt\n",
    "\n",
    "distances, indexes = knr.kneighbors([[50]])\n",
    "\n",
    "fig, ax = plt.subplots()\n",
    "ax.scatter(train_input, train_target)\n",
    "ax.scatter(train_input[indexes], train_target[indexes], marker=\"D\") # 3 neighbors\n",
    "ax.scatter(50, knr.predict([[50]]), marker='^') # new data\n",
    "plt.show()"
   ]
  },
  {
   "cell_type": "markdown",
   "metadata": {
    "id": "iEA8-Hm9RvuA"
   },
   "source": [
    "## Predict a data 2\n",
    "- the weight of a 100-centimeter-long perch"
   ]
  },
  {
   "cell_type": "code",
   "execution_count": null,
   "metadata": {
    "colab": {
     "base_uri": "https://localhost:8080/"
    },
    "id": "GXYicS8_RvuB",
    "outputId": "8853be52-a916-4e03-b33d-47935d7f16bb"
   },
   "outputs": [
    {
     "name": "stdout",
     "output_type": "stream",
     "text": [
      "[1033.33333333]\n"
     ]
    }
   ],
   "source": [
    "print(knr.predict([[100]]))"
   ]
  },
  {
   "cell_type": "code",
   "execution_count": null,
   "metadata": {
    "colab": {
     "base_uri": "https://localhost:8080/",
     "height": 265
    },
    "id": "MdBOA3VZRvuB",
    "outputId": "c2b6f054-6503-44b4-b77b-18429e0a5bb5"
   },
   "outputs": [
    {
     "data": {
      "image/png": "[encoded data removed]",
      "text/plain": [
       "<Figure size 432x288 with 1 Axes>"
      ]
     },
     "metadata": {
      "needs_background": "light"
     },
     "output_type": "display_data"
    }
   ],
   "source": [
    "distances, indexes = knr.kneighbors([[100]])\n",
    "\n",
    "fig, ax = plt.subplots()\n",
    "ax.scatter(train_input, train_target)\n",
    "ax.scatter(train_input[indexes], train_target[indexes], marker=\"D\") # 3 neighbors\n",
    "ax.scatter(100, knr.predict([[100]]), marker='^') # new data\n",
    "plt.show()"
   ]
  },
  {
   "cell_type": "markdown",
   "metadata": {
    "id": "iHI-qwb4SeX8"
   },
   "source": [
    "- Beyond the scope of the new training set, incorrect values can be predicted.\n",
    "\n",
    "- No matter how big the length is, the weight doesn't increase anymore."
   ]
  },
  {
   "cell_type": "markdown",
   "metadata": {
    "id": "EQgHCG5zUy4l"
   },
   "source": [
    "※ Machine learning models must be trained periodically.\n",
    "> MLOps (Machine Learning & Opearations)\n",
    "- the essential skill for data scientist, ML engineer."
   ]
  },
  {
   "cell_type": "markdown",
   "metadata": {
    "id": "UChGYGJmS6cH"
   },
   "source": [
    "# Linear Regression\n",
    "- in statistics:\n",
    "  + The process of finding causal relationships is more important.\n",
    "  + 4 assumptions (linearity, normality, independence, equal variance)\n",
    "- in ML:\n",
    "  + Predicting results is more important.\n",
    "  + R-squared, MAE, RMSE, etc"
   ]
  },
  {
   "cell_type": "markdown",
   "metadata": {
    "id": "L8DC_WUcXZx2"
   },
   "source": [
    "## Predict a data"
   ]
  },
  {
   "cell_type": "code",
   "execution_count": null,
   "metadata": {
    "colab": {
     "base_uri": "https://localhost:8080/"
    },
    "id": "IoQs0HmXSh31",
    "outputId": "e136d085-f56a-4604-d088-4b813e867877"
   },
   "outputs": [
    {
     "name": "stdout",
     "output_type": "stream",
     "text": [
      "[1241.83860323]\n"
     ]
    }
   ],
   "source": [
    "from sklearn.linear_model import LinearRegression\n",
    "\n",
    "lr = LinearRegression()\n",
    "\n",
    "lr.fit(train_input, train_target)\n",
    "print(lr.predict([[50]]))"
   ]
  },
  {
   "cell_type": "code",
   "execution_count": null,
   "metadata": {
    "colab": {
     "base_uri": "https://localhost:8080/",
     "height": 265
    },
    "id": "8dqgQE4OXEiM",
    "outputId": "5f929c86-1f7c-4d52-dc02-b9c20b44c493"
   },
   "outputs": [
    {
     "data": {
      "image/png": "[encoded data removed]",
      "text/plain": [
       "<Figure size 432x288 with 1 Axes>"
      ]
     },
     "metadata": {
      "needs_background": "light"
     },
     "output_type": "display_data"
    }
   ],
   "source": [
    "fig, ax = plt.subplots()\n",
    "ax.scatter(train_input, train_target)\n",
    "ax.scatter(train_input[indexes], train_target[indexes], marker=\"D\") # 3 neighbors\n",
    "ax.scatter(50, lr.predict([[50]]), marker='^') # new data\n",
    "plt.show()"
   ]
  },
  {
   "cell_type": "markdown",
   "metadata": {
    "id": "i0mT5JsoXxu6"
   },
   "source": [
    "## Regression equation\n",
    "- coef_ : regression coefficient(weight)\n",
    "- intercept_ : regression intercept\n",
    "> $y = a + bx$\n",
    "- coefficient & intercept : model parameter\n",
    "  + Linear Regression is a model-based learning.\n",
    "  + KNN Regression is a case-based learning."
   ]
  },
  {
   "cell_type": "code",
   "execution_count": null,
   "metadata": {
    "colab": {
     "base_uri": "https://localhost:8080/"
    },
    "id": "NsNH8jnTXwXh",
    "outputId": "22e1a38b-d689-49b8-f621-4f456353ad2e"
   },
   "outputs": [
    {
     "name": "stdout",
     "output_type": "stream",
     "text": [
      "[39.01714496] -709.0186449535477\n"
     ]
    }
   ],
   "source": [
    "print(lr.coef_, lr.intercept_)"
   ]
  },
  {
   "cell_type": "code",
   "execution_count": null,
   "metadata": {
    "colab": {
     "base_uri": "https://localhost:8080/",
     "height": 265
    },
    "id": "WFJ2yUrOZr0I",
    "outputId": "bd96dbe6-30f1-443b-def3-53a3825d0dd7"
   },
   "outputs": [
    {
     "data": {
      "image/png": "[encoded data removed]",
      "text/plain": [
       "<Figure size 432x288 with 1 Axes>"
      ]
     },
     "metadata": {
      "needs_background": "light"
     },
     "output_type": "display_data"
    }
   ],
   "source": [
    "fig, ax = plt.subplots()\n",
    "\n",
    "# scatter plot of training set\n",
    "ax.scatter(train_input, train_target)\n",
    "\n",
    "# linear equation from 0 to 50\n",
    "ax.plot([0,50], [0*lr.coef_+lr.intercept_, 50*lr.coef_+lr.intercept_])\n",
    "\n",
    "ax.scatter(50, lr.predict([[50]]), marker=\"^\")\n",
    "ax.set_label(\"length\")\n",
    "ax.set_label(\"weight\")\n",
    "plt.show()"
   ]
  },
  {
   "cell_type": "code",
   "execution_count": null,
   "metadata": {
    "colab": {
     "base_uri": "https://localhost:8080/"
    },
    "id": "TWREQnTcao7_",
    "outputId": "494f41bf-3e4f-4261-9942-3e4fc6fc8406"
   },
   "outputs": [
    {
     "name": "stdout",
     "output_type": "stream",
     "text": [
      "0.939846333997604\n",
      "0.8247503123313558\n"
     ]
    }
   ],
   "source": [
    "print(lr.score(train_input, train_target))\n",
    "print(lr.score(test_input, test_target)) # Underfitting"
   ]
  },
  {
   "cell_type": "markdown",
   "metadata": {
    "id": "LYE6vrcdbCfa"
   },
   "source": [
    "- The model is so simple that it is underfit overall.\n",
    "  + It seems that polynomial regression is needed."
   ]
  },
  {
   "cell_type": "markdown",
   "metadata": {
    "id": "VRgX2z6Nb4aG"
   },
   "source": [
    "# Polynomial Regression\n",
    "- coef_ : regression coefficients(weights)\n",
    "- intercept_ : regression intercept\n",
    "> $y = a + b_1x_1 + b_2x_2 + ... + b_nx_n$\n",
    "\n"
   ]
  },
  {
   "cell_type": "markdown",
   "metadata": {
    "id": "u8lAhkSegJkk"
   },
   "source": [
    "## Predict a data"
   ]
  },
  {
   "cell_type": "code",
   "execution_count": null,
   "metadata": {
    "colab": {
     "base_uri": "https://localhost:8080/"
    },
    "id": "lo5jPpH0bNSt",
    "outputId": "376d5f27-b844-4ac9-8305-81784b149601"
   },
   "outputs": [
    {
     "name": "stdout",
     "output_type": "stream",
     "text": [
      "(42, 2) (14, 2)\n"
     ]
    }
   ],
   "source": [
    "# Broadcasting in Numpy\n",
    "train_poly = np.column_stack((train_input ** 2, train_input))\n",
    "test_poly = np.column_stack((test_input ** 2, test_input))\n",
    "print(train_poly.shape, test_poly.shape)"
   ]
  },
  {
   "cell_type": "markdown",
   "metadata": {
    "id": "JubGDPm1cqQn"
   },
   "source": [
    "※ Broadcasting in Numpy\n",
    "- tutorial : https://numpy.org/doc/stable/user/basics.broadcasting.html\n",
    "\n"
   ]
  },
  {
   "cell_type": "code",
   "execution_count": null,
   "metadata": {
    "colab": {
     "base_uri": "https://localhost:8080/"
    },
    "id": "un7I1Az1dAlE",
    "outputId": "12c1d018-616d-414c-890d-7a2646aa0925"
   },
   "outputs": [
    {
     "name": "stdout",
     "output_type": "stream",
     "text": [
      "[1573.98423528]\n"
     ]
    }
   ],
   "source": [
    "lr2 = LinearRegression()\n",
    "lr2.fit(train_poly, train_target)\n",
    "print(lr2.predict([[50**2, 50]]))"
   ]
  },
  {
   "cell_type": "markdown",
   "metadata": {
    "id": "Y_Xz_2K0gMfw"
   },
   "source": [
    "## Regression equation"
   ]
  },
  {
   "cell_type": "code",
   "execution_count": null,
   "metadata": {
    "colab": {
     "base_uri": "https://localhost:8080/"
    },
    "id": "tVIvFOx1dQeN",
    "outputId": "c4bb210b-1259-45b6-9df1-c4c13b0400e6"
   },
   "outputs": [
    {
     "name": "stdout",
     "output_type": "stream",
     "text": [
      "[  1.01433211 -21.55792498] 116.0502107827827\n"
     ]
    }
   ],
   "source": [
    "print(lr2.coef_, lr2.intercept_)"
   ]
  },
  {
   "cell_type": "code",
   "execution_count": null,
   "metadata": {
    "colab": {
     "base_uri": "https://localhost:8080/",
     "height": 279
    },
    "id": "zHY4HPKFf3_7",
    "outputId": "862db04f-5c80-4d5d-cfdc-1ce9bf212956"
   },
   "outputs": [
    {
     "data": {
      "image/png": "[encoded data removed]",
      "text/plain": [
       "<Figure size 432x288 with 1 Axes>"
      ]
     },
     "metadata": {
      "needs_background": "light"
     },
     "output_type": "display_data"
    }
   ],
   "source": [
    "point = np.arange(15,50)\n",
    "\n",
    "fig, ax = plt.subplots()\n",
    "ax.scatter(train_input, train_target)\n",
    "ax.plot(point,  lr2.coef_[0]*point**2 + lr2.coef_[1]*point + lr2.intercept_)\n",
    "ax.scatter(50, lr2.predict([[50**2, 50]]), marker=\"^\")\n",
    "ax.set_xlabel('length')\n",
    "ax.set_ylabel('weight')\n",
    "plt.show()"
   ]
  },
  {
   "cell_type": "code",
   "execution_count": null,
   "metadata": {
    "colab": {
     "base_uri": "https://localhost:8080/"
    },
    "id": "TaH6dO_vlF8F",
    "outputId": "73327538-e3f7-449b-d28d-fbc62709f318"
   },
   "outputs": [
    {
     "name": "stdout",
     "output_type": "stream",
     "text": [
      "0.9706807451768623\n",
      "0.9775935108325122\n"
     ]
    }
   ],
   "source": [
    "print(lr2.score(train_poly, train_target))\n",
    "print(lr2.score(test_poly, test_target)) # Underfitting"
   ]
  },
  {
   "cell_type": "markdown",
   "metadata": {
    "id": "3ib9-DQklkFO"
   },
   "source": [
    "- The model has improved a lot, but it is still underfit.\n",
    "  + It seems that a more complex model is needed."
   ]
  }
 ],
 "metadata": {
  "colab": {
   "collapsed_sections": [],
   "name": "ML_ch_3_2.ipynb",
   "provenance": [],
   "toc_visible": true
  },
  "kernelspec": {
   "display_name": "Python 3 (ipykernel)",
   "language": "python",
   "name": "python3"
  },
  "language_info": {
   "codemirror_mode": {
    "name": "ipython",
    "version": 3
   },
   "file_extension": ".py",
   "mimetype": "text/x-python",
   "name": "python",
   "nbconvert_exporter": "python",
   "pygments_lexer": "ipython3",
   "version": "3.9.7"
  }
 },
 "nbformat": 4,
 "nbformat_minor": 1
}
