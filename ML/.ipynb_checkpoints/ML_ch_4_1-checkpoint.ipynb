{
 "cells": [
  {
   "cell_type": "markdown",
   "metadata": {
    "id": "bZAmg1cuM9k6"
   },
   "source": [
    "# Prepare Data"
   ]
  },
  {
   "cell_type": "markdown",
   "metadata": {
    "id": "F3MGs7r8P0at"
   },
   "source": [
    "## Import data set"
   ]
  },
  {
   "cell_type": "code",
   "execution_count": 1,
   "metadata": {
    "colab": {
     "base_uri": "https://localhost:8080/",
     "height": 206
    },
    "id": "5OgGr0M2Mr38",
    "outputId": "dd6f3a17-2b6c-4a3b-c759-c0206a43a5f1"
   },
   "outputs": [
    {
     "name": "stdout",
     "output_type": "stream",
     "text": [
      "  Species  Weight  Length  Diagonal   Height   Width\n",
      "0   Bream   242.0    25.4      30.0  11.5200  4.0200\n",
      "1   Bream   290.0    26.3      31.2  12.4800  4.3056\n",
      "2   Bream   340.0    26.5      31.1  12.3778  4.6961\n",
      "3   Bream   363.0    29.0      33.5  12.7300  4.4555\n",
      "4   Bream   430.0    29.0      34.0  12.4440  5.1340\n"
     ]
    }
   ],
   "source": [
    "import pandas as pd\n",
    "\n",
    "fish = pd.read_csv('https://bit.ly/fish_csv_data')\n",
    "print(fish.head())"
   ]
  },
  {
   "cell_type": "code",
   "execution_count": 3,
   "metadata": {
    "colab": {
     "base_uri": "https://localhost:8080/"
    },
    "id": "bdGJEjWpNsi6",
    "outputId": "feaf4017-79b9-4f1b-89b5-97936f8df7ce"
   },
   "outputs": [
    {
     "name": "stdout",
     "output_type": "stream",
     "text": [
      "['Bream' 'Roach' 'Whitefish' 'Parkki' 'Perch' 'Pike' 'Smelt']\n"
     ]
    }
   ],
   "source": [
    "print(pd.unique(fish['Species']))"
   ]
  },
  {
   "cell_type": "markdown",
   "metadata": {
    "id": "SfLyFrI1P5uZ"
   },
   "source": [
    "## Convert to Numpy array"
   ]
  },
  {
   "cell_type": "code",
   "execution_count": 7,
   "metadata": {
    "colab": {
     "base_uri": "https://localhost:8080/"
    },
    "id": "pWudu4FINBLJ",
    "outputId": "86e2b7f6-b6d4-46e3-d07f-2ccf8bf9863f"
   },
   "outputs": [
    {
     "name": "stdout",
     "output_type": "stream",
     "text": [
      "(159, 5)\n",
      "[[242.      25.4     30.      11.52     4.02  ]\n",
      " [290.      26.3     31.2     12.48     4.3056]\n",
      " [340.      26.5     31.1     12.3778   4.6961]]\n"
     ]
    }
   ],
   "source": [
    "fish_input = fish[['Weight','Length','Diagonal','Height','Width']].to_numpy()\n",
    "print(fish_input.shape)\n",
    "print(fish_input[:3])"
   ]
  },
  {
   "cell_type": "code",
   "execution_count": 10,
   "metadata": {
    "colab": {
     "base_uri": "https://localhost:8080/"
    },
    "id": "4GromB9KOBTG",
    "outputId": "325f24a9-9dfc-4528-bbe4-ea58b15df67f"
   },
   "outputs": [
    {
     "name": "stdout",
     "output_type": "stream",
     "text": [
      "(159,)\n"
     ]
    }
   ],
   "source": [
    "fish_target = fish['Species'].to_numpy()\n",
    "print(fish_target.shape)"
   ]
  },
  {
   "cell_type": "markdown",
   "metadata": {
    "id": "H2w8eCTuQR6a"
   },
   "source": [
    "## Split and Standardize"
   ]
  },
  {
   "cell_type": "code",
   "execution_count": 12,
   "metadata": {
    "id": "E2bWDSadOhdC"
   },
   "outputs": [],
   "source": [
    "from sklearn.model_selection import train_test_split\n",
    "train_input, test_input, train_target, test_target = train_test_split(\n",
    "    fish_input, fish_target, random_state=42\n",
    ")"
   ]
  },
  {
   "cell_type": "code",
   "execution_count": 13,
   "metadata": {
    "id": "DC565YzsOyPZ"
   },
   "outputs": [],
   "source": [
    "from sklearn.preprocessing import StandardScaler\n",
    "ss = StandardScaler()\n",
    "ss.fit(train_input)\n",
    "train_scaled = ss.transform(train_input)\n",
    "test_scaled = ss.transform(test_input)"
   ]
  },
  {
   "cell_type": "code",
   "execution_count": 14,
   "metadata": {
    "colab": {
     "base_uri": "https://localhost:8080/"
    },
    "id": "_K2RTLVOPEgl",
    "outputId": "c508447c-e0be-488d-c611-7be5acd8a68b"
   },
   "outputs": [
    {
     "name": "stdout",
     "output_type": "stream",
     "text": [
      "[[720.      35.      40.6     16.3618   6.09  ]\n",
      " [500.      45.      48.       6.96     4.896 ]\n",
      " [  7.5     10.5     11.6      1.972    1.16  ]]\n",
      "[[ 0.91965782  0.60943175  0.81041221  1.85194896  1.00075672]\n",
      " [ 0.30041219  1.54653445  1.45316551 -0.46981663  0.27291745]\n",
      " [-1.0858536  -1.68646987 -1.70848587 -1.70159849 -2.0044758 ]\n",
      " [-0.79734143 -0.60880176 -0.67486907 -0.82480589 -0.27631471]\n",
      " [-0.71289885 -0.73062511 -0.70092664 -0.0802298  -0.7033869 ]]\n",
      "[[-0.88741352 -0.91804565 -1.03098914 -0.90464451 -0.80762518]\n",
      " [-1.06924656 -1.50842035 -1.54345461 -1.58849582 -1.93803151]\n",
      " [-0.54401367  0.35641402  0.30663259 -0.8135697  -0.65388895]\n",
      " [-0.34698097 -0.23396068 -0.22320459 -0.11905019 -0.12233464]\n",
      " [-0.68475132 -0.51509149 -0.58801052 -0.8998784  -0.50124996]]\n"
     ]
    }
   ],
   "source": [
    "print(train_input[:3])\n",
    "print(train_scaled[:3])"
   ]
  },
  {
   "cell_type": "markdown",
   "metadata": {
    "id": "jdZz4BHzVMAv"
   },
   "source": [
    "\n",
    "\n",
    "---\n",
    "\n"
   ]
  },
  {
   "cell_type": "markdown",
   "metadata": {
    "id": "p-FWRQiWQkjY"
   },
   "source": [
    "# KNN Classifier"
   ]
  },
  {
   "cell_type": "markdown",
   "metadata": {
    "id": "fxTNFkhFRcIw"
   },
   "source": [
    "## Model fitting"
   ]
  },
  {
   "cell_type": "code",
   "execution_count": 15,
   "metadata": {
    "colab": {
     "base_uri": "https://localhost:8080/"
    },
    "id": "4YEuyh7bQn0l",
    "outputId": "f144cfae-56e6-41d9-df09-61247aebac8e"
   },
   "outputs": [
    {
     "name": "stdout",
     "output_type": "stream",
     "text": [
      "0.8907563025210085\n",
      "0.85\n"
     ]
    }
   ],
   "source": [
    "from sklearn.neighbors import KNeighborsClassifier\n",
    "\n",
    "kn = KNeighborsClassifier(n_neighbors=3)\n",
    "kn.fit(train_scaled, train_target)\n",
    "\n",
    "print(kn.score(train_scaled, train_target))\n",
    "print(kn.score(test_scaled, test_target))"
   ]
  },
  {
   "cell_type": "markdown",
   "metadata": {
    "id": "NW3uM-v6ReqZ"
   },
   "source": [
    "## Multi-class Classfication"
   ]
  },
  {
   "cell_type": "code",
   "execution_count": 20,
   "metadata": {
    "colab": {
     "base_uri": "https://localhost:8080/"
    },
    "id": "GWfifeIdRGWD",
    "outputId": "d13e89bd-36b8-46c5-f394-06d3bc59ba07"
   },
   "outputs": [
    {
     "name": "stdout",
     "output_type": "stream",
     "text": [
      "['Bream' 'Parkki' 'Perch' 'Pike' 'Roach' 'Smelt' 'Whitefish']\n",
      "[[0.     0.     1.     0.     0.     0.     0.    ]\n",
      " [0.     0.     0.     0.     0.     1.     0.    ]\n",
      " [0.     0.     0.     1.     0.     0.     0.    ]\n",
      " [0.     0.     0.6667 0.     0.3333 0.     0.    ]\n",
      " [0.     0.     0.6667 0.     0.3333 0.     0.    ]]\n"
     ]
    }
   ],
   "source": [
    "import numpy as np\n",
    "proba = kn.predict_proba(test_scaled[:5])\n",
    "print(kn.classes_)\n",
    "print(np.round(proba, decimals=4))"
   ]
  },
  {
   "cell_type": "code",
   "execution_count": 22,
   "metadata": {
    "colab": {
     "base_uri": "https://localhost:8080/"
    },
    "id": "LDYxLOxJRVST",
    "outputId": "66e5dba5-7958-4c08-b27d-0b8a887f2111"
   },
   "outputs": [
    {
     "name": "stdout",
     "output_type": "stream",
     "text": [
      "[['Roach' 'Perch' 'Perch']]\n"
     ]
    }
   ],
   "source": [
    "distances, indexes = kn.kneighbors(test_scaled[3:4]) # Two-dimensional array must be input\n",
    "print(train_target[indexes])"
   ]
  },
  {
   "cell_type": "markdown",
   "metadata": {
    "id": "fxnQ8zu3TxD5"
   },
   "source": [
    "- The probability calculated by the model is the ratio of the nearest neighbor.\n",
    "  + In this model(k=3), the probability values are 0, 1/3, 2/3, and 1.\n",
    "  + If k is set as 5, the probability values may be 0, 0.2, 0.4, 0.6, 0.8 and 1."
   ]
  },
  {
   "cell_type": "code",
   "execution_count": 37,
   "metadata": {
    "colab": {
     "base_uri": "https://localhost:8080/"
    },
    "id": "m4-1JAwYU_lA",
    "outputId": "fb04baac-e8d7-4611-f423-d13aa7558afa"
   },
   "outputs": [
    {
     "name": "stdout",
     "output_type": "stream",
     "text": [
      "['Bream' 'Parkki' 'Perch' 'Pike' 'Roach' 'Smelt' 'Whitefish']\n",
      "[[0.  0.  0.6 0.  0.4 0.  0. ]\n",
      " [0.  0.  0.  0.  0.  1.  0. ]\n",
      " [0.  0.  0.2 0.8 0.  0.  0. ]\n",
      " [0.  0.  0.8 0.  0.2 0.  0. ]\n",
      " [0.  0.  0.8 0.  0.2 0.  0. ]]\n",
      "['Perch' 'Smelt' 'Pike' 'Perch' 'Perch']\n"
     ]
    }
   ],
   "source": [
    "kn = KNeighborsClassifier(n_neighbors=5)\n",
    "kn.fit(train_scaled, train_target)\n",
    "proba = kn.predict_proba(test_scaled[:5])\n",
    "print(kn.classes_)\n",
    "print(np.round(proba, decimals=4))\n",
    "print(kn.predict(test_scaled[:5]))"
   ]
  },
  {
   "cell_type": "markdown",
   "metadata": {
    "id": "D_x5wFa5VNY6"
   },
   "source": [
    "\n",
    "\n",
    "---\n",
    "\n"
   ]
  },
  {
   "cell_type": "markdown",
   "metadata": {
    "id": "Hx-bixsNSTqn"
   },
   "source": [
    "# Logistic Regression\n",
    "### : Estimating a model with a regression equation for categorical dependent variables.\n",
    "- Despite its name, a classification model rather than regression model\n",
    "- Highly important model\n",
    "  + used as basic statistics (especially medical statistics)\n",
    "  + the basis of the machine learning classification model.\n",
    "  + early model of deep learning\n",
    "- To overcome the linearity assumption problem of general regression equation\n",
    "  + Logit transformation : the log of the odds ratio\n",
    "  + Using the logit of Y as the dependent variable of the regression"
   ]
  },
  {
   "cell_type": "markdown",
   "metadata": {
    "id": "MytNIgBhaiVH"
   },
   "source": [
    "## Sigmoid function\n",
    "- also called a logistic function\n",
    "- Convert the value z calculated by linear regression to a probability value between 0 and 1\n",
    "  + z < 0: the function approaches 0\n",
    "  + z > 0: the function approaches 1\n",
    "  + z = 0: the function value is 0.5"
   ]
  },
  {
   "cell_type": "code",
   "execution_count": 27,
   "metadata": {
    "colab": {
     "base_uri": "https://localhost:8080/",
     "height": 300
    },
    "id": "Wm7HTmG-S9iA",
    "outputId": "d88174bc-d5f7-40c5-b464-b4994581a57d"
   },
   "outputs": [
    {
     "data": {
      "image/png": "[encoded data removed]",
      "text/plain": [
       "<Figure size 432x288 with 1 Axes>"
      ]
     },
     "metadata": {
      "needs_background": "light"
     },
     "output_type": "display_data"
    }
   ],
   "source": [
    "import numpy as np\n",
    "import matplotlib.pyplot as plt\n",
    "z = np.arange(-5, 5, 0.1)\n",
    "phi = 1 / (1 + np.exp(-z)) # sigmoid function\n",
    "\n",
    "fig, ax = plt.subplots()\n",
    "ax.plot(z, phi)\n",
    "ax.set_xlabel('z', fontsize=12)\n",
    "ax.set_ylabel('phi', fontsize=12)\n",
    "ax.set_title(\"Sigmoid Function for Logistic Regression\", fontsize=15)\n",
    "plt.show()"
   ]
  },
  {
   "cell_type": "markdown",
   "metadata": {
    "id": "I43FgiNreQa6"
   },
   "source": [
    "## Binary classification"
   ]
  },
  {
   "cell_type": "code",
   "execution_count": 30,
   "metadata": {
    "id": "RWOLWQkdeP-L"
   },
   "outputs": [],
   "source": [
    "# Boolean Indexing: using a boolean vector to filter the data. \n",
    "# Choose only Bream and Smelt from the training set.\n",
    "bream_smelt_indexes = (train_target == 'Bream') | (train_target == 'Smelt')\n",
    "train_bream_smelt = train_scaled[bream_smelt_indexes]\n",
    "target_bream_smelt = train_target[bream_smelt_indexes]"
   ]
  },
  {
   "cell_type": "code",
   "execution_count": 44,
   "metadata": {
    "colab": {
     "base_uri": "https://localhost:8080/"
    },
    "id": "R6KEqeL3exoU",
    "outputId": "3717273d-afab-47a5-8503-84dfd5f0d2cf"
   },
   "outputs": [
    {
     "name": "stdout",
     "output_type": "stream",
     "text": [
      "['Bream' 'Smelt']\n",
      "[[0.998 0.002]\n",
      " [0.027 0.973]\n",
      " [0.995 0.005]\n",
      " [0.986 0.014]\n",
      " [0.998 0.002]]\n",
      "['Bream' 'Smelt' 'Bream' 'Bream' 'Bream']\n"
     ]
    }
   ],
   "source": [
    "from sklearn.linear_model import LogisticRegression\n",
    "lr = LogisticRegression()\n",
    "lr.fit(train_bream_smelt, target_bream_smelt)\n",
    "\n",
    "print(lr.classes_) # 0: Bream / 1: Smelt\n",
    "proba = lr.predict_proba(train_bream_smelt[:5])\n",
    "print(np.round(proba, decimals=3)) # 5 rows, 2 columns\n",
    "print(lr.predict(train_bream_smelt[:5]))"
   ]
  },
  {
   "cell_type": "code",
   "execution_count": 38,
   "metadata": {
    "colab": {
     "base_uri": "https://localhost:8080/"
    },
    "id": "rEuM-rEmfAQx",
    "outputId": "e70698e6-94ee-4c6c-fe26-079dac7eeb42"
   },
   "outputs": [
    {
     "name": "stdout",
     "output_type": "stream",
     "text": [
      "[[-0.4037798  -0.57620209 -0.66280298 -1.01290277 -0.73168947]] [-2.16155132]\n"
     ]
    }
   ],
   "source": [
    "print(lr.coef_, lr.intercept_)"
   ]
  },
  {
   "cell_type": "markdown",
   "metadata": {
    "id": "GH0kuNauiuKO"
   },
   "source": [
    ">  *z = - 0.404 * Weight - 0. 576 * Length - 0.663 * Diagonal - 1.013 * Height - 0.732 * Width - 2.162*"
   ]
  },
  {
   "cell_type": "code",
   "execution_count": 39,
   "metadata": {
    "colab": {
     "base_uri": "https://localhost:8080/"
    },
    "id": "PU4eHxyMg7R9",
    "outputId": "8012fb3f-138d-4d9b-ca5b-66e57afdc800"
   },
   "outputs": [
    {
     "name": "stdout",
     "output_type": "stream",
     "text": [
      "[-6.02927744  3.57123907 -5.26568906 -4.24321775 -6.0607117 ]\n"
     ]
    }
   ],
   "source": [
    "decisions = lr.decision_function(train_bream_smelt[:5])\n",
    "print(decisions) # original z-value of positive class(Smelt)"
   ]
  },
  {
   "cell_type": "code",
   "execution_count": 40,
   "metadata": {
    "colab": {
     "base_uri": "https://localhost:8080/"
    },
    "id": "FJuycM7ChInn",
    "outputId": "03436406-a9f7-4a06-9c08-b46dd319ba1f"
   },
   "outputs": [
    {
     "name": "stdout",
     "output_type": "stream",
     "text": [
      "[0.00240145 0.97264817 0.00513928 0.01415798 0.00232731]\n"
     ]
    }
   ],
   "source": [
    "from scipy.special import expit\n",
    "print(expit(decisions)) # probability value through sigmoid function"
   ]
  },
  {
   "cell_type": "markdown",
   "metadata": {
    "id": "Y5rwK6ARo3lW"
   },
   "source": [
    "## Multi-class classification\n",
    "- basically use iterative algorithms (max_iter, default 100)\n",
    "  + in this model, set max_iter as 1000 (for sufficient training)\n",
    "\n",
    "#### L2 Regularization\n",
    "  - based on the square value of the coefficient such as ridge regression\n",
    "  - hyperparameter; C ( default 1)\n",
    "    + the smaller the value, the greater the regulation.\n",
    "    + in this model, set C as 20 (in order to ease regulations a little)"
   ]
  },
  {
   "cell_type": "code",
   "execution_count": 45,
   "metadata": {
    "colab": {
     "base_uri": "https://localhost:8080/"
    },
    "id": "44_foU4cp8Dc",
    "outputId": "1c24f2e5-1899-489d-932b-524762a11ea5"
   },
   "outputs": [
    {
     "name": "stdout",
     "output_type": "stream",
     "text": [
      "0.9327731092436975\n",
      "0.925\n"
     ]
    }
   ],
   "source": [
    "lr = LogisticRegression(C=20, max_iter=1000)\n",
    "lr.fit(train_scaled, train_target)\n",
    "print(lr.score(train_scaled, train_target))\n",
    "print(lr.score(test_scaled, test_target))"
   ]
  },
  {
   "cell_type": "code",
   "execution_count": 46,
   "metadata": {
    "colab": {
     "base_uri": "https://localhost:8080/"
    },
    "id": "XOl2ZgHdrVUs",
    "outputId": "b2fdc7c8-d785-4f55-8c24-c2e446bbc17d"
   },
   "outputs": [
    {
     "name": "stdout",
     "output_type": "stream",
     "text": [
      "['Bream' 'Parkki' 'Perch' 'Pike' 'Roach' 'Smelt' 'Whitefish']\n",
      "[[0.    0.014 0.841 0.    0.136 0.007 0.003]\n",
      " [0.    0.003 0.044 0.    0.007 0.946 0.   ]\n",
      " [0.    0.    0.034 0.935 0.015 0.016 0.   ]\n",
      " [0.011 0.034 0.306 0.007 0.567 0.    0.076]\n",
      " [0.    0.    0.904 0.002 0.089 0.002 0.001]]\n",
      "['Perch' 'Smelt' 'Pike' 'Roach' 'Perch']\n"
     ]
    }
   ],
   "source": [
    "print(lr.classes_)\n",
    "proba = lr.predict_proba(test_scaled[:5])\n",
    "print(np.round(proba, decimals=3)) # 5 rows, 7 columns\n",
    "print(lr.predict(test_scaled[:5]))"
   ]
  },
  {
   "cell_type": "code",
   "execution_count": 49,
   "metadata": {
    "colab": {
     "base_uri": "https://localhost:8080/"
    },
    "id": "wG2XpoJBsIxk",
    "outputId": "6cbbe799-1281-4562-e23d-f149e05599ca"
   },
   "outputs": [
    {
     "name": "stdout",
     "output_type": "stream",
     "text": [
      "(7, 5) (7,)\n",
      "[[-1.49002087 -1.02912886  2.59345551  7.70357682 -1.2007011 ]\n",
      " [ 0.19618235 -2.01068181 -3.77976834  6.50491489 -1.99482722]\n",
      " [ 3.56279745  6.34357182 -8.48971143 -5.75757348  3.79307308]\n",
      " [-0.10458098  3.60319431  3.93067812 -3.61736674 -1.75069691]\n",
      " [-1.40061442 -6.07503434  5.25969314 -0.87220069  1.86043659]\n",
      " [-1.38526214  1.49214574  1.39226167 -5.67734118 -4.40097523]\n",
      " [ 0.62149861 -2.32406685 -0.90660867  1.71599038  3.6936908 ]]\n",
      "[-0.09205179 -0.26290885  3.25101327 -0.14742956  2.65498283 -6.78782948\n",
      "  1.38422358]\n"
     ]
    }
   ],
   "source": [
    "print(lr.coef_.shape, lr.intercept_.shape)"
   ]
  },
  {
   "cell_type": "markdown",
   "metadata": {
    "id": "jSB7kajfsfeG"
   },
   "source": [
    "- The z value is calculated one by one for each class and classified into the class that outputs the highest value."
   ]
  },
  {
   "cell_type": "markdown",
   "metadata": {
    "id": "gUlUAdxrs1u7"
   },
   "source": [
    "## Softmax function\n",
    "- also called a normalized exponential function (because of using exponential functions)\n",
    "- The outputs of several linear equations are compressed from 0 to 1, and the total sum is 1.\n",
    "  > *e_sum = e^z1 + e^z2 + ... + e^z7*\n",
    "\n",
    "  > *s1 = e^z1/e_sum, s2 = e^z2/e_sum, ... , s7 = e^z7/e_sum*"
   ]
  },
  {
   "cell_type": "code",
   "execution_count": 50,
   "metadata": {
    "colab": {
     "base_uri": "https://localhost:8080/"
    },
    "id": "HsLx07SmuW-3",
    "outputId": "365847df-cb00-4dfd-e82e-2254ba3410fb"
   },
   "outputs": [
    {
     "name": "stdout",
     "output_type": "stream",
     "text": [
      "[[ -6.498   1.032   5.164  -2.729   3.339   0.327  -0.634]\n",
      " [-10.859   1.927   4.771  -2.398   2.978   7.841  -4.26 ]\n",
      " [ -4.335  -6.233   3.174   6.487   2.358   2.421  -3.872]\n",
      " [ -0.683   0.453   2.647  -1.187   3.265  -5.753   1.259]\n",
      " [ -6.397  -1.993   5.816  -0.11    3.503  -0.112  -0.707]]\n"
     ]
    }
   ],
   "source": [
    "decision = lr.decision_function(test_scaled[:5])\n",
    "print(np.round(decision, decimals=3)) # original z value"
   ]
  },
  {
   "cell_type": "code",
   "execution_count": 51,
   "metadata": {
    "colab": {
     "base_uri": "https://localhost:8080/"
    },
    "id": "0DlNoJ1bvEL9",
    "outputId": "8d3b5b2f-9def-4d8a-c9c2-85f0757d3d6e"
   },
   "outputs": [
    {
     "name": "stdout",
     "output_type": "stream",
     "text": [
      "[[0.    0.014 0.841 0.    0.136 0.007 0.003]\n",
      " [0.    0.003 0.044 0.    0.007 0.946 0.   ]\n",
      " [0.    0.    0.034 0.935 0.015 0.016 0.   ]\n",
      " [0.011 0.034 0.306 0.007 0.567 0.    0.076]\n",
      " [0.    0.    0.904 0.002 0.089 0.002 0.001]]\n"
     ]
    }
   ],
   "source": [
    "from scipy.special import softmax\n",
    "proba = softmax(decision, axis=1)\n",
    "print(np.round(proba, decimals=3)) # probability value through softmax function"
   ]
  }
 ],
 "metadata": {
  "colab": {
   "collapsed_sections": [],
   "name": "ML_ch_4_1.ipynb",
   "provenance": [],
   "toc_visible": true
  },
  "kernelspec": {
   "display_name": "Python 3 (ipykernel)",
   "language": "python",
   "name": "python3"
  },
  "language_info": {
   "codemirror_mode": {
    "name": "ipython",
    "version": 3
   },
   "file_extension": ".py",
   "mimetype": "text/x-python",
   "name": "python",
   "nbconvert_exporter": "python",
   "pygments_lexer": "ipython3",
   "version": "3.9.7"
  }
 },
 "nbformat": 4,
 "nbformat_minor": 1
}
