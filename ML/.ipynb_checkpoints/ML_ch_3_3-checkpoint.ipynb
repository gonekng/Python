{
 "cells": [
  {
   "cell_type": "markdown",
   "metadata": {
    "id": "rhDniXUzmbUR"
   },
   "source": [
    "# Prepare Data"
   ]
  },
  {
   "cell_type": "code",
   "execution_count": 2,
   "metadata": {
    "id": "0Jr8fmFemaUo"
   },
   "outputs": [],
   "source": [
    "import pandas as pd\n",
    "df = pd.read_csv('https://bit.ly/perch_csv_data')\n",
    "perch_full = df.to_numpy() # Convert Pandas DataFrame to Numpy Array"
   ]
  },
  {
   "cell_type": "code",
   "execution_count": 3,
   "metadata": {
    "id": "YeXI2JK-hZrn"
   },
   "outputs": [],
   "source": [
    "import numpy as np\n",
    "perch_weight = np.array([5.9, 32.0, 40.0, 51.5, 70.0, 100.0, 78.0, 80.0, 85.0, 85.0, 110.0,\n",
    "       115.0, 125.0, 130.0, 120.0, 120.0, 130.0, 135.0, 110.0, 130.0,\n",
    "       150.0, 145.0, 150.0, 170.0, 225.0, 145.0, 188.0, 180.0, 197.0,\n",
    "       218.0, 300.0, 260.0, 265.0, 250.0, 250.0, 300.0, 320.0, 514.0,\n",
    "       556.0, 840.0, 685.0, 700.0, 700.0, 690.0, 900.0, 650.0, 820.0,\n",
    "       850.0, 900.0, 1015.0, 820.0, 1100.0, 1000.0, 1100.0, 1000.0,\n",
    "       1000.0])"
   ]
  },
  {
   "cell_type": "code",
   "execution_count": 5,
   "metadata": {
    "id": "IDjKg39Mhnmn"
   },
   "outputs": [],
   "source": [
    "from sklearn.model_selection import train_test_split\n",
    "train_input, test_input, train_target, test_target = train_test_split(\n",
    "    perch_full, perch_weight, random_state=42\n",
    ")"
   ]
  },
  {
   "cell_type": "markdown",
   "metadata": {
    "id": "HKFrxE4swS1d"
   },
   "source": [
    "\n",
    "\n",
    "---\n",
    "\n"
   ]
  },
  {
   "cell_type": "markdown",
   "metadata": {
    "id": "s0THOIRmjLdd"
   },
   "source": [
    "# Transform Data\n",
    "\n",
    "### ※ Scikit-Learn Class\n",
    "  - Estimator(추정기; model class) : Fitting and predicting\n",
    "    - KNeighborsClassifier, LinearRegression, etc.\n",
    "    - common method : fit(), score(), predict()\n",
    "  - Transformer(변환기) and Pre-processors : transforming or imputing data\n",
    "    - PolynomialFeatures, StandardScaler, etc\n",
    "    - common method : fit(), transform()\n",
    "\n",
    "### ※ Feature engineering(특성 공학)\n",
    "  - extracting new features using existing features\n",
    "  - existing features, square features of each, and features multiplied by each other.\n"
   ]
  },
  {
   "cell_type": "markdown",
   "metadata": {
    "id": "FLp_OjX7sloZ"
   },
   "source": [
    "## Import transformer"
   ]
  },
  {
   "cell_type": "code",
   "execution_count": null,
   "metadata": {
    "id": "qP5yP4dDuHsf"
   },
   "outputs": [],
   "source": [
    "from sklearn.preprocessing import PolynomialFeatures"
   ]
  },
  {
   "cell_type": "markdown",
   "metadata": {
    "id": "FiH1WdLkuZ8u"
   },
   "source": [
    "## Transform sample data\n",
    "- case 1: Including a bias"
   ]
  },
  {
   "cell_type": "code",
   "execution_count": 14,
   "metadata": {
    "colab": {
     "base_uri": "https://localhost:8080/"
    },
    "id": "7snUOyJlufOM",
    "outputId": "54bf71d2-ca14-4df1-a3c0-77cbf6849114"
   },
   "outputs": [
    {
     "name": "stdout",
     "output_type": "stream",
     "text": [
      "[[1. 2. 3. 4. 6. 9.]]\n"
     ]
    }
   ],
   "source": [
    "poly = PolynomialFeatures()\n",
    "poly.fit([[2,3]])\n",
    "print(poly.transform([[2,3]]))"
   ]
  },
  {
   "cell_type": "markdown",
   "metadata": {
    "id": "70Pq5evQu6X5"
   },
   "source": [
    "          > existing features : 2, 3\n",
    "          > new features : 1(for intercept), 4(2^2), 6(2*3), 9(3^2)"
   ]
  },
  {
   "cell_type": "markdown",
   "metadata": {
    "id": "Nn5M7Gebv_Uh"
   },
   "source": [
    "- case 2: Not including a bias (recommended)"
   ]
  },
  {
   "cell_type": "code",
   "execution_count": 16,
   "metadata": {
    "colab": {
     "base_uri": "https://localhost:8080/"
    },
    "id": "kMsETE42wDG4",
    "outputId": "ac66f2e5-d884-483f-b906-19a5a8597c88"
   },
   "outputs": [
    {
     "name": "stdout",
     "output_type": "stream",
     "text": [
      "[[2. 3. 4. 6. 9.]]\n"
     ]
    }
   ],
   "source": [
    "poly = PolynomialFeatures(include_bias=False)\n",
    "poly.fit([[2,3]])\n",
    "print(poly.transform([[2,3]]))"
   ]
  },
  {
   "cell_type": "markdown",
   "metadata": {
    "id": "UmjIMDEZwknE"
   },
   "source": [
    "          > existing features : 2, 3\n",
    "          > new features : 4(2^2), 6(2*3), 9(3^2)"
   ]
  },
  {
   "cell_type": "markdown",
   "metadata": {
    "id": "z2L_5Jn0wxoM"
   },
   "source": [
    "## Transform perch data"
   ]
  },
  {
   "cell_type": "code",
   "execution_count": 17,
   "metadata": {
    "colab": {
     "base_uri": "https://localhost:8080/"
    },
    "id": "5iYvHUQ0jDBD",
    "outputId": "56f1f772-952e-4fa8-d7ad-586d7ad847da"
   },
   "outputs": [
    {
     "name": "stdout",
     "output_type": "stream",
     "text": [
      "(42, 3)\n",
      "(42, 9)\n",
      "['x0' 'x1' 'x2' 'x0^2' 'x0 x1' 'x0 x2' 'x1^2' 'x1 x2' 'x2^2']\n"
     ]
    }
   ],
   "source": [
    "poly = PolynomialFeatures(include_bias=False)\n",
    "poly.fit(train_input)\n",
    "train_poly = poly.transform(train_input)\n",
    "\n",
    "print(train_input.shape) # have 3 features\n",
    "print(train_poly.shape) # have 9 features\n",
    "print(poly.get_feature_names_out())"
   ]
  },
  {
   "cell_type": "code",
   "execution_count": 20,
   "metadata": {
    "colab": {
     "base_uri": "https://localhost:8080/"
    },
    "id": "XViNsS2gxC6N",
    "outputId": "afbc8323-d4e0-44a0-841d-a56b281e4e73"
   },
   "outputs": [
    {
     "name": "stdout",
     "output_type": "stream",
     "text": [
      "(14, 3)\n",
      "(14, 9)\n"
     ]
    }
   ],
   "source": [
    "test_poly = poly.transform(test_input)\n",
    "print(test_input.shape) # have 3 features\n",
    "print(test_poly.shape) # have 9 features"
   ]
  },
  {
   "cell_type": "markdown",
   "metadata": {
    "id": "jPhqMNeNx326"
   },
   "source": [
    "\n",
    "\n",
    "---\n",
    "\n"
   ]
  },
  {
   "cell_type": "markdown",
   "metadata": {
    "id": "07QyQPm9x4ZT"
   },
   "source": [
    "# Mutiple Regression\n",
    "- same process as training a linear regression model\n",
    "- linear regression using multiple features"
   ]
  },
  {
   "cell_type": "markdown",
   "metadata": {
    "id": "IsfvZ9WL0DvS"
   },
   "source": [
    "#### degree 2"
   ]
  },
  {
   "cell_type": "code",
   "execution_count": 23,
   "metadata": {
    "colab": {
     "base_uri": "https://localhost:8080/"
    },
    "id": "aeBcL1KEx75_",
    "outputId": "51fee646-80cd-4824-e556-904280ff1b43"
   },
   "outputs": [
    {
     "name": "stdout",
     "output_type": "stream",
     "text": [
      "0.9903183436982124\n",
      "0.9714559911594134\n"
     ]
    }
   ],
   "source": [
    "from sklearn.linear_model import LinearRegression\n",
    "lr = LinearRegression()\n",
    "lr.fit(train_poly, train_target)\n",
    "print(lr.score(train_poly, train_target))\n",
    "print(lr.score(test_poly, test_target))"
   ]
  },
  {
   "cell_type": "markdown",
   "metadata": {
    "id": "aGAj7Dk1zYt1"
   },
   "source": [
    "- Multiple regression solves the linear model's underfitting problem.\n",
    "- The score for the training set is very high."
   ]
  },
  {
   "cell_type": "markdown",
   "metadata": {
    "id": "GBAQgubu1CQZ"
   },
   "source": [
    "#### degree 5"
   ]
  },
  {
   "cell_type": "code",
   "execution_count": 24,
   "metadata": {
    "colab": {
     "base_uri": "https://localhost:8080/"
    },
    "id": "pI92ZFDG030y",
    "outputId": "b14a5faf-c0f1-43c4-fd33-70ed2a097ec3"
   },
   "outputs": [
    {
     "name": "stdout",
     "output_type": "stream",
     "text": [
      "(42, 55)\n",
      "(14, 55)\n"
     ]
    }
   ],
   "source": [
    "poly = PolynomialFeatures(degree=5, include_bias=False)\n",
    "poly.fit(train_input)\n",
    "train_poly = poly.transform(train_input)\n",
    "test_poly = poly.transform(test_input)\n",
    "print(train_poly.shape)\n",
    "print(test_poly.shape)"
   ]
  },
  {
   "cell_type": "code",
   "execution_count": 25,
   "metadata": {
    "colab": {
     "base_uri": "https://localhost:8080/"
    },
    "id": "AKTtqf7y14pk",
    "outputId": "87d4a4f9-7ac2-4431-bc60-6eff4724960a"
   },
   "outputs": [
    {
     "name": "stdout",
     "output_type": "stream",
     "text": [
      "0.9999999999991097\n",
      "-144.40579242684848\n"
     ]
    }
   ],
   "source": [
    "lr.fit(train_poly, train_target)\n",
    "print(lr.score(train_poly, train_target))\n",
    "print(lr.score(test_poly, test_target))"
   ]
  },
  {
   "cell_type": "markdown",
   "metadata": {
    "id": "3GvvmJMa2CtS"
   },
   "source": [
    "- The score for the training set is almost perfect.\n",
    "- But the score for the testing set is extremely negative.\n",
    "  + The model appears to be too overfitting to the training set."
   ]
  },
  {
   "cell_type": "markdown",
   "metadata": {
    "id": "hYrNGTsj3bSE"
   },
   "source": [
    "\n",
    "\n",
    "---\n",
    "\n"
   ]
  },
  {
   "cell_type": "markdown",
   "metadata": {
    "id": "OiK4f6nY3bMH"
   },
   "source": [
    "# Regularization(규제)\n",
    "- preventing the model from overfitting the training set\n",
    "- linear regression model : reducing the size of the coefficient multiplied by the feature."
   ]
  },
  {
   "cell_type": "markdown",
   "metadata": {
    "id": "LQkqDaTl7NyY"
   },
   "source": [
    "## Normalize feature scales\n",
    "- using StandardScaler class in scikit-learn"
   ]
  },
  {
   "cell_type": "code",
   "execution_count": 27,
   "metadata": {
    "colab": {
     "base_uri": "https://localhost:8080/"
    },
    "id": "V1XaJNGg3YkM",
    "outputId": "7a9c8dda-b011-4b64-a27f-19c05a47e8ca"
   },
   "outputs": [
    {
     "name": "stdout",
     "output_type": "stream",
     "text": [
      "(42, 55)\n",
      "(14, 55)\n"
     ]
    }
   ],
   "source": [
    "from sklearn.preprocessing import StandardScaler\n",
    "ss = StandardScaler()\n",
    "ss.fit(train_poly)\n",
    "train_scaled = ss.transform(train_poly)\n",
    "test_scaled = ss.transform(test_poly)\n",
    "print(train_poly.shape)\n",
    "print(test_poly.shape)"
   ]
  },
  {
   "cell_type": "markdown",
   "metadata": {
    "id": "yfOHnsVf8jq1"
   },
   "source": [
    "## Ridge regression\n",
    "- based on the square value of the coefficient"
   ]
  },
  {
   "cell_type": "code",
   "execution_count": 29,
   "metadata": {
    "colab": {
     "base_uri": "https://localhost:8080/"
    },
    "id": "vW6oFppe8p7S",
    "outputId": "037e4915-2996-4ce5-b3aa-296f46464f9f"
   },
   "outputs": [
    {
     "name": "stdout",
     "output_type": "stream",
     "text": [
      "0.9896101671037343\n",
      "0.9790693977615397\n"
     ]
    }
   ],
   "source": [
    "from sklearn.linear_model import Ridge\n",
    "ridge = Ridge()\n",
    "ridge.fit(train_scaled, train_target)\n",
    "print(ridge.score(train_scaled, train_target))\n",
    "print(ridge.score(test_scaled, test_target))"
   ]
  },
  {
   "cell_type": "markdown",
   "metadata": {
    "id": "33TaEmkN94vD"
   },
   "source": [
    "- Many features are used, but they're not overfitting the training set and perform well on the test set.\n",
    "- Alpha in Ridge\n",
    "  + hyperparameter; which has to be set in advance\n",
    "  + alpha↑: increase in regulatory intensity\n",
    "  + alpha↓: decrease in regulatory intensity"
   ]
  },
  {
   "cell_type": "code",
   "execution_count": 30,
   "metadata": {
    "id": "R_XZPG6K8_2z"
   },
   "outputs": [],
   "source": [
    "import matplotlib.pyplot as plt\n",
    "train_score = []\n",
    "test_score = []"
   ]
  },
  {
   "cell_type": "code",
   "execution_count": 31,
   "metadata": {
    "id": "Xx3uBMXZBCfW"
   },
   "outputs": [],
   "source": [
    "alpha_list = [0.001, 0.01, 0.1, 1, 10, 100]\n",
    "for alpha in alpha_list:\n",
    "  ridge = Ridge(alpha=alpha)\n",
    "  ridge.fit(train_scaled, train_target)\n",
    "  train_score.append(ridge.score(train_scaled, train_target))\n",
    "  test_score.append(ridge.score(test_scaled, test_target))"
   ]
  },
  {
   "cell_type": "code",
   "execution_count": 35,
   "metadata": {
    "colab": {
     "base_uri": "https://localhost:8080/",
     "height": 279
    },
    "id": "3nm_qQMtBmBw",
    "outputId": "fcbcdab6-449a-40b3-cc92-1c9acb626e6d"
   },
   "outputs": [
    {
     "data": {
      "image/png": "[encoded data removed]",
      "text/plain": [
       "<Figure size 432x288 with 1 Axes>"
      ]
     },
     "metadata": {
      "needs_background": "light"
     },
     "output_type": "display_data"
    }
   ],
   "source": [
    "fig, ax = plt.subplots()\n",
    "ax.plot(np.log10(alpha_list), train_score)\n",
    "ax.plot(np.log10(alpha_list), test_score)\n",
    "ax.set_xlabel('log10(alpha)')\n",
    "ax.set_ylabel('R^2')\n",
    "plt.show()"
   ]
  },
  {
   "cell_type": "markdown",
   "metadata": {
    "id": "HzneInupCFjx"
   },
   "source": [
    "- left side : overfitting\n",
    "- right side : underfitting\n",
    "- appropriate alpha : 0.1\n"
   ]
  },
  {
   "cell_type": "code",
   "execution_count": 36,
   "metadata": {
    "colab": {
     "base_uri": "https://localhost:8080/"
    },
    "id": "VFLQogSTCxnl",
    "outputId": "5b3e1b89-e9f9-40c4-a73f-ff649f8cd9bf"
   },
   "outputs": [
    {
     "name": "stdout",
     "output_type": "stream",
     "text": [
      "0.9903815817570366\n",
      "0.9827976465386926\n"
     ]
    }
   ],
   "source": [
    "ridge = Ridge(alpha=0.1)\n",
    "ridge.fit(train_scaled, train_target)\n",
    "print(ridge.score(train_scaled, train_target))\n",
    "print(ridge.score(test_scaled, test_target))"
   ]
  },
  {
   "cell_type": "markdown",
   "metadata": {
    "id": "5U7Az-0sERfH"
   },
   "source": [
    "## Lasso regression\n",
    "- based on the absolute value of the coefficient\n",
    "- The coefficient can be completely zero."
   ]
  },
  {
   "cell_type": "code",
   "execution_count": 37,
   "metadata": {
    "colab": {
     "base_uri": "https://localhost:8080/"
    },
    "id": "5ga0Po3CEUyv",
    "outputId": "4e215d9c-4bc9-46b2-f1f6-00b516440b57"
   },
   "outputs": [
    {
     "name": "stdout",
     "output_type": "stream",
     "text": [
      "0.989789897208096\n",
      "0.9800593698421883\n"
     ]
    }
   ],
   "source": [
    "from sklearn.linear_model import Lasso\n",
    "lasso = Lasso()\n",
    "lasso.fit(train_scaled, train_target)\n",
    "print(lasso.score(train_scaled, train_target))\n",
    "print(lasso.score(test_scaled, test_target))"
   ]
  },
  {
   "cell_type": "markdown",
   "metadata": {
    "id": "GPSHSWxrEm9j"
   },
   "source": [
    "- Many features are used, but they're not overfitting the training set and perform well on the test set.\n",
    "- Alpha in Lasso\n",
    "  + hyperparameter; which has to be set in advance\n",
    "  + alpha↑: increase in regulatory intensity\n",
    "  + alpha↓: decrease in regulatory intensity"
   ]
  },
  {
   "cell_type": "code",
   "execution_count": 38,
   "metadata": {
    "colab": {
     "base_uri": "https://localhost:8080/"
    },
    "id": "HwjlfMfYErYk",
    "outputId": "c3ae5906-266e-4ef5-b5ae-0f40623fc7d2"
   },
   "outputs": [
    {
     "name": "stderr",
     "output_type": "stream",
     "text": [
      "/usr/local/lib/python3.7/dist-packages/sklearn/linear_model/_coordinate_descent.py:648: ConvergenceWarning: Objective did not converge. You might want to increase the number of iterations, check the scale of the features or consider increasing regularisation. Duality gap: 1.878e+04, tolerance: 5.183e+02\n",
      "  coef_, l1_reg, l2_reg, X, y, max_iter, tol, rng, random, positive\n",
      "/usr/local/lib/python3.7/dist-packages/sklearn/linear_model/_coordinate_descent.py:648: ConvergenceWarning: Objective did not converge. You might want to increase the number of iterations, check the scale of the features or consider increasing regularisation. Duality gap: 1.297e+04, tolerance: 5.183e+02\n",
      "  coef_, l1_reg, l2_reg, X, y, max_iter, tol, rng, random, positive\n"
     ]
    }
   ],
   "source": [
    "train_score = []\n",
    "test_score = []\n",
    "\n",
    "alpha_list = [0.001, 0.01, 0.1, 1, 10, 100]\n",
    "for alpha in alpha_list:\n",
    "  lasso = Lasso(alpha=alpha, max_iter=10000)\n",
    "  lasso.fit(train_scaled, train_target)\n",
    "  train_score.append(lasso.score(train_scaled, train_target))\n",
    "  test_score.append(lasso.score(test_scaled, test_target))"
   ]
  },
  {
   "cell_type": "code",
   "execution_count": 39,
   "metadata": {
    "colab": {
     "base_uri": "https://localhost:8080/",
     "height": 279
    },
    "id": "HF9HSXeUFYir",
    "outputId": "46376f39-1e90-4281-848e-a79fd8ee2ece"
   },
   "outputs": [
    {
     "data": {
      "image/png": "[encoded data removed]",
      "text/plain": [
       "<Figure size 432x288 with 1 Axes>"
      ]
     },
     "metadata": {
      "needs_background": "light"
     },
     "output_type": "display_data"
    }
   ],
   "source": [
    "fig, ax = plt.subplots()\n",
    "ax.plot(np.log10(alpha_list), train_score)\n",
    "ax.plot(np.log10(alpha_list), test_score)\n",
    "ax.set_xlabel('log10(alpha)')\n",
    "ax.set_ylabel('R^2')\n",
    "plt.show()"
   ]
  },
  {
   "cell_type": "markdown",
   "metadata": {
    "id": "zBIeOdT6FhcK"
   },
   "source": [
    "- left side : overfitting\n",
    "- right side : underfitting\n",
    "- appropriate alpha : 10"
   ]
  },
  {
   "cell_type": "code",
   "execution_count": 40,
   "metadata": {
    "colab": {
     "base_uri": "https://localhost:8080/"
    },
    "id": "DL48mef5FqQU",
    "outputId": "938ff576-bc2e-47c2-8d57-4105870593a4"
   },
   "outputs": [
    {
     "name": "stdout",
     "output_type": "stream",
     "text": [
      "0.9888067471131867\n",
      "0.9824470598706695\n"
     ]
    }
   ],
   "source": [
    "lasso = Lasso(alpha=10)\n",
    "lasso.fit(train_scaled, train_target)\n",
    "print(lasso.score(train_scaled, train_target))\n",
    "print(lasso.score(test_scaled, test_target))"
   ]
  },
  {
   "cell_type": "code",
   "execution_count": 41,
   "metadata": {
    "colab": {
     "base_uri": "https://localhost:8080/"
    },
    "id": "dYyywDV2FzQ5",
    "outputId": "24d879f1-b348-4f3b-9288-ebae4a6f4212"
   },
   "outputs": [
    {
     "name": "stdout",
     "output_type": "stream",
     "text": [
      "40\n"
     ]
    }
   ],
   "source": [
    "print(np.sum(lasso.coef_==0))"
   ]
  },
  {
   "cell_type": "markdown",
   "metadata": {
    "id": "23WFolcwGvkI"
   },
   "source": [
    "- 40 coefficients became zero\n",
    "- Of the 55 features, only 15 were finally used."
   ]
  }
 ],
 "metadata": {
  "colab": {
   "collapsed_sections": [],
   "name": "ML_ch_3_3.ipynb",
   "provenance": [],
   "toc_visible": true
  },
  "kernelspec": {
   "display_name": "Python 3 (ipykernel)",
   "language": "python",
   "name": "python3"
  },
  "language_info": {
   "codemirror_mode": {
    "name": "ipython",
    "version": 3
   },
   "file_extension": ".py",
   "mimetype": "text/x-python",
   "name": "python",
   "nbconvert_exporter": "python",
   "pygments_lexer": "ipython3",
   "version": "3.9.7"
  }
 },
 "nbformat": 4,
 "nbformat_minor": 1
}
