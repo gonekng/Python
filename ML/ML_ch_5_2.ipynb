{
  "nbformat": 4,
  "nbformat_minor": 0,
  "metadata": {
    "colab": {
      "name": "ML_ch_5_2.ipynb",
      "provenance": [],
      "collapsed_sections": [],
      "toc_visible": true
    },
    "kernelspec": {
      "name": "python3",
      "display_name": "Python 3"
    },
    "language_info": {
      "name": "python"
    }
  },
  "cells": [
    {
      "cell_type": "markdown",
      "source": [
        "# Cross Validation\n",
        "#### : Repeated process of spliting validation set and evaluating model.\n",
        "- Train set : Validation set : Test set = 6 : 2 : 2 (generally)\n",
        "- Test sets are not used in the model learning process.\n",
        "- In Kagge competition, test sets are given separately.\n",
        "- purpose : To make a good model\n",
        "  + A good model doesn't mean high-performance model.\n",
        "  + A good model means low-error and stable model.\n",
        "- Because it takes a long time, it is useful when there is not much data."
      ],
      "metadata": {
        "id": "Fg7woHLJMzuG"
      }
    },
    {
      "cell_type": "markdown",
      "source": [
        "### Prepare data"
      ],
      "metadata": {
        "id": "MBS6B1dDRMeP"
      }
    },
    {
      "cell_type": "code",
      "execution_count": null,
      "metadata": {
        "id": "KcA12btl7R8I"
      },
      "outputs": [],
      "source": [
        "import pandas as pd\n",
        "wine = pd.read_csv('https://bit.ly/wine_csv_data')\n",
        "data = wine[['alcohol','sugar','pH']].to_numpy()\n",
        "target = wine[['class']].to_numpy()"
      ]
    },
    {
      "cell_type": "code",
      "source": [
        "from sklearn.model_selection import train_test_split\n",
        "train_input, test_input, train_target, test_target = train_test_split(\n",
        "    data, target, test_size=0.2, random_state=42\n",
        ")\n",
        "sub_input, val_input, sub_target, val_target = train_test_split(\n",
        "    train_input, train_target, test_size=0.2, random_state=42\n",
        ")"
      ],
      "metadata": {
        "id": "v9w9-BF3QYaJ"
      },
      "execution_count": null,
      "outputs": []
    },
    {
      "cell_type": "code",
      "source": [
        "sub_input.shape, val_input.shape, test_input.shape"
      ],
      "metadata": {
        "colab": {
          "base_uri": "https://localhost:8080/"
        },
        "id": "pTgiV4btQ1Ed",
        "outputId": "4e558495-412d-4983-e5a4-7614ed8a2769"
      },
      "execution_count": null,
      "outputs": [
        {
          "output_type": "execute_result",
          "data": {
            "text/plain": [
              "((4157, 3), (1040, 3), (1300, 3))"
            ]
          },
          "metadata": {},
          "execution_count": 68
        }
      ]
    },
    {
      "cell_type": "markdown",
      "source": [
        "### Create model"
      ],
      "metadata": {
        "id": "zjwpTg9uRIfL"
      }
    },
    {
      "cell_type": "code",
      "source": [
        "from sklearn.tree import DecisionTreeClassifier\n",
        "dt = DecisionTreeClassifier(random_state=42)\n",
        "dt.fit(sub_input, sub_target)\n",
        "print(dt.score(sub_input, sub_target))\n",
        "print(dt.score(val_input, val_target)) # overfitting"
      ],
      "metadata": {
        "colab": {
          "base_uri": "https://localhost:8080/"
        },
        "id": "uwYlEduzRHTT",
        "outputId": "353b0f73-030c-4900-9a94-33717c10ce65"
      },
      "execution_count": null,
      "outputs": [
        {
          "output_type": "stream",
          "name": "stdout",
          "text": [
            "0.9971133028626413\n",
            "0.864423076923077\n"
          ]
        }
      ]
    },
    {
      "cell_type": "markdown",
      "source": [
        "### Validate model"
      ],
      "metadata": {
        "id": "EW6f7pmBTVaN"
      }
    },
    {
      "cell_type": "code",
      "source": [
        "from sklearn.model_selection import cross_validate\n",
        "scores = cross_validate(dt, train_input, train_target) # dictionary type\n",
        "for item in scores.items():\n",
        "  print(item)"
      ],
      "metadata": {
        "colab": {
          "base_uri": "https://localhost:8080/"
        },
        "id": "UHqJnx0ORIFJ",
        "outputId": "3194a3ad-38ae-4e0a-ed32-3feece35cd8d"
      },
      "execution_count": null,
      "outputs": [
        {
          "output_type": "stream",
          "name": "stdout",
          "text": [
            "('fit_time', array([0.01251197, 0.00755358, 0.0074594 , 0.00742102, 0.00734329]))\n",
            "('score_time', array([0.00133634, 0.00079608, 0.0007925 , 0.00083232, 0.00076413]))\n",
            "('test_score', array([0.86923077, 0.84615385, 0.87680462, 0.84889317, 0.83541867]))\n"
          ]
        }
      ]
    },
    {
      "cell_type": "code",
      "source": [
        "import numpy as np\n",
        "print(np.mean(scores['test_score']))"
      ],
      "metadata": {
        "colab": {
          "base_uri": "https://localhost:8080/"
        },
        "id": "WTJHJc7STtBV",
        "outputId": "a3ce5f97-43f1-43a1-bea3-731c4cdc68d5"
      },
      "execution_count": null,
      "outputs": [
        {
          "output_type": "stream",
          "name": "stdout",
          "text": [
            "0.855300214703487\n"
          ]
        }
      ]
    },
    {
      "cell_type": "markdown",
      "source": [
        "- In cross-validation, a splitter must be specified to mix training sets.\n",
        "  + Regression model > KFold\n",
        "  + Classification model > StratifiedKFold"
      ],
      "metadata": {
        "id": "9oukFRDmUY27"
      }
    },
    {
      "cell_type": "code",
      "source": [
        "from sklearn.model_selection import StratifiedKFold\n",
        "splitter = StratifiedKFold(shuffle=True, random_state=42) # default : 5 fold\n",
        "scores = cross_validate(dt, train_input, train_target, cv=splitter)\n",
        "print(np.mean(scores['test_score']))"
      ],
      "metadata": {
        "colab": {
          "base_uri": "https://localhost:8080/"
        },
        "id": "shGSV_hGVRMS",
        "outputId": "b7fa5ed4-cecb-45be-e988-cf16a03fddfa"
      },
      "execution_count": null,
      "outputs": [
        {
          "output_type": "stream",
          "name": "stdout",
          "text": [
            "0.8539548012141852\n"
          ]
        }
      ]
    },
    {
      "cell_type": "code",
      "source": [
        "splitter = StratifiedKFold(n_splits=10, shuffle=True, random_state=42) # 10 fold\n",
        "scores = cross_validate(dt, train_input, train_target, cv=splitter)\n",
        "print(np.mean(scores['test_score']))"
      ],
      "metadata": {
        "colab": {
          "base_uri": "https://localhost:8080/"
        },
        "id": "099m8iMFUdwj",
        "outputId": "ba0c7a58-455e-4a80-f2a2-720cc803beeb"
      },
      "execution_count": null,
      "outputs": [
        {
          "output_type": "stream",
          "name": "stdout",
          "text": [
            "0.8574181117533719\n"
          ]
        }
      ]
    },
    {
      "cell_type": "markdown",
      "source": [
        "\n",
        "\n",
        "---\n",
        "\n"
      ],
      "metadata": {
        "id": "jnDyh39wxAyT"
      }
    },
    {
      "cell_type": "markdown",
      "source": [
        "# Hyperparameter Tuning\n",
        "- ex) max_depth=3, accuracy=0.84\n",
        "- Finding the best value by adjusting multiple parameters simultaneously.\n",
        "- AutoML : technology that automatically performs hyperparameter tuning without intervention of person.\n",
        "  + Grid Search, Random Search"
      ],
      "metadata": {
        "id": "0qOxGlBvOH5c"
      }
    },
    {
      "cell_type": "markdown",
      "source": [
        "## Grid Search\n",
        "- Perform hyperparameter tuning and cross-validation simultaneously\n",
        "- Find the optimal hyperparameters based on all combinations of predetermined values."
      ],
      "metadata": {
        "id": "-q-FiZROOSG-"
      }
    },
    {
      "cell_type": "code",
      "source": [
        "%%time\n",
        "\n",
        "from sklearn.model_selection import GridSearchCV\n",
        "params = {\n",
        "    'min_impurity_decrease' : [0.0001, 0.0002, 0.0003, 0.0004, 0.0005]\n",
        "}\n",
        "gs = GridSearchCV(DecisionTreeClassifier(random_state=42), params, n_jobs=-1)\n",
        "gs.fit(train_input, train_target)"
      ],
      "metadata": {
        "colab": {
          "base_uri": "https://localhost:8080/"
        },
        "id": "y2TeeecJYQT7",
        "outputId": "adc0a4ae-dc4b-4a55-e7d2-4ee525da5f4b"
      },
      "execution_count": null,
      "outputs": [
        {
          "output_type": "stream",
          "name": "stdout",
          "text": [
            "CPU times: user 70.1 ms, sys: 6.06 ms, total: 76.1 ms\n",
            "Wall time: 183 ms\n"
          ]
        }
      ]
    },
    {
      "cell_type": "code",
      "source": [
        "dt = gs.best_estimator_\n",
        "print(dt)\n",
        "print(dt.score(train_input, train_target))"
      ],
      "metadata": {
        "colab": {
          "base_uri": "https://localhost:8080/"
        },
        "id": "X21caP0UdBiZ",
        "outputId": "f4ab8393-73a3-4077-ae26-a6eed6a06596"
      },
      "execution_count": null,
      "outputs": [
        {
          "output_type": "stream",
          "name": "stdout",
          "text": [
            "DecisionTreeClassifier(min_impurity_decrease=0.0001, random_state=42)\n",
            "0.9615162593804117\n"
          ]
        }
      ]
    },
    {
      "cell_type": "code",
      "source": [
        "print(gs.cv_results_['mean_test_score'])\n",
        "print(gs.best_params_)"
      ],
      "metadata": {
        "colab": {
          "base_uri": "https://localhost:8080/"
        },
        "id": "bJoZu5LHgkpf",
        "outputId": "30a2c1bd-0f29-49b1-ac87-66448f9ae019"
      },
      "execution_count": null,
      "outputs": [
        {
          "output_type": "stream",
          "name": "stdout",
          "text": [
            "[0.86819297 0.86453617 0.86492226 0.86780891 0.86761605]\n",
            "{'min_impurity_decrease': 0.0001}\n"
          ]
        }
      ]
    },
    {
      "cell_type": "code",
      "source": [
        "%%time\n",
        "\n",
        "from sklearn.model_selection import GridSearchCV\n",
        "params = {\n",
        "    'min_impurity_decrease' : [0.0001, 0.0002, 0.0003, 0.0004, 0.0005],\n",
        "    'max_depth' : [3, 4, 5, 6, 7]\n",
        "}\n",
        "\n",
        "# Change the values in params and create a total of 5 models with each value.\n",
        "# n_jobs=-1 : to enable all cores in the system\n",
        "gs = GridSearchCV(DecisionTreeClassifier(random_state=42), params, n_jobs=-1)\n",
        "gs.fit(train_input, train_target)"
      ],
      "metadata": {
        "colab": {
          "base_uri": "https://localhost:8080/"
        },
        "id": "yyckBu-dcC11",
        "outputId": "63659796-74e5-4781-a749-ad0d95324b0c"
      },
      "execution_count": null,
      "outputs": [
        {
          "output_type": "stream",
          "name": "stdout",
          "text": [
            "CPU times: user 167 ms, sys: 4.85 ms, total: 172 ms\n",
            "Wall time: 585 ms\n"
          ]
        }
      ]
    },
    {
      "cell_type": "code",
      "source": [
        "dt = gs.best_estimator_\n",
        "print(dt)\n",
        "print(dt.score(train_input, train_target))"
      ],
      "metadata": {
        "colab": {
          "base_uri": "https://localhost:8080/"
        },
        "id": "0aejhx_lb6Nj",
        "outputId": "0754c325-1170-492e-9db1-8f064b847410"
      },
      "execution_count": null,
      "outputs": [
        {
          "output_type": "stream",
          "name": "stdout",
          "text": [
            "DecisionTreeClassifier(max_depth=7, min_impurity_decrease=0.0005,\n",
            "                       random_state=42)\n",
            "0.8830094285164518\n"
          ]
        }
      ]
    },
    {
      "cell_type": "code",
      "source": [
        "print(gs.cv_results_['mean_test_score']) # 5*5=25\n",
        "print(gs.best_params_)"
      ],
      "metadata": {
        "colab": {
          "base_uri": "https://localhost:8080/"
        },
        "id": "1G6JDf1ChIHL",
        "outputId": "139cde5b-69ca-4af0-94f9-c9b341f6f512"
      },
      "execution_count": null,
      "outputs": [
        {
          "output_type": "stream",
          "name": "stdout",
          "text": [
            "[0.84125583 0.84125583 0.84125583 0.84125583 0.84125583 0.85337806\n",
            " 0.85337806 0.85337806 0.85337806 0.85318557 0.85780355 0.85799604\n",
            " 0.85857352 0.85857352 0.85838102 0.85645721 0.85799678 0.85876675\n",
            " 0.85972866 0.86088306 0.85607093 0.85761031 0.85799511 0.85991893\n",
            " 0.86280466]\n",
            "{'max_depth': 7, 'min_impurity_decrease': 0.0005}\n"
          ]
        }
      ]
    },
    {
      "cell_type": "markdown",
      "source": [
        "- The optimal value of 'min_impurity_decrease' varies when the value of 'max_depth' changes."
      ],
      "metadata": {
        "id": "T7D5gBgpdOnp"
      }
    },
    {
      "cell_type": "markdown",
      "source": [
        "## Random Search\n",
        "- Find the optimal hyperparameters based on possible combinations within a predetermined range of values.\n",
        "- Delivers probability distribution objects that can sample parameters."
      ],
      "metadata": {
        "id": "xWt1_QPva3MR"
      }
    },
    {
      "cell_type": "code",
      "source": [
        "# randint : sampling int\n",
        "# uniform : sampling float\n",
        "from scipy.stats import uniform, randint\n",
        "params = {\n",
        "    'min_impurity_decrease' : uniform(0.0001, 0.001),\n",
        "    'max_depth' : randint(20, 50)\n",
        "}"
      ],
      "metadata": {
        "id": "lOXd7-JMbMJK"
      },
      "execution_count": null,
      "outputs": []
    },
    {
      "cell_type": "code",
      "source": [
        "%%time\n",
        "\n",
        "from sklearn.model_selection import RandomizedSearchCV\n",
        "gs = RandomizedSearchCV(DecisionTreeClassifier(random_state=42), params,\n",
        "                        n_iter=100, n_jobs=-1, random_state=42)\n",
        "gs.fit(train_input, train_target)"
      ],
      "metadata": {
        "colab": {
          "base_uri": "https://localhost:8080/"
        },
        "id": "TTJnVv_Uf2Vf",
        "outputId": "2f421a53-35a6-42d7-9473-c54d808defcd"
      },
      "execution_count": null,
      "outputs": [
        {
          "output_type": "stream",
          "name": "stdout",
          "text": [
            "CPU times: user 629 ms, sys: 15.8 ms, total: 645 ms\n",
            "Wall time: 2.54 s\n"
          ]
        }
      ]
    },
    {
      "cell_type": "code",
      "source": [
        "dt = gs.best_estimator_\n",
        "print(dt)\n",
        "print(dt.score(train_input, train_target))"
      ],
      "metadata": {
        "colab": {
          "base_uri": "https://localhost:8080/"
        },
        "id": "zSzprx7Qf3ho",
        "outputId": "6e9abd80-f333-43f0-cfc2-5b2dcd5ad112"
      },
      "execution_count": null,
      "outputs": [
        {
          "output_type": "stream",
          "name": "stdout",
          "text": [
            "DecisionTreeClassifier(max_depth=29, min_impurity_decrease=0.000437615171403628,\n",
            "                       random_state=42)\n",
            "0.8903213392341736\n"
          ]
        }
      ]
    },
    {
      "cell_type": "code",
      "source": [
        "print(gs.best_params_)"
      ],
      "metadata": {
        "colab": {
          "base_uri": "https://localhost:8080/"
        },
        "id": "9rojO3-ihrHZ",
        "outputId": "e65ec450-bc3b-40cd-8cd4-3e71d4c11426"
      },
      "execution_count": null,
      "outputs": [
        {
          "output_type": "stream",
          "name": "stdout",
          "text": [
            "{'max_depth': 29, 'min_impurity_decrease': 0.000437615171403628}\n"
          ]
        }
      ]
    }
  ]
}