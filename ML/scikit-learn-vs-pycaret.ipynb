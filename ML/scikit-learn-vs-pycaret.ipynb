{
 "cells": [
  {
   "cell_type": "code",
   "execution_count": 1,
   "id": "29828b09",
   "metadata": {
    "_cell_guid": "b1076dfc-b9ad-4769-8c92-a6c4dae69d19",
    "_uuid": "8f2839f25d086af736a60e9eeb907d3b93b6e0e5",
    "execution": {
     "iopub.execute_input": "2022-03-25T08:03:27.442194Z",
     "iopub.status.busy": "2022-03-25T08:03:27.440512Z",
     "iopub.status.idle": "2022-03-25T08:03:27.453190Z",
     "shell.execute_reply": "2022-03-25T08:03:27.453724Z",
     "shell.execute_reply.started": "2022-03-25T05:55:34.079186Z"
    },
    "papermill": {
     "duration": 0.056774,
     "end_time": "2022-03-25T08:03:27.454013",
     "exception": false,
     "start_time": "2022-03-25T08:03:27.397239",
     "status": "completed"
    },
    "tags": []
   },
   "outputs": [
    {
     "name": "stdout",
     "output_type": "stream",
     "text": [
      "/kaggle/input/tabular-playground-series-apr-2021/sample_submission.csv\n",
      "/kaggle/input/tabular-playground-series-apr-2021/train.csv\n",
      "/kaggle/input/tabular-playground-series-apr-2021/test.csv\n"
     ]
    }
   ],
   "source": [
    "# This Python 3 environment comes with many helpful analytics libraries installed\n",
    "# It is defined by the kaggle/python Docker image: https://github.com/kaggle/docker-python\n",
    "# For example, here's several helpful packages to load\n",
    "\n",
    "import numpy as np # linear algebra\n",
    "import pandas as pd # data processing, CSV file I/O (e.g. pd.read_csv)\n",
    "\n",
    "# Input data files are available in the read-only \"../input/\" directory\n",
    "# For example, running this (by clicking run or pressing Shift+Enter) will list all files under the input directory\n",
    "\n",
    "import os\n",
    "for dirname, _, filenames in os.walk('/kaggle/input'):\n",
    "    for filename in filenames:\n",
    "        print(os.path.join(dirname, filename))\n",
    "\n",
    "# You can write up to 20GB to the current directory (/kaggle/working/) that gets preserved as output when you create a version using \"Save & Run All\" \n",
    "# You can also write temporary files to /kaggle/temp/, but they won't be saved outside of the current session"
   ]
  },
  {
   "cell_type": "markdown",
   "id": "a9977bb2",
   "metadata": {
    "papermill": {
     "duration": 0.036535,
     "end_time": "2022-03-25T08:03:27.527258",
     "exception": false,
     "start_time": "2022-03-25T08:03:27.490723",
     "status": "completed"
    },
    "tags": []
   },
   "source": [
    "# Import Library"
   ]
  },
  {
   "cell_type": "code",
   "execution_count": 2,
   "id": "3b3b7981",
   "metadata": {
    "execution": {
     "iopub.execute_input": "2022-03-25T08:03:27.602177Z",
     "iopub.status.busy": "2022-03-25T08:03:27.599466Z",
     "iopub.status.idle": "2022-03-25T08:03:28.661143Z",
     "shell.execute_reply": "2022-03-25T08:03:28.661591Z",
     "shell.execute_reply.started": "2022-03-25T05:59:49.429319Z"
    },
    "papermill": {
     "duration": 1.099531,
     "end_time": "2022-03-25T08:03:28.661749",
     "exception": false,
     "start_time": "2022-03-25T08:03:27.562218",
     "status": "completed"
    },
    "tags": []
   },
   "outputs": [
    {
     "name": "stdout",
     "output_type": "stream",
     "text": [
      "Version Pandas 1.3.5\n",
      "Version Matplotlib 3.5.1\n",
      "Version Numpy 1.20.3\n",
      "Version Seaborn 0.11.2\n"
     ]
    },
    {
     "data": {
      "text/plain": [
       "['sample_submission.csv', 'train.csv', 'test.csv']"
      ]
     },
     "execution_count": 2,
     "metadata": {},
     "output_type": "execute_result"
    }
   ],
   "source": [
    "import pandas as pd\n",
    "import matplotlib\n",
    "import matplotlib.pyplot as plt\n",
    "import numpy as np\n",
    "import seaborn as sb\n",
    "import os\n",
    "\n",
    "print(\"Version Pandas\", pd.__version__)\n",
    "print(\"Version Matplotlib\", matplotlib.__version__)\n",
    "print(\"Version Numpy\", np.__version__)\n",
    "print(\"Version Seaborn\", sb.__version__)\n",
    "\n",
    "os.listdir('../input/tabular-playground-series-apr-2021/') # files in the directory"
   ]
  },
  {
   "cell_type": "markdown",
   "id": "bee89b2a",
   "metadata": {
    "papermill": {
     "duration": 0.035231,
     "end_time": "2022-03-25T08:03:28.732360",
     "exception": false,
     "start_time": "2022-03-25T08:03:28.697129",
     "status": "completed"
    },
    "tags": []
   },
   "source": [
    "# Import Data"
   ]
  },
  {
   "cell_type": "code",
   "execution_count": 3,
   "id": "3d8f3886",
   "metadata": {
    "execution": {
     "iopub.execute_input": "2022-03-25T08:03:28.810539Z",
     "iopub.status.busy": "2022-03-25T08:03:28.809830Z",
     "iopub.status.idle": "2022-03-25T08:03:29.368758Z",
     "shell.execute_reply": "2022-03-25T08:03:29.369473Z",
     "shell.execute_reply.started": "2022-03-25T06:04:11.612222Z"
    },
    "papermill": {
     "duration": 0.600974,
     "end_time": "2022-03-25T08:03:29.369726",
     "exception": false,
     "start_time": "2022-03-25T08:03:28.768752",
     "status": "completed"
    },
    "tags": []
   },
   "outputs": [
    {
     "name": "stdout",
     "output_type": "stream",
     "text": [
      "(100000, 12)\n",
      "(100000, 11)\n",
      "(100000, 2)\n"
     ]
    }
   ],
   "source": [
    "BASE_DIR = '../input/tabular-playground-series-apr-2021/'\n",
    "train = pd.read_csv(BASE_DIR + \"train.csv\")\n",
    "test = pd.read_csv(BASE_DIR + \"test.csv\")\n",
    "sample_submission = pd.read_csv(BASE_DIR + \"sample_submission.csv\")\n",
    "print(train.shape)\n",
    "print(test.shape)\n",
    "print(sample_submission.shape)"
   ]
  },
  {
   "cell_type": "code",
   "execution_count": 4,
   "id": "27e3ab2c",
   "metadata": {
    "execution": {
     "iopub.execute_input": "2022-03-25T08:03:29.461655Z",
     "iopub.status.busy": "2022-03-25T08:03:29.457806Z",
     "iopub.status.idle": "2022-03-25T08:03:29.477706Z",
     "shell.execute_reply": "2022-03-25T08:03:29.477203Z",
     "shell.execute_reply.started": "2022-03-25T06:04:55.420695Z"
    },
    "papermill": {
     "duration": 0.060967,
     "end_time": "2022-03-25T08:03:29.477850",
     "exception": false,
     "start_time": "2022-03-25T08:03:29.416883",
     "status": "completed"
    },
    "tags": []
   },
   "outputs": [
    {
     "data": {
      "text/html": [
       "<div>\n",
       "<style scoped>\n",
       "    .dataframe tbody tr th:only-of-type {\n",
       "        vertical-align: middle;\n",
       "    }\n",
       "\n",
       "    .dataframe tbody tr th {\n",
       "        vertical-align: top;\n",
       "    }\n",
       "\n",
       "    .dataframe thead th {\n",
       "        text-align: right;\n",
       "    }\n",
       "</style>\n",
       "<table border=\"1\" class=\"dataframe\">\n",
       "  <thead>\n",
       "    <tr style=\"text-align: right;\">\n",
       "      <th></th>\n",
       "      <th>PassengerId</th>\n",
       "      <th>Survived</th>\n",
       "      <th>Pclass</th>\n",
       "      <th>Name</th>\n",
       "      <th>Sex</th>\n",
       "      <th>Age</th>\n",
       "      <th>SibSp</th>\n",
       "      <th>Parch</th>\n",
       "      <th>Ticket</th>\n",
       "      <th>Fare</th>\n",
       "      <th>Cabin</th>\n",
       "      <th>Embarked</th>\n",
       "    </tr>\n",
       "  </thead>\n",
       "  <tbody>\n",
       "    <tr>\n",
       "      <th>0</th>\n",
       "      <td>0</td>\n",
       "      <td>1</td>\n",
       "      <td>1</td>\n",
       "      <td>Oconnor, Frankie</td>\n",
       "      <td>male</td>\n",
       "      <td>NaN</td>\n",
       "      <td>2</td>\n",
       "      <td>0</td>\n",
       "      <td>209245</td>\n",
       "      <td>27.14</td>\n",
       "      <td>C12239</td>\n",
       "      <td>S</td>\n",
       "    </tr>\n",
       "    <tr>\n",
       "      <th>1</th>\n",
       "      <td>1</td>\n",
       "      <td>0</td>\n",
       "      <td>3</td>\n",
       "      <td>Bryan, Drew</td>\n",
       "      <td>male</td>\n",
       "      <td>NaN</td>\n",
       "      <td>0</td>\n",
       "      <td>0</td>\n",
       "      <td>27323</td>\n",
       "      <td>13.35</td>\n",
       "      <td>NaN</td>\n",
       "      <td>S</td>\n",
       "    </tr>\n",
       "    <tr>\n",
       "      <th>2</th>\n",
       "      <td>2</td>\n",
       "      <td>0</td>\n",
       "      <td>3</td>\n",
       "      <td>Owens, Kenneth</td>\n",
       "      <td>male</td>\n",
       "      <td>0.33</td>\n",
       "      <td>1</td>\n",
       "      <td>2</td>\n",
       "      <td>CA 457703</td>\n",
       "      <td>71.29</td>\n",
       "      <td>NaN</td>\n",
       "      <td>S</td>\n",
       "    </tr>\n",
       "    <tr>\n",
       "      <th>3</th>\n",
       "      <td>3</td>\n",
       "      <td>0</td>\n",
       "      <td>3</td>\n",
       "      <td>Kramer, James</td>\n",
       "      <td>male</td>\n",
       "      <td>19.00</td>\n",
       "      <td>0</td>\n",
       "      <td>0</td>\n",
       "      <td>A. 10866</td>\n",
       "      <td>13.04</td>\n",
       "      <td>NaN</td>\n",
       "      <td>S</td>\n",
       "    </tr>\n",
       "    <tr>\n",
       "      <th>4</th>\n",
       "      <td>4</td>\n",
       "      <td>1</td>\n",
       "      <td>3</td>\n",
       "      <td>Bond, Michael</td>\n",
       "      <td>male</td>\n",
       "      <td>25.00</td>\n",
       "      <td>0</td>\n",
       "      <td>0</td>\n",
       "      <td>427635</td>\n",
       "      <td>7.76</td>\n",
       "      <td>NaN</td>\n",
       "      <td>S</td>\n",
       "    </tr>\n",
       "  </tbody>\n",
       "</table>\n",
       "</div>"
      ],
      "text/plain": [
       "   PassengerId  Survived  Pclass              Name   Sex    Age  SibSp  Parch  \\\n",
       "0            0         1       1  Oconnor, Frankie  male    NaN      2      0   \n",
       "1            1         0       3       Bryan, Drew  male    NaN      0      0   \n",
       "2            2         0       3    Owens, Kenneth  male   0.33      1      2   \n",
       "3            3         0       3     Kramer, James  male  19.00      0      0   \n",
       "4            4         1       3     Bond, Michael  male  25.00      0      0   \n",
       "\n",
       "      Ticket   Fare   Cabin Embarked  \n",
       "0     209245  27.14  C12239        S  \n",
       "1      27323  13.35     NaN        S  \n",
       "2  CA 457703  71.29     NaN        S  \n",
       "3   A. 10866  13.04     NaN        S  \n",
       "4     427635   7.76     NaN        S  "
      ]
     },
     "execution_count": 4,
     "metadata": {},
     "output_type": "execute_result"
    }
   ],
   "source": [
    "train.head()"
   ]
  },
  {
   "cell_type": "code",
   "execution_count": 5,
   "id": "dd42fd08",
   "metadata": {
    "execution": {
     "iopub.execute_input": "2022-03-25T08:03:29.563999Z",
     "iopub.status.busy": "2022-03-25T08:03:29.563315Z",
     "iopub.status.idle": "2022-03-25T08:03:29.567010Z",
     "shell.execute_reply": "2022-03-25T08:03:29.566552Z",
     "shell.execute_reply.started": "2022-03-25T06:05:10.483201Z"
    },
    "papermill": {
     "duration": 0.053218,
     "end_time": "2022-03-25T08:03:29.567146",
     "exception": false,
     "start_time": "2022-03-25T08:03:29.513928",
     "status": "completed"
    },
    "tags": []
   },
   "outputs": [
    {
     "data": {
      "text/html": [
       "<div>\n",
       "<style scoped>\n",
       "    .dataframe tbody tr th:only-of-type {\n",
       "        vertical-align: middle;\n",
       "    }\n",
       "\n",
       "    .dataframe tbody tr th {\n",
       "        vertical-align: top;\n",
       "    }\n",
       "\n",
       "    .dataframe thead th {\n",
       "        text-align: right;\n",
       "    }\n",
       "</style>\n",
       "<table border=\"1\" class=\"dataframe\">\n",
       "  <thead>\n",
       "    <tr style=\"text-align: right;\">\n",
       "      <th></th>\n",
       "      <th>PassengerId</th>\n",
       "      <th>Pclass</th>\n",
       "      <th>Name</th>\n",
       "      <th>Sex</th>\n",
       "      <th>Age</th>\n",
       "      <th>SibSp</th>\n",
       "      <th>Parch</th>\n",
       "      <th>Ticket</th>\n",
       "      <th>Fare</th>\n",
       "      <th>Cabin</th>\n",
       "      <th>Embarked</th>\n",
       "    </tr>\n",
       "  </thead>\n",
       "  <tbody>\n",
       "    <tr>\n",
       "      <th>0</th>\n",
       "      <td>100000</td>\n",
       "      <td>3</td>\n",
       "      <td>Holliday, Daniel</td>\n",
       "      <td>male</td>\n",
       "      <td>19.0</td>\n",
       "      <td>0</td>\n",
       "      <td>0</td>\n",
       "      <td>24745</td>\n",
       "      <td>63.01</td>\n",
       "      <td>NaN</td>\n",
       "      <td>S</td>\n",
       "    </tr>\n",
       "    <tr>\n",
       "      <th>1</th>\n",
       "      <td>100001</td>\n",
       "      <td>3</td>\n",
       "      <td>Nguyen, Lorraine</td>\n",
       "      <td>female</td>\n",
       "      <td>53.0</td>\n",
       "      <td>0</td>\n",
       "      <td>0</td>\n",
       "      <td>13264</td>\n",
       "      <td>5.81</td>\n",
       "      <td>NaN</td>\n",
       "      <td>S</td>\n",
       "    </tr>\n",
       "    <tr>\n",
       "      <th>2</th>\n",
       "      <td>100002</td>\n",
       "      <td>1</td>\n",
       "      <td>Harris, Heather</td>\n",
       "      <td>female</td>\n",
       "      <td>19.0</td>\n",
       "      <td>0</td>\n",
       "      <td>0</td>\n",
       "      <td>25990</td>\n",
       "      <td>38.91</td>\n",
       "      <td>B15315</td>\n",
       "      <td>C</td>\n",
       "    </tr>\n",
       "    <tr>\n",
       "      <th>3</th>\n",
       "      <td>100003</td>\n",
       "      <td>2</td>\n",
       "      <td>Larsen, Eric</td>\n",
       "      <td>male</td>\n",
       "      <td>25.0</td>\n",
       "      <td>0</td>\n",
       "      <td>0</td>\n",
       "      <td>314011</td>\n",
       "      <td>12.93</td>\n",
       "      <td>NaN</td>\n",
       "      <td>S</td>\n",
       "    </tr>\n",
       "    <tr>\n",
       "      <th>4</th>\n",
       "      <td>100004</td>\n",
       "      <td>1</td>\n",
       "      <td>Cleary, Sarah</td>\n",
       "      <td>female</td>\n",
       "      <td>17.0</td>\n",
       "      <td>0</td>\n",
       "      <td>2</td>\n",
       "      <td>26203</td>\n",
       "      <td>26.89</td>\n",
       "      <td>B22515</td>\n",
       "      <td>C</td>\n",
       "    </tr>\n",
       "  </tbody>\n",
       "</table>\n",
       "</div>"
      ],
      "text/plain": [
       "   PassengerId  Pclass              Name     Sex   Age  SibSp  Parch  Ticket  \\\n",
       "0       100000       3  Holliday, Daniel    male  19.0      0      0   24745   \n",
       "1       100001       3  Nguyen, Lorraine  female  53.0      0      0   13264   \n",
       "2       100002       1   Harris, Heather  female  19.0      0      0   25990   \n",
       "3       100003       2      Larsen, Eric    male  25.0      0      0  314011   \n",
       "4       100004       1     Cleary, Sarah  female  17.0      0      2   26203   \n",
       "\n",
       "    Fare   Cabin Embarked  \n",
       "0  63.01     NaN        S  \n",
       "1   5.81     NaN        S  \n",
       "2  38.91  B15315        C  \n",
       "3  12.93     NaN        S  \n",
       "4  26.89  B22515        C  "
      ]
     },
     "execution_count": 5,
     "metadata": {},
     "output_type": "execute_result"
    }
   ],
   "source": [
    "test.head() # to predict which data is survived "
   ]
  },
  {
   "cell_type": "code",
   "execution_count": 6,
   "id": "e93b6804",
   "metadata": {
    "execution": {
     "iopub.execute_input": "2022-03-25T08:03:29.648047Z",
     "iopub.status.busy": "2022-03-25T08:03:29.643104Z",
     "iopub.status.idle": "2022-03-25T08:03:29.651392Z",
     "shell.execute_reply": "2022-03-25T08:03:29.651851Z",
     "shell.execute_reply.started": "2022-03-25T06:05:35.776746Z"
    },
    "papermill": {
     "duration": 0.047948,
     "end_time": "2022-03-25T08:03:29.652008",
     "exception": false,
     "start_time": "2022-03-25T08:03:29.604060",
     "status": "completed"
    },
    "tags": []
   },
   "outputs": [
    {
     "data": {
      "text/html": [
       "<div>\n",
       "<style scoped>\n",
       "    .dataframe tbody tr th:only-of-type {\n",
       "        vertical-align: middle;\n",
       "    }\n",
       "\n",
       "    .dataframe tbody tr th {\n",
       "        vertical-align: top;\n",
       "    }\n",
       "\n",
       "    .dataframe thead th {\n",
       "        text-align: right;\n",
       "    }\n",
       "</style>\n",
       "<table border=\"1\" class=\"dataframe\">\n",
       "  <thead>\n",
       "    <tr style=\"text-align: right;\">\n",
       "      <th></th>\n",
       "      <th>PassengerId</th>\n",
       "      <th>Survived</th>\n",
       "    </tr>\n",
       "  </thead>\n",
       "  <tbody>\n",
       "    <tr>\n",
       "      <th>0</th>\n",
       "      <td>100000</td>\n",
       "      <td>1</td>\n",
       "    </tr>\n",
       "    <tr>\n",
       "      <th>1</th>\n",
       "      <td>100001</td>\n",
       "      <td>1</td>\n",
       "    </tr>\n",
       "    <tr>\n",
       "      <th>2</th>\n",
       "      <td>100002</td>\n",
       "      <td>1</td>\n",
       "    </tr>\n",
       "    <tr>\n",
       "      <th>3</th>\n",
       "      <td>100003</td>\n",
       "      <td>1</td>\n",
       "    </tr>\n",
       "    <tr>\n",
       "      <th>4</th>\n",
       "      <td>100004</td>\n",
       "      <td>1</td>\n",
       "    </tr>\n",
       "  </tbody>\n",
       "</table>\n",
       "</div>"
      ],
      "text/plain": [
       "   PassengerId  Survived\n",
       "0       100000         1\n",
       "1       100001         1\n",
       "2       100002         1\n",
       "3       100003         1\n",
       "4       100004         1"
      ]
     },
     "execution_count": 6,
     "metadata": {},
     "output_type": "execute_result"
    }
   ],
   "source": [
    "sample_submission.head()"
   ]
  },
  {
   "cell_type": "markdown",
   "id": "026cab5f",
   "metadata": {
    "papermill": {
     "duration": 0.037483,
     "end_time": "2022-03-25T08:03:29.726523",
     "exception": false,
     "start_time": "2022-03-25T08:03:29.689040",
     "status": "completed"
    },
    "tags": []
   },
   "source": [
    "# Preprocessing"
   ]
  },
  {
   "cell_type": "markdown",
   "id": "70102f7c",
   "metadata": {
    "papermill": {
     "duration": 0.036957,
     "end_time": "2022-03-25T08:03:29.801079",
     "exception": false,
     "start_time": "2022-03-25T08:03:29.764122",
     "status": "completed"
    },
    "tags": []
   },
   "source": [
    "## Data Merging"
   ]
  },
  {
   "cell_type": "code",
   "execution_count": 7,
   "id": "8468a817",
   "metadata": {
    "execution": {
     "iopub.execute_input": "2022-03-25T08:03:29.878556Z",
     "iopub.status.busy": "2022-03-25T08:03:29.877932Z",
     "iopub.status.idle": "2022-03-25T08:03:29.922818Z",
     "shell.execute_reply": "2022-03-25T08:03:29.923460Z",
     "shell.execute_reply.started": "2022-03-25T06:12:27.339639Z"
    },
    "papermill": {
     "duration": 0.085219,
     "end_time": "2022-03-25T08:03:29.923670",
     "exception": false,
     "start_time": "2022-03-25T08:03:29.838451",
     "status": "completed"
    },
    "tags": []
   },
   "outputs": [
    {
     "data": {
      "text/plain": [
       "(200000, 12)"
      ]
     },
     "execution_count": 7,
     "metadata": {},
     "output_type": "execute_result"
    }
   ],
   "source": [
    "all_df = pd.concat([train, test])\n",
    "all_df.shape"
   ]
  },
  {
   "cell_type": "markdown",
   "id": "4739ce95",
   "metadata": {
    "papermill": {
     "duration": 0.037155,
     "end_time": "2022-03-25T08:03:29.998477",
     "exception": false,
     "start_time": "2022-03-25T08:03:29.961322",
     "status": "completed"
    },
    "tags": []
   },
   "source": [
    "## Missing Value"
   ]
  },
  {
   "cell_type": "code",
   "execution_count": 8,
   "id": "e07b03fb",
   "metadata": {
    "execution": {
     "iopub.execute_input": "2022-03-25T08:03:30.082021Z",
     "iopub.status.busy": "2022-03-25T08:03:30.081326Z",
     "iopub.status.idle": "2022-03-25T08:03:30.303630Z",
     "shell.execute_reply": "2022-03-25T08:03:30.304265Z",
     "shell.execute_reply.started": "2022-03-25T06:12:48.219527Z"
    },
    "papermill": {
     "duration": 0.268727,
     "end_time": "2022-03-25T08:03:30.304517",
     "exception": false,
     "start_time": "2022-03-25T08:03:30.035790",
     "status": "completed"
    },
    "tags": []
   },
   "outputs": [
    {
     "name": "stdout",
     "output_type": "stream",
     "text": [
      "Before Handling: (200000, 12)\n",
      "Avg. Mean of Age by Pclass: {'Age': {1: 41.0, 2: 37.0, 3: 30.0}}\n",
      "Values from Cabin:  ['C12239' 'No Cabin' 'A7253' ... 'B9253' 'B20828' 'E13345']\n",
      "Values from Cabin Code:  ['C' 'N' 'A' 'D' 'B' 'E' 'F' 'G' 'T']\n",
      "Avg. Mean: 44.65\n",
      "Values from Embarked:  ['S' 'C' 'Q' 'X']\n",
      "After Handling: (200000, 9)\n"
     ]
    }
   ],
   "source": [
    "# Start\n",
    "print(\"Before Handling:\", all_df.shape)\n",
    "\n",
    "# Age\n",
    "age_dict = all_df[['Age', 'Pclass']].dropna().groupby('Pclass').mean().round(0).to_dict()\n",
    "print(\"Avg. Mean of Age by Pclass:\", age_dict)\n",
    "all_df['Age'] = all_df['Age'].fillna(all_df.Pclass.map(age_dict['Age']))\n",
    "\n",
    "# Cabin\n",
    "all_df[\"Cabin\"].fillna(\"No Cabin\", inplace = True)\n",
    "print(\"Values from Cabin: \", all_df[\"Cabin\"].unique())\n",
    "all_df['Cabin_Code'] = all_df['Cabin'].fillna('X').map(lambda x: x[0].strip())\n",
    "print(\"Values from Cabin Code: \", all_df[\"Cabin_Code\"].unique())\n",
    "\n",
    "# Fare\n",
    "print(\"Avg. Mean:\", np.round(all_df['Fare'].mean(), 2))\n",
    "all_df['Fare'] = all_df['Fare'].fillna(round(all_df['Fare'].mean(), 2))\n",
    "\n",
    "# Embarked\n",
    "all_df[\"Embarked\"].fillna(\"X\", inplace = True)\n",
    "print(\"Values from Embarked: \", all_df[\"Embarked\"].unique())\n",
    "\n",
    "# Delete Columns\n",
    "all_df.drop(['Ticket', 'Cabin', 'Name', 'PassengerId'], axis=1, inplace=True)\n",
    "print(\"After Handling:\", all_df.shape)"
   ]
  },
  {
   "cell_type": "markdown",
   "id": "82cb1dc8",
   "metadata": {
    "papermill": {
     "duration": 0.038249,
     "end_time": "2022-03-25T08:03:30.381568",
     "exception": false,
     "start_time": "2022-03-25T08:03:30.343319",
     "status": "completed"
    },
    "tags": []
   },
   "source": [
    "## Feature Encoding\n",
    "- Convert string to number\n",
    "    + Original Encoding\n",
    "    + Label Encoding\n",
    "    + One-Hot Encoding"
   ]
  },
  {
   "cell_type": "code",
   "execution_count": 9,
   "id": "edbaadb4",
   "metadata": {
    "execution": {
     "iopub.execute_input": "2022-03-25T08:03:30.468452Z",
     "iopub.status.busy": "2022-03-25T08:03:30.463756Z",
     "iopub.status.idle": "2022-03-25T08:03:30.638601Z",
     "shell.execute_reply": "2022-03-25T08:03:30.637982Z",
     "shell.execute_reply.started": "2022-03-25T06:17:53.601635Z"
    },
    "papermill": {
     "duration": 0.218277,
     "end_time": "2022-03-25T08:03:30.638869",
     "exception": true,
     "start_time": "2022-03-25T08:03:30.420592",
     "status": "failed"
    },
    "tags": []
   },
   "outputs": [
    {
     "name": "stdout",
     "output_type": "stream",
     "text": [
      "onehot_df Shape: (200000, 16)\n",
      "num_df Shape: (200000, 5)\n"
     ]
    },
    {
     "ename": "NameError",
     "evalue": "name 'allcleansed_df' is not defined",
     "output_type": "error",
     "traceback": [
      "\u001b[0;31m---------------------------------------------------------------------------\u001b[0m",
      "\u001b[0;31mNameError\u001b[0m                                 Traceback (most recent call last)",
      "\u001b[0;32m/tmp/ipykernel_20/2134015832.py\u001b[0m in \u001b[0;36m<module>\u001b[0;34m\u001b[0m\n\u001b[1;32m     10\u001b[0m \u001b[0;34m\u001b[0m\u001b[0m\n\u001b[1;32m     11\u001b[0m \u001b[0mall_cleansed_df\u001b[0m \u001b[0;34m=\u001b[0m \u001b[0mpd\u001b[0m\u001b[0;34m.\u001b[0m\u001b[0mconcat\u001b[0m\u001b[0;34m(\u001b[0m\u001b[0;34m[\u001b[0m\u001b[0mnum_df\u001b[0m\u001b[0;34m,\u001b[0m \u001b[0monehot_df\u001b[0m\u001b[0;34m]\u001b[0m\u001b[0;34m,\u001b[0m \u001b[0maxis\u001b[0m\u001b[0;34m=\u001b[0m\u001b[0;36m1\u001b[0m\u001b[0;34m)\u001b[0m\u001b[0;34m\u001b[0m\u001b[0;34m\u001b[0m\u001b[0m\n\u001b[0;32m---> 12\u001b[0;31m \u001b[0mprint\u001b[0m\u001b[0;34m(\u001b[0m\u001b[0;34m\"all_cleansed_df Shape:\"\u001b[0m\u001b[0;34m,\u001b[0m \u001b[0mallcleansed_df\u001b[0m\u001b[0;34m.\u001b[0m\u001b[0mshape\u001b[0m\u001b[0;34m)\u001b[0m\u001b[0;34m\u001b[0m\u001b[0;34m\u001b[0m\u001b[0m\n\u001b[0m",
      "\u001b[0;31mNameError\u001b[0m: name 'allcleansed_df' is not defined"
     ]
    }
   ],
   "source": [
    "cat_cols = ['Pclass', 'Sex', 'Cabin_Code', 'Embarked']\n",
    "num_cols = ['Age', 'SibSp', 'Parch', 'Fare', 'Survived']\n",
    "\n",
    "# One-Hot Encoding\n",
    "onehot_df = pd.get_dummies(all_df[cat_cols])\n",
    "print(\"onehot_df Shape:\", onehot_df.shape)\n",
    "\n",
    "num_df = all_df[num_cols]\n",
    "print(\"num_df Shape:\", num_df.shape)\n",
    "\n",
    "all_cleansed_df = pd.concat([num_df, onehot_df], axis=1)\n",
    "print(\"all_cleansed_df Shape:\", allcleansed_df.shape)"
   ]
  },
  {
   "cell_type": "code",
   "execution_count": null,
   "id": "aeaea283",
   "metadata": {
    "execution": {
     "iopub.execute_input": "2022-03-25T06:18:28.214901Z",
     "iopub.status.busy": "2022-03-25T06:18:28.214542Z",
     "iopub.status.idle": "2022-03-25T06:18:28.239238Z",
     "shell.execute_reply": "2022-03-25T06:18:28.238558Z",
     "shell.execute_reply.started": "2022-03-25T06:18:28.214864Z"
    },
    "papermill": {
     "duration": null,
     "end_time": null,
     "exception": null,
     "start_time": null,
     "status": "pending"
    },
    "tags": []
   },
   "outputs": [],
   "source": [
    "all_cleansed_df.head()"
   ]
  },
  {
   "cell_type": "markdown",
   "id": "4fce258e",
   "metadata": {
    "papermill": {
     "duration": null,
     "end_time": null,
     "exception": null,
     "start_time": null,
     "status": "pending"
    },
    "tags": []
   },
   "source": [
    "# ML by Scikit-learn"
   ]
  },
  {
   "cell_type": "markdown",
   "id": "fd401526",
   "metadata": {
    "papermill": {
     "duration": null,
     "end_time": null,
     "exception": null,
     "start_time": null,
     "status": "pending"
    },
    "tags": []
   },
   "source": [
    "## Install Scikit-learn"
   ]
  },
  {
   "cell_type": "code",
   "execution_count": null,
   "id": "4049431d",
   "metadata": {
    "execution": {
     "iopub.execute_input": "2022-03-25T06:24:38.396692Z",
     "iopub.status.busy": "2022-03-25T06:24:38.396337Z",
     "iopub.status.idle": "2022-03-25T06:24:55.072375Z",
     "shell.execute_reply": "2022-03-25T06:24:55.071268Z",
     "shell.execute_reply.started": "2022-03-25T06:24:38.396657Z"
    },
    "papermill": {
     "duration": null,
     "end_time": null,
     "exception": null,
     "start_time": null,
     "status": "pending"
    },
    "tags": []
   },
   "outputs": [],
   "source": [
    "!pip install scikit-learn==0.23.2"
   ]
  },
  {
   "cell_type": "code",
   "execution_count": null,
   "id": "540d82fc",
   "metadata": {
    "execution": {
     "iopub.execute_input": "2022-03-25T06:24:58.041526Z",
     "iopub.status.busy": "2022-03-25T06:24:58.041199Z",
     "iopub.status.idle": "2022-03-25T06:24:58.134610Z",
     "shell.execute_reply": "2022-03-25T06:24:58.133470Z",
     "shell.execute_reply.started": "2022-03-25T06:24:58.041490Z"
    },
    "papermill": {
     "duration": null,
     "end_time": null,
     "exception": null,
     "start_time": null,
     "status": "pending"
    },
    "tags": []
   },
   "outputs": [],
   "source": [
    "import sklearn\n",
    "print(sklearn.__version__)"
   ]
  },
  {
   "cell_type": "markdown",
   "id": "6878cc03",
   "metadata": {
    "papermill": {
     "duration": null,
     "end_time": null,
     "exception": null,
     "start_time": null,
     "status": "pending"
    },
    "tags": []
   },
   "source": [
    "## Data Spliting\n",
    "- X : independent values\n",
    "    + x_train : train data\n",
    "    + x_val : validation data\n",
    "- y : dependent value\n",
    "    + y_train : train data\n",
    "    + y_val : validation data"
   ]
  },
  {
   "cell_type": "code",
   "execution_count": null,
   "id": "255ca688",
   "metadata": {
    "execution": {
     "iopub.execute_input": "2022-03-25T06:22:01.883127Z",
     "iopub.status.busy": "2022-03-25T06:22:01.882816Z",
     "iopub.status.idle": "2022-03-25T06:22:01.939606Z",
     "shell.execute_reply": "2022-03-25T06:22:01.939047Z",
     "shell.execute_reply.started": "2022-03-25T06:22:01.883084Z"
    },
    "papermill": {
     "duration": null,
     "end_time": null,
     "exception": null,
     "start_time": null,
     "status": "pending"
    },
    "tags": []
   },
   "outputs": [],
   "source": [
    "X = all_cleansed_df[:train.shape[0]]\n",
    "print(\"X Shape is:\", X.shape)\n",
    "y = X['Survived']\n",
    "X.drop(['Survived'], axis=1, inplace=True)\n",
    "test_data = all_cleansed_df[train.shape[0]:].drop(columns=['Survived'])\n",
    "test_data.info()"
   ]
  },
  {
   "cell_type": "code",
   "execution_count": null,
   "id": "d4d96464",
   "metadata": {
    "execution": {
     "iopub.execute_input": "2022-03-25T06:23:25.267198Z",
     "iopub.status.busy": "2022-03-25T06:23:25.266646Z",
     "iopub.status.idle": "2022-03-25T06:23:25.273078Z",
     "shell.execute_reply": "2022-03-25T06:23:25.272139Z",
     "shell.execute_reply.started": "2022-03-25T06:23:25.267165Z"
    },
    "papermill": {
     "duration": null,
     "end_time": null,
     "exception": null,
     "start_time": null,
     "status": "pending"
    },
    "tags": []
   },
   "outputs": [],
   "source": [
    "X.shape, y.shape"
   ]
  },
  {
   "cell_type": "code",
   "execution_count": null,
   "id": "983b8d2e",
   "metadata": {
    "execution": {
     "iopub.execute_input": "2022-03-25T06:25:18.543049Z",
     "iopub.status.busy": "2022-03-25T06:25:18.542735Z",
     "iopub.status.idle": "2022-03-25T06:25:19.189544Z",
     "shell.execute_reply": "2022-03-25T06:25:19.188600Z",
     "shell.execute_reply.started": "2022-03-25T06:25:18.543015Z"
    },
    "papermill": {
     "duration": null,
     "end_time": null,
     "exception": null,
     "start_time": null,
     "status": "pending"
    },
    "tags": []
   },
   "outputs": [],
   "source": [
    "from sklearn.model_selection import train_test_split\n",
    "\n",
    "# Stratified Sampling\n",
    "X_train, X_val, y_train, y_val = train_test_split(X, y, test_size = 0.3,\n",
    "                                                 stratify = X[['Pclass']], random_state=42)\n",
    "X_train.shape, X_val.shape, y_train.shape, y_val.shape"
   ]
  },
  {
   "cell_type": "markdown",
   "id": "4404164e",
   "metadata": {
    "papermill": {
     "duration": null,
     "end_time": null,
     "exception": null,
     "start_time": null,
     "status": "pending"
    },
    "tags": []
   },
   "source": [
    "## Model 1 (Decision Tree)"
   ]
  },
  {
   "cell_type": "code",
   "execution_count": null,
   "id": "c0cc09bf",
   "metadata": {
    "execution": {
     "iopub.execute_input": "2022-03-25T06:31:31.625975Z",
     "iopub.status.busy": "2022-03-25T06:31:31.625650Z",
     "iopub.status.idle": "2022-03-25T06:31:31.632048Z",
     "shell.execute_reply": "2022-03-25T06:31:31.630538Z",
     "shell.execute_reply.started": "2022-03-25T06:31:31.625938Z"
    },
    "papermill": {
     "duration": null,
     "end_time": null,
     "exception": null,
     "start_time": null,
     "status": "pending"
    },
    "tags": []
   },
   "outputs": [],
   "source": [
    "from sklearn.metrics import accuracy_score\n",
    "def acc_score(y_true, y_pred, **kwargs):\n",
    "    return accuracy_score(y_true, (y_pred > 0.5).astype(int), **kwargs)"
   ]
  },
  {
   "cell_type": "code",
   "execution_count": null,
   "id": "4fc7c044",
   "metadata": {
    "papermill": {
     "duration": null,
     "end_time": null,
     "exception": null,
     "start_time": null,
     "status": "pending"
    },
    "tags": []
   },
   "outputs": [],
   "source": [
    "from sklearn import tree\n",
    "from sklearn.tree import DecisionTreeClassifier\n",
    "from sklearn.metrics import roc_curve, roc_auc_score\n",
    "from matplotlib import pyplot as plt\n",
    "\n",
    "# Create\n",
    "tree_model = DecisionTreeClassifier(max_depth=3)\n",
    "tree_model.fit(X_train, y_train)\n",
    "\n",
    "# Predict\n",
    "predictions = tree_model.predict_proba(X_val)\n",
    "\n",
    "# Validate\n",
    "AUC = roc_auc_score(y_val, predictions[:,1])\n",
    "ACC = acc_score(y_val, predictions[:,1])\n",
    "print(\"Model AUC:\", AUC) # Area Under Curve\n",
    "print(\"Model Accurarcy:\", ACC) # Accuracy = (TP + TF) / ALL\n",
    "print(\"\\n\")\n",
    "\n",
    "# Visualize ROC Curve\n",
    "fpr, tpr, _ = roc_curve(y_val, predictions[:,1])\n",
    "\n",
    "fig, ax = plt.subplots(figsize=(10, 6))\n",
    "\n",
    "ax.plot(fpr, tpr)\n",
    "ax.text(x = 0.3, \n",
    "        y = 0.4, \n",
    "        s = \"Model AUC is {}\\n\\nModel Accuracy is {}\".format(np.round(AUC, 2),\n",
    "                                                             np.round(ACC, 2)), \n",
    "        fontsize=16, bbox=dict(facecolor='gray', alpha=0.3))\n",
    "ax.set_xlabel('FPR')\n",
    "ax.set_ylabel('TPR')\n",
    "ax.set_title('ROC curve')\n",
    "\n",
    "plt.show()"
   ]
  },
  {
   "cell_type": "markdown",
   "id": "266b517a",
   "metadata": {
    "papermill": {
     "duration": null,
     "end_time": null,
     "exception": null,
     "start_time": null,
     "status": "pending"
    },
    "tags": []
   },
   "source": [
    "## Helper Class"
   ]
  },
  {
   "cell_type": "code",
   "execution_count": null,
   "id": "a1be8c11",
   "metadata": {
    "execution": {
     "iopub.execute_input": "2022-03-25T07:02:54.503996Z",
     "iopub.status.busy": "2022-03-25T07:02:54.503691Z",
     "iopub.status.idle": "2022-03-25T07:02:54.522411Z",
     "shell.execute_reply": "2022-03-25T07:02:54.521466Z",
     "shell.execute_reply.started": "2022-03-25T07:02:54.503955Z"
    },
    "papermill": {
     "duration": null,
     "end_time": null,
     "exception": null,
     "start_time": null,
     "status": "pending"
    },
    "tags": []
   },
   "outputs": [],
   "source": [
    "from sklearn import tree\n",
    "from sklearn.tree import DecisionTreeClassifier\n",
    "from sklearn.metrics import roc_curve, roc_auc_score, accuracy_score, confusion_matrix\n",
    "from matplotlib import pyplot as plt\n",
    "\n",
    "SEED = 0 # for Reproducibility\n",
    "\n",
    "# helper class\n",
    "class sk_helper(object):\n",
    "    def __init__(self, model, seed = 0, params={}):\n",
    "        params['random_state'] = seed\n",
    "        self.model = model(**params)\n",
    "        self.model_name = str(model).split(\".\")[-1][:-2]\n",
    "        \n",
    "    # train\n",
    "    def train(self, X_train, y_train):\n",
    "        self.model.fit(X_train, y_train)\n",
    "        \n",
    "    # predict\n",
    "    def predict(self, y_val):\n",
    "        return self.model.predict(y_val)\n",
    "    \n",
    "    # inner fit\n",
    "    def fit(self, x, y):\n",
    "        return self.model.fit(x, y)\n",
    "    \n",
    "    # feature importance\n",
    "    def feature_importances(self, X_train, y_train):\n",
    "        return self.model.fit(X_train, y_train).feature_importances_\n",
    "        \n",
    "    # roc_curve\n",
    "    def roc_curve_graph(self, X_train, y_train, X_val, y_val):\n",
    "        self.model.fit(X_train, y_train)\n",
    "        \n",
    "        print(\"model_name:\", self.model_name)\n",
    "        model_name = self.model_name\n",
    "        preds_proba = self.model.predict_proba(X_val)\n",
    "        preds = (preds_proba[:, 1] > 0.5).astype(int)\n",
    "        auc = roc_auc_score(y_val, preds_proba[:, 1])\n",
    "        acc = accuracy_score(y_val, preds)\n",
    "        confusion = confusion_matrix(y_val, preds)\n",
    "        print('Confusion Matrix')\n",
    "        print(confusion)\n",
    "        print(\"Model AUC: {0:.3f}, Model Accuracy: {1:.3f}\\n\".format(auc, acc))\n",
    "        fpr, tpr, _ = roc_curve(y_val, predictions[:,1])\n",
    "        fig, ax = plt.subplots(figsize=(10, 6))\n",
    "\n",
    "        ax.plot(fpr, tpr)\n",
    "        ax.text(x = 0.3, \n",
    "                y = 0.4, \n",
    "                s = \"Model AUC is {}\\n\\nModel Accuracy is {}\".format(np.round(auc, 2), np.round(acc, 2)), \n",
    "                fontsize=16, bbox=dict(facecolor='gray', alpha=0.3))\n",
    "        ax.set_xlabel('FPR')\n",
    "        ax.set_ylabel('TPR')\n",
    "        ax.set_title('ROC curve of {}'.format(model_name), fontsize=16)\n",
    "\n",
    "        plt.show()"
   ]
  },
  {
   "cell_type": "code",
   "execution_count": null,
   "id": "ba8b36e0",
   "metadata": {
    "execution": {
     "iopub.execute_input": "2022-03-25T07:03:26.855702Z",
     "iopub.status.busy": "2022-03-25T07:03:26.854751Z",
     "iopub.status.idle": "2022-03-25T07:03:27.279569Z",
     "shell.execute_reply": "2022-03-25T07:03:27.278630Z",
     "shell.execute_reply.started": "2022-03-25T07:03:26.855660Z"
    },
    "papermill": {
     "duration": null,
     "end_time": null,
     "exception": null,
     "start_time": null,
     "status": "pending"
    },
    "tags": []
   },
   "outputs": [],
   "source": [
    "%%time\n",
    "tree_params = {'max_depth': 6} # Hyper-Parameter\n",
    "\n",
    "tree_model = sk_helper(model=DecisionTreeClassifier, seed=SEED, params=tree_params)\n",
    "tree_model.roc_curve_graph(X_train, y_train, X_val, y_val)"
   ]
  },
  {
   "cell_type": "markdown",
   "id": "f1e8d6a4",
   "metadata": {
    "papermill": {
     "duration": null,
     "end_time": null,
     "exception": null,
     "start_time": null,
     "status": "pending"
    },
    "tags": []
   },
   "source": [
    "## Model 2 (Random Forest)"
   ]
  },
  {
   "cell_type": "code",
   "execution_count": null,
   "id": "7cf5722d",
   "metadata": {
    "execution": {
     "iopub.execute_input": "2022-03-25T07:06:29.762277Z",
     "iopub.status.busy": "2022-03-25T07:06:29.761809Z",
     "iopub.status.idle": "2022-03-25T07:06:38.035373Z",
     "shell.execute_reply": "2022-03-25T07:06:38.034395Z",
     "shell.execute_reply.started": "2022-03-25T07:06:29.762234Z"
    },
    "papermill": {
     "duration": null,
     "end_time": null,
     "exception": null,
     "start_time": null,
     "status": "pending"
    },
    "tags": []
   },
   "outputs": [],
   "source": [
    "%%time\n",
    "from sklearn.ensemble import RandomForestClassifier\n",
    "\n",
    "rf_params = {\n",
    "    'n_jobs': -1,\n",
    "    'n_estimators': 500,\n",
    "     'warm_start': True, \n",
    "     #'max_features': 0.2,\n",
    "    'max_depth': 6,\n",
    "    'min_samples_leaf': 2,\n",
    "    'max_features' : 'sqrt',\n",
    "    'verbose': 1\n",
    "}\n",
    "\n",
    "rf_model = sk_helper(model=RandomForestClassifier, seed=SEED, params=rf_params)\n",
    "rf_model.roc_curve_graph(X_train, y_train, X_val, y_val)"
   ]
  },
  {
   "cell_type": "markdown",
   "id": "c2fd3cf8",
   "metadata": {
    "papermill": {
     "duration": null,
     "end_time": null,
     "exception": null,
     "start_time": null,
     "status": "pending"
    },
    "tags": []
   },
   "source": [
    "## Model 3 (LGBM)"
   ]
  },
  {
   "cell_type": "code",
   "execution_count": null,
   "id": "15f28891",
   "metadata": {
    "execution": {
     "iopub.execute_input": "2022-03-25T07:07:44.526559Z",
     "iopub.status.busy": "2022-03-25T07:07:44.526248Z",
     "iopub.status.idle": "2022-03-25T07:08:31.213579Z",
     "shell.execute_reply": "2022-03-25T07:08:31.212527Z",
     "shell.execute_reply.started": "2022-03-25T07:07:44.526521Z"
    },
    "papermill": {
     "duration": null,
     "end_time": null,
     "exception": null,
     "start_time": null,
     "status": "pending"
    },
    "tags": []
   },
   "outputs": [],
   "source": [
    "%%time\n",
    "\n",
    "import lightgbm\n",
    "from lightgbm import LGBMClassifier\n",
    "print(lightgbm.__version__)\n",
    "lgb_params = {\n",
    "    'metric': 'auc',\n",
    "    'n_estimators': 10000,\n",
    "    'objective': 'binary',\n",
    "}\n",
    "\n",
    "lgb_model = sk_helper(model=LGBMClassifier, seed=SEED, params=lgb_params)\n",
    "lgb_model.roc_curve_graph(X_train, y_train, X_val, y_val)"
   ]
  },
  {
   "cell_type": "markdown",
   "id": "8f82d57c",
   "metadata": {
    "papermill": {
     "duration": null,
     "end_time": null,
     "exception": null,
     "start_time": null,
     "status": "pending"
    },
    "tags": []
   },
   "source": [
    "## Compare Model"
   ]
  },
  {
   "cell_type": "code",
   "execution_count": null,
   "id": "c8b53511",
   "metadata": {
    "execution": {
     "iopub.execute_input": "2022-03-25T07:10:35.318192Z",
     "iopub.status.busy": "2022-03-25T07:10:35.317788Z",
     "iopub.status.idle": "2022-03-25T07:11:03.612860Z",
     "shell.execute_reply": "2022-03-25T07:11:03.611886Z",
     "shell.execute_reply.started": "2022-03-25T07:10:35.318149Z"
    },
    "papermill": {
     "duration": null,
     "end_time": null,
     "exception": null,
     "start_time": null,
     "status": "pending"
    },
    "tags": []
   },
   "outputs": [],
   "source": [
    "tree_features = tree_model.feature_importances(X_train, y_train)\n",
    "rf_features = rf_model.feature_importances(X_train, y_train)\n",
    "lgb_features = lgb_model.feature_importances(X_train, y_train)"
   ]
  },
  {
   "cell_type": "code",
   "execution_count": null,
   "id": "4599bdfe",
   "metadata": {
    "execution": {
     "iopub.execute_input": "2022-03-25T07:11:03.615043Z",
     "iopub.status.busy": "2022-03-25T07:11:03.614790Z",
     "iopub.status.idle": "2022-03-25T07:11:03.632495Z",
     "shell.execute_reply": "2022-03-25T07:11:03.631407Z",
     "shell.execute_reply.started": "2022-03-25T07:11:03.615010Z"
    },
    "papermill": {
     "duration": null,
     "end_time": null,
     "exception": null,
     "start_time": null,
     "status": "pending"
    },
    "tags": []
   },
   "outputs": [],
   "source": [
    "cols = X.columns.values\n",
    "feature_df = pd.DataFrame({'features': cols, \n",
    "                          'Decision Tree': tree_features, \n",
    "                          'RandomForest': rf_features, \n",
    "                          'LightGBM': lgb_features})\n",
    "\n",
    "feature_df"
   ]
  },
  {
   "cell_type": "markdown",
   "id": "1a21a2c0",
   "metadata": {
    "papermill": {
     "duration": null,
     "end_time": null,
     "exception": null,
     "start_time": null,
     "status": "pending"
    },
    "tags": []
   },
   "source": [
    "## Feature Importance"
   ]
  },
  {
   "cell_type": "code",
   "execution_count": null,
   "id": "9ce01a0b",
   "metadata": {
    "execution": {
     "iopub.execute_input": "2022-03-25T07:11:14.507621Z",
     "iopub.status.busy": "2022-03-25T07:11:14.506781Z",
     "iopub.status.idle": "2022-03-25T07:11:15.225658Z",
     "shell.execute_reply": "2022-03-25T07:11:15.224729Z",
     "shell.execute_reply.started": "2022-03-25T07:11:14.507565Z"
    },
    "papermill": {
     "duration": null,
     "end_time": null,
     "exception": null,
     "start_time": null,
     "status": "pending"
    },
    "tags": []
   },
   "outputs": [],
   "source": [
    "%matplotlib inline\n",
    "\n",
    "import seaborn as sb\n",
    "import matplotlib.pyplot as plt\n",
    "\n",
    "width = 0.3\n",
    "x = np.arange(0, len(feature_df.index))\n",
    "\n",
    "## ax[0] graph\n",
    "fig, ax = plt.subplots(nrows = 2, ncols = 1, figsize = (16, 16)) # Option sharex=True\n",
    "ax[0].bar(x - width/2, feature_df['Decision Tree'], color = \"#0095FF\", width = width)\n",
    "ax[0].bar(x + width/2, feature_df['RandomForest'], color = \"#E6C0B1\", width = width)\n",
    "ax[0].set_xticks(x)\n",
    "ax[0].set_xticklabels(feature_df['features'], rotation=90)\n",
    "\n",
    "## ax[0] legend\n",
    "colors = {'Decision Tree':'#0095FF', 'RandomForest':'#E6C0B1'} \n",
    "labels = list(colors.keys())\n",
    "handles = [plt.Rectangle((0,0),1,1, color=colors[label]) for label in labels]\n",
    "\n",
    "ax[0].legend(handles, labels, bbox_to_anchor = (0.95, 0.95))\n",
    "ax[0].set_title(\"Feature Importance between Decision Tree and RandomForest\", fontsize=20)\n",
    "\n",
    "## ax[1] graph\n",
    "ax[1].bar(x, feature_df['LightGBM'], color = \"#60F09E\")\n",
    "ax[1].set_xticks(x)\n",
    "ax[1].set_xticklabels(feature_df['features'], rotation=90)\n",
    "ax[1].set_title(\"Feature Importance of LightGBM\", fontsize=20)\n",
    "\n",
    "## plt manage\n",
    "## plt.xticks(x, feature_df['features'], rotation=90)\n",
    "plt.tight_layout()\n",
    "plt.show()"
   ]
  },
  {
   "cell_type": "markdown",
   "id": "a6500ba0",
   "metadata": {
    "papermill": {
     "duration": null,
     "end_time": null,
     "exception": null,
     "start_time": null,
     "status": "pending"
    },
    "tags": []
   },
   "source": [
    "# Submission"
   ]
  },
  {
   "cell_type": "code",
   "execution_count": null,
   "id": "fd746116",
   "metadata": {
    "execution": {
     "iopub.execute_input": "2022-03-25T07:16:19.692353Z",
     "iopub.status.busy": "2022-03-25T07:16:19.692006Z",
     "iopub.status.idle": "2022-03-25T07:17:09.803854Z",
     "shell.execute_reply": "2022-03-25T07:17:09.802882Z",
     "shell.execute_reply.started": "2022-03-25T07:16:19.692315Z"
    },
    "papermill": {
     "duration": null,
     "end_time": null,
     "exception": null,
     "start_time": null,
     "status": "pending"
    },
    "tags": []
   },
   "outputs": [],
   "source": [
    "import numpy as np\n",
    "from datetime import datetime\n",
    "\n",
    "version = datetime.now().strftime(\"%d-%m-%Y %H-%M-%S\")\n",
    "\n",
    "def final_submission(model, data, version):\n",
    "    final_preds = model.predict(data)\n",
    "    binarizer = np.vectorize(lambda x: 1 if x >= .5 else 0)\n",
    "    prediction_binarized = binarizer(final_preds)\n",
    "    submission = pd.concat([sample_submission,pd.DataFrame(prediction_binarized)], axis=1).drop(columns=['Survived'])\n",
    "    submission.columns = ['PassengerId', 'Survived']\n",
    "    submission.to_csv('Sklearn of Submit Date {} Submission.csv'.format(version), index=False)\n",
    "    \n",
    "final_submission(lgb_model, test_data, version)"
   ]
  },
  {
   "cell_type": "markdown",
   "id": "45374945",
   "metadata": {
    "papermill": {
     "duration": null,
     "end_time": null,
     "exception": null,
     "start_time": null,
     "status": "pending"
    },
    "tags": []
   },
   "source": [
    "# ML by PyCaret"
   ]
  },
  {
   "cell_type": "markdown",
   "id": "d595eb20",
   "metadata": {
    "papermill": {
     "duration": null,
     "end_time": null,
     "exception": null,
     "start_time": null,
     "status": "pending"
    },
    "tags": []
   },
   "source": [
    "## Install PyCaret"
   ]
  },
  {
   "cell_type": "code",
   "execution_count": null,
   "id": "c4267b5b",
   "metadata": {
    "execution": {
     "iopub.execute_input": "2022-03-25T07:15:36.707399Z",
     "iopub.status.busy": "2022-03-25T07:15:36.707016Z",
     "iopub.status.idle": "2022-03-25T07:16:19.689820Z",
     "shell.execute_reply": "2022-03-25T07:16:19.688344Z",
     "shell.execute_reply.started": "2022-03-25T07:15:36.707359Z"
    },
    "papermill": {
     "duration": null,
     "end_time": null,
     "exception": null,
     "start_time": null,
     "status": "pending"
    },
    "tags": []
   },
   "outputs": [],
   "source": [
    "# !pip uninstall scikit-learn -y\n",
    "!pip install pycaret==2.2.3"
   ]
  },
  {
   "cell_type": "code",
   "execution_count": null,
   "id": "19979384",
   "metadata": {
    "execution": {
     "iopub.execute_input": "2022-03-25T07:17:09.805642Z",
     "iopub.status.busy": "2022-03-25T07:17:09.805404Z",
     "iopub.status.idle": "2022-03-25T07:17:09.816645Z",
     "shell.execute_reply": "2022-03-25T07:17:09.815948Z",
     "shell.execute_reply.started": "2022-03-25T07:17:09.805609Z"
    },
    "papermill": {
     "duration": null,
     "end_time": null,
     "exception": null,
     "start_time": null,
     "status": "pending"
    },
    "tags": []
   },
   "outputs": [],
   "source": [
    "# check version\n",
    "from pycaret.utils import version\n",
    "import sklearn\n",
    "print(\"pycaret version:\", version())\n",
    "print(\"sklearn version:\", sklearn.__version__)"
   ]
  },
  {
   "cell_type": "code",
   "execution_count": null,
   "id": "ef037192",
   "metadata": {
    "execution": {
     "iopub.execute_input": "2022-03-25T07:17:13.949274Z",
     "iopub.status.busy": "2022-03-25T07:17:13.947984Z",
     "iopub.status.idle": "2022-03-25T07:17:13.977647Z",
     "shell.execute_reply": "2022-03-25T07:17:13.977025Z",
     "shell.execute_reply.started": "2022-03-25T07:17:13.949203Z"
    },
    "papermill": {
     "duration": null,
     "end_time": null,
     "exception": null,
     "start_time": null,
     "status": "pending"
    },
    "tags": []
   },
   "outputs": [],
   "source": [
    "all_df_pycaret = pd.concat([X, y], axis=1)\n",
    "all_df_pycaret['Survived'] = all_df_pycaret['Survived'].astype('int64')\n",
    "all_df_pycaret.info()"
   ]
  },
  {
   "cell_type": "markdown",
   "id": "7e53bc62",
   "metadata": {
    "papermill": {
     "duration": null,
     "end_time": null,
     "exception": null,
     "start_time": null,
     "status": "pending"
    },
    "tags": []
   },
   "source": [
    "## Setting"
   ]
  },
  {
   "cell_type": "code",
   "execution_count": null,
   "id": "c8568794",
   "metadata": {
    "execution": {
     "iopub.execute_input": "2022-03-25T07:17:17.415311Z",
     "iopub.status.busy": "2022-03-25T07:17:17.414772Z",
     "iopub.status.idle": "2022-03-25T07:17:22.684397Z",
     "shell.execute_reply": "2022-03-25T07:17:22.683686Z",
     "shell.execute_reply.started": "2022-03-25T07:17:17.415279Z"
    },
    "papermill": {
     "duration": null,
     "end_time": null,
     "exception": null,
     "start_time": null,
     "status": "pending"
    },
    "tags": []
   },
   "outputs": [],
   "source": [
    "from pycaret.classification import *\n",
    "\n",
    "setup(data = all_df_pycaret, \n",
    "      target = 'Survived', \n",
    "      fold = 3,\n",
    "      silent = True\n",
    "     )\n",
    "\n",
    "set_config('seed', 123)"
   ]
  },
  {
   "cell_type": "markdown",
   "id": "98023911",
   "metadata": {
    "papermill": {
     "duration": null,
     "end_time": null,
     "exception": null,
     "start_time": null,
     "status": "pending"
    },
    "tags": []
   },
   "source": [
    "## Automatic Comparison"
   ]
  },
  {
   "cell_type": "code",
   "execution_count": null,
   "id": "18bf4370",
   "metadata": {
    "execution": {
     "iopub.execute_input": "2022-03-25T07:19:41.412754Z",
     "iopub.status.busy": "2022-03-25T07:19:41.412243Z",
     "iopub.status.idle": "2022-03-25T07:23:06.832013Z",
     "shell.execute_reply": "2022-03-25T07:23:06.831048Z",
     "shell.execute_reply.started": "2022-03-25T07:19:41.412698Z"
    },
    "papermill": {
     "duration": null,
     "end_time": null,
     "exception": null,
     "start_time": null,
     "status": "pending"
    },
    "tags": []
   },
   "outputs": [],
   "source": [
    "%%time\n",
    "\n",
    "best_model = compare_models(sort = 'Accuracy', n_select = 3)"
   ]
  },
  {
   "cell_type": "markdown",
   "id": "1a8fdb0f",
   "metadata": {
    "papermill": {
     "duration": null,
     "end_time": null,
     "exception": null,
     "start_time": null,
     "status": "pending"
    },
    "tags": []
   },
   "source": [
    "## Gradient Boosting Classfier"
   ]
  },
  {
   "cell_type": "code",
   "execution_count": null,
   "id": "a7dc9af5",
   "metadata": {
    "execution": {
     "iopub.execute_input": "2022-03-25T07:24:02.439070Z",
     "iopub.status.busy": "2022-03-25T07:24:02.438762Z",
     "iopub.status.idle": "2022-03-25T07:24:21.796778Z",
     "shell.execute_reply": "2022-03-25T07:24:21.795848Z",
     "shell.execute_reply.started": "2022-03-25T07:24:02.439021Z"
    },
    "papermill": {
     "duration": null,
     "end_time": null,
     "exception": null,
     "start_time": null,
     "status": "pending"
    },
    "tags": []
   },
   "outputs": [],
   "source": [
    "%%time\n",
    "gbc_model = create_model('gbc')"
   ]
  },
  {
   "cell_type": "code",
   "execution_count": null,
   "id": "b6b57fa6",
   "metadata": {
    "execution": {
     "iopub.execute_input": "2022-03-25T07:30:15.930963Z",
     "iopub.status.busy": "2022-03-25T07:30:15.930386Z",
     "iopub.status.idle": "2022-03-25T07:39:25.762370Z",
     "shell.execute_reply": "2022-03-25T07:39:25.761590Z",
     "shell.execute_reply.started": "2022-03-25T07:30:15.930919Z"
    },
    "papermill": {
     "duration": null,
     "end_time": null,
     "exception": null,
     "start_time": null,
     "status": "pending"
    },
    "tags": []
   },
   "outputs": [],
   "source": [
    "%%time\n",
    "tuned_gbc = tune_model(gbc_model, n_iter = 50) # parameter tuning"
   ]
  },
  {
   "cell_type": "markdown",
   "id": "70a33718",
   "metadata": {
    "papermill": {
     "duration": null,
     "end_time": null,
     "exception": null,
     "start_time": null,
     "status": "pending"
    },
    "tags": []
   },
   "source": [
    "## Feature Importance"
   ]
  },
  {
   "cell_type": "code",
   "execution_count": null,
   "id": "08f461bd",
   "metadata": {
    "execution": {
     "iopub.execute_input": "2022-03-25T07:40:00.165779Z",
     "iopub.status.busy": "2022-03-25T07:40:00.165133Z",
     "iopub.status.idle": "2022-03-25T07:40:01.021473Z",
     "shell.execute_reply": "2022-03-25T07:40:01.020733Z",
     "shell.execute_reply.started": "2022-03-25T07:40:00.165646Z"
    },
    "papermill": {
     "duration": null,
     "end_time": null,
     "exception": null,
     "start_time": null,
     "status": "pending"
    },
    "tags": []
   },
   "outputs": [],
   "source": [
    "plot_model(tuned_gbc, plot = 'feature_all')"
   ]
  },
  {
   "cell_type": "markdown",
   "id": "8c36347c",
   "metadata": {
    "papermill": {
     "duration": null,
     "end_time": null,
     "exception": null,
     "start_time": null,
     "status": "pending"
    },
    "tags": []
   },
   "source": [
    "## Submission"
   ]
  },
  {
   "cell_type": "code",
   "execution_count": null,
   "id": "d0fe4621",
   "metadata": {
    "execution": {
     "iopub.execute_input": "2022-03-25T07:40:05.197500Z",
     "iopub.status.busy": "2022-03-25T07:40:05.196444Z",
     "iopub.status.idle": "2022-03-25T07:40:07.322503Z",
     "shell.execute_reply": "2022-03-25T07:40:07.321525Z",
     "shell.execute_reply.started": "2022-03-25T07:40:05.197452Z"
    },
    "papermill": {
     "duration": null,
     "end_time": null,
     "exception": null,
     "start_time": null,
     "status": "pending"
    },
    "tags": []
   },
   "outputs": [],
   "source": [
    "predictions = predict_model(tuned_gbc, data = test_data)\n",
    "predictions.info()"
   ]
  },
  {
   "cell_type": "code",
   "execution_count": null,
   "id": "598ace01",
   "metadata": {
    "execution": {
     "iopub.execute_input": "2022-03-25T07:40:10.821105Z",
     "iopub.status.busy": "2022-03-25T07:40:10.820500Z",
     "iopub.status.idle": "2022-03-25T07:40:11.039505Z",
     "shell.execute_reply": "2022-03-25T07:40:11.038357Z",
     "shell.execute_reply.started": "2022-03-25T07:40:10.821041Z"
    },
    "papermill": {
     "duration": null,
     "end_time": null,
     "exception": null,
     "start_time": null,
     "status": "pending"
    },
    "tags": []
   },
   "outputs": [],
   "source": [
    "submission = pd.read_csv(BASE_DIR + 'sample_submission.csv')\n",
    "submission['Survived'] = predictions['Label']\n",
    "submission.to_csv('PyCaret Submission.csv', index=False)\n",
    "submission.head()"
   ]
  }
 ],
 "metadata": {
  "kernelspec": {
   "display_name": "Python 3 (ipykernel)",
   "language": "python",
   "name": "python3"
  },
  "language_info": {
   "codemirror_mode": {
    "name": "ipython",
    "version": 3
   },
   "file_extension": ".py",
   "mimetype": "text/x-python",
   "name": "python",
   "nbconvert_exporter": "python",
   "pygments_lexer": "ipython3",
   "version": "3.9.7"
  },
  "papermill": {
   "default_parameters": {},
   "duration": 12.42995,
   "end_time": "2022-03-25T08:03:31.388715",
   "environment_variables": {},
   "exception": true,
   "input_path": "__notebook__.ipynb",
   "output_path": "__notebook__.ipynb",
   "parameters": {},
   "start_time": "2022-03-25T08:03:18.958765",
   "version": "2.3.3"
  }
 },
 "nbformat": 4,
 "nbformat_minor": 5
}
