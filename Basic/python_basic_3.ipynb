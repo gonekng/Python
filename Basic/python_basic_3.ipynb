{
 "cells": [
  {
   "cell_type": "markdown",
   "metadata": {
    "id": "6pS0IwKtJ1ua"
   },
   "source": [
    "# 기초 문법 리뷰"
   ]
  },
  {
   "cell_type": "markdown",
   "metadata": {
    "id": "ITrRoJLiFP14"
   },
   "source": [
    "## 리스트, 튜플, 딕셔너리"
   ]
  },
  {
   "cell_type": "code",
   "execution_count": null,
   "metadata": {
    "colab": {
     "base_uri": "https://localhost:8080/"
    },
    "id": "9C8N-c4G8idN",
    "outputId": "1b26303d-514e-4b58-f28e-3c091569340c"
   },
   "outputs": [
    {
     "name": "stdout",
     "output_type": "stream",
     "text": [
      "['A', 'B', 'C']\n",
      "('A', 'B', 'C')\n",
      "{'title': ['A', 'B'], 'year': [2011, 2002]}\n"
     ]
    }
   ],
   "source": [
    "# 리스트\n",
    "book_list = ['A', 'B', 'C']\n",
    "print(book_list)\n",
    "# append, extend, insert, remove, pop, etc\n",
    "\n",
    "# 튜플\n",
    "book_tuple = ('A', 'B', 'C')\n",
    "print(book_tuple)\n",
    "# 수정, 삭제 불가능\n",
    "\n",
    "# 딕셔너리\n",
    "book_dictionary = {\"title\" : [\"A\", \"B\"], \"year\" : [2011, 2002]}\n",
    "print(book_dictionary)\n",
    "# keys(), values(), items(), get()"
   ]
  },
  {
   "cell_type": "markdown",
   "metadata": {
    "id": "BMTvwTRe-E-p"
   },
   "source": [
    "## 조건문 & 반복문"
   ]
  },
  {
   "cell_type": "code",
   "execution_count": null,
   "metadata": {
    "id": "JZ4lS6Y0-III"
   },
   "outputs": [],
   "source": [
    "if True:\n",
    "  print(\"코드 실행\") # 들여쓰기 주의\n",
    "elif True:\n",
    "  print(\"코드 실행\")\n",
    "else:\n",
    "  print(\"코드 실행\")"
   ]
  },
  {
   "cell_type": "code",
   "execution_count": null,
   "metadata": {
    "colab": {
     "base_uri": "https://localhost:8080/"
    },
    "id": "q8raQyU5-XwU",
    "outputId": "c885e929-7aa8-4943-f651-3528c2b227a1"
   },
   "outputs": [
    {
     "name": "stdout",
     "output_type": "stream",
     "text": [
      "1 안녕하세요\n",
      "2 안녕하세요\n",
      "3 안녕하세요\n"
     ]
    }
   ],
   "source": [
    "for i in range(3):\n",
    "  print(i+1, \"안녕하세요\")"
   ]
  },
  {
   "cell_type": "code",
   "execution_count": null,
   "metadata": {
    "colab": {
     "base_uri": "https://localhost:8080/"
    },
    "id": "Z_7AqZ4f-4WN",
    "outputId": "341fde3b-d7c4-4358-9fa4-3f3f61e450f6"
   },
   "outputs": [
    {
     "name": "stdout",
     "output_type": "stream",
     "text": [
      "R Python \n",
      "\n",
      "H e l l o 1 2 3 4 \n",
      "\n",
      "A 1 B 2 "
     ]
    }
   ],
   "source": [
    "book_list = [\"R\", \"Python\"]\n",
    "for book in book_list:\n",
    "  print(book, end=\" \")\n",
    "print(\"\\n\")\n",
    "\n",
    "strings01 = \"Hello\"\n",
    "for char in strings01:\n",
    "  print(char, end=\" \")\n",
    "\n",
    "num_tuple = (1, 2, 3, 4)\n",
    "for num in num_tuple:\n",
    "  print(num, end=\" \")\n",
    "print(\"\\n\")\n",
    "\n",
    "num_dict = {\"A\":1, \"B\":2}\n",
    "for num in num_dict:\n",
    "  print(num, end=\" \") # key 값\n",
    "  print(num_dict[num], end=\" \") # value 값"
   ]
  },
  {
   "cell_type": "markdown",
   "metadata": {
    "id": "0vy093StAftv"
   },
   "source": [
    "### 반복문의 필요성"
   ]
  },
  {
   "cell_type": "code",
   "execution_count": null,
   "metadata": {
    "colab": {
     "base_uri": "https://localhost:8080/"
    },
    "id": "QXuxLy0wAcfB",
    "outputId": "9161e85f-24f8-41d7-f936-08464a411a12"
   },
   "outputs": [
    {
     "name": "stdout",
     "output_type": "stream",
     "text": [
      "요구르트의 매출액 : 5000원\n",
      "우유의 매출액 : 4500원\n",
      "콜라의 매출액 : 1200원\n",
      "사이다의 매출액 : 2400원\n",
      "과자의 매출액 : 4000원\n"
     ]
    }
   ],
   "source": [
    "name_list = [\"요구르트\", \"우유\", \"콜라\", \"사이다\", \"과자\"]\n",
    "price_list = [1000, 1500, 1200, 1200, 1000]\n",
    "quantity_list = [5, 3, 1, 2, 4]\n",
    "\n",
    "\n",
    "for i in range(len(name_list)):\n",
    "  name = name_list[i]\n",
    "  sales = price_list[i] * quantity_list[i]\n",
    "  print(name + \"의 매출액 : \" + str(sales) + \"원\")"
   ]
  },
  {
   "cell_type": "markdown",
   "metadata": {
    "id": "6js11YpjFTx1"
   },
   "source": [
    "### while\n",
    "- 조건식이 들어간 반복문\n"
   ]
  },
  {
   "cell_type": "code",
   "execution_count": null,
   "metadata": {
    "colab": {
     "base_uri": "https://localhost:8080/"
    },
    "id": "OSBjaThMFXPB",
    "outputId": "d2cf31c4-c72e-45a1-b560-8d6035515b78"
   },
   "outputs": [
    {
     "name": "stdout",
     "output_type": "stream",
     "text": [
      "5 안녕하세요.\n",
      "4 안녕하세요.\n",
      "3 안녕하세요.\n",
      "2 안녕하세요.\n",
      "1 안녕하세요.\n"
     ]
    }
   ],
   "source": [
    "count = 5\n",
    "while count > 0:\n",
    "  print(count, \"안녕하세요.\")\n",
    "  count = count - 1"
   ]
  },
  {
   "cell_type": "markdown",
   "metadata": {
    "id": "not_PtpfXSaw"
   },
   "source": [
    "# 리스트 컴프리핸션\n",
    "- for-loop 반복문을 한 줄로 처리"
   ]
  },
  {
   "cell_type": "code",
   "execution_count": null,
   "metadata": {
    "colab": {
     "base_uri": "https://localhost:8080/"
    },
    "id": "P8C0iIVzYdf8",
    "outputId": "39d93d17-0866-4429-e15e-412b34476888"
   },
   "outputs": [
    {
     "name": "stdout",
     "output_type": "stream",
     "text": [
      "for-loop 반복문 사용 :\n",
      "\t ['h', 'e', 'l', 'l', 'o', 'w', 'o', 'r', 'l', 'd']\n",
      "리스트 컴프리핸션 사용 :\n",
      "\t ['h', 'e', 'l', 'l', 'o', 'w', 'o', 'r', 'l', 'd']\n"
     ]
    }
   ],
   "source": [
    "letters = []\n",
    "for char in \"helloworld\":\n",
    "  letters.append(char)\n",
    "print(\"for-loop 반복문 사용 :\")\n",
    "print(\"\\t\", letters)\n",
    "\n",
    "letters2 = [char for char in \"helloworld\"]\n",
    "print(\"리스트 컴프리핸션 사용 :\")\n",
    "print(\"\\t\", letters2)"
   ]
  },
  {
   "cell_type": "code",
   "execution_count": null,
   "metadata": {
    "colab": {
     "base_uri": "https://localhost:8080/"
    },
    "id": "W3yRMgkhXiD0",
    "outputId": "9f103ec2-c2f7-4534-9411-6b83a26777e7"
   },
   "outputs": [
    {
     "name": "stdout",
     "output_type": "stream",
     "text": [
      "[[10], [20, 30]]\n",
      "중첩 반복문 사용 : [10, 20, 30]\n",
      "리스트 컴프리핸션 사용 : [10, 20, 30]\n"
     ]
    }
   ],
   "source": [
    "# 중첩 리스트를 단일 리스트로\n",
    "my_list = [[10],[20,30]]\n",
    "print(my_list)\n",
    "\n",
    "# for-loop 중첩 반복문 사용\n",
    "flattened_list1 = []\n",
    "for value_list in my_list:\n",
    "  for value in value_list:\n",
    "    flattened_list1.append(value)\n",
    "print(\"중첩 반복문 사용 :\", flattened_list1)\n",
    "\n",
    "# 리스트 컴프리핸션 사용\n",
    "flattened_list2 = [value for value_list in my_list for value in value_list]\n",
    "print(\"리스트 컴프리핸션 사용 :\", flattened_list2)"
   ]
  },
  {
   "cell_type": "markdown",
   "metadata": {
    "id": "eYQlGGlVMzv8"
   },
   "source": [
    "# 사용자 정의 함수"
   ]
  },
  {
   "cell_type": "code",
   "execution_count": null,
   "metadata": {
    "colab": {
     "base_uri": "https://localhost:8080/"
    },
    "id": "WdhjDVZ7MvsU",
    "outputId": "431a11fd-248a-4d3d-b666-6a7a53f721a6"
   },
   "outputs": [
    {
     "name": "stdout",
     "output_type": "stream",
     "text": [
      "6\n",
      "7\n",
      "8\n",
      "4.0\n"
     ]
    }
   ],
   "source": [
    "def plus(a,b):\n",
    "  c = a + b\n",
    "  return c\n",
    "\n",
    "def minus(a,b):\n",
    "  c = a - b\n",
    "  return c\n",
    "\n",
    "def multiply(a,b):\n",
    "  c = a * b\n",
    "  return c\n",
    "\n",
    "def divide(a,b):\n",
    "  c = a / b\n",
    "  return c\n",
    "\n",
    "print(plus(1,5))\n",
    "print(minus(10,3))\n",
    "print(multiply(2,4))\n",
    "print(divide(8,2))"
   ]
  },
  {
   "cell_type": "markdown",
   "metadata": {
    "id": "KGzay_d9RATP"
   },
   "source": [
    "- basic.py로 저장할 때 예시"
   ]
  },
  {
   "cell_type": "code",
   "execution_count": null,
   "metadata": {
    "colab": {
     "base_uri": "https://localhost:8080/"
    },
    "id": "FA6esKu9Qc2z",
    "outputId": "09464c5a-6001-460d-8e1b-486f1b204128"
   },
   "outputs": [
    {
     "name": "stdout",
     "output_type": "stream",
     "text": [
      "/usr/local/bin/python\n"
     ]
    }
   ],
   "source": [
    "!which python"
   ]
  },
  {
   "cell_type": "code",
   "execution_count": null,
   "metadata": {
    "colab": {
     "base_uri": "https://localhost:8080/"
    },
    "id": "74sVbF0SQlJq",
    "outputId": "e429f73d-ab49-4e29-b1b8-d9a2a1e1da12"
   },
   "outputs": [
    {
     "name": "stdout",
     "output_type": "stream",
     "text": [
      "3\n"
     ]
    }
   ],
   "source": [
    "# /usr/local/bin/python\n",
    "# -*- coding: utf-8 -*-\n",
    "\n",
    "def add(a, b):\n",
    "  c = a + b\n",
    "  return c\n",
    "\n",
    "if __name__ == \"__main__\":\n",
    "  a = 1\n",
    "  b = 2\n",
    "  c= add(a, b)\n",
    "  print(c)\n"
   ]
  },
  {
   "cell_type": "markdown",
   "metadata": {
    "id": "a2dP14q1RLwQ"
   },
   "source": [
    "## 파이썬 함수 주석 처리\n",
    "- Docstring(문서화)"
   ]
  },
  {
   "cell_type": "code",
   "execution_count": null,
   "metadata": {
    "colab": {
     "base_uri": "https://localhost:8080/"
    },
    "id": "B93LdO8NROnZ",
    "outputId": "66a5829e-5978-4f22-9a7c-88a8870ccc9e"
   },
   "outputs": [
    {
     "name": "stdout",
     "output_type": "stream",
     "text": [
      "\n",
      "  content 안에 있는 문자를 세는 함수입니다.\n",
      "  \n",
      "  Args:\n",
      "    content(str) : 탐색 문자열\n",
      "    letter(str) : 찾을 문자열\n",
      "  \n",
      "  Returns:\n",
      "    int\n",
      "  \n"
     ]
    }
   ],
   "source": [
    "# /usr/local/bin/python\n",
    "# -*- coding: utf-8 -*-\n",
    "\n",
    "def temp(content, letter):\n",
    "  \"\"\"\n",
    "  content 안에 있는 문자를 세는 함수입니다.\n",
    "  \n",
    "  Args:\n",
    "    content(str) : 탐색 문자열\n",
    "    letter(str) : 찾을 문자열\n",
    "  \n",
    "  Returns:\n",
    "    int\n",
    "  \"\"\"\n",
    "  print(\"함수 테스트\")\n",
    "\n",
    "  cnt = len([char for char in content if char == letter])\n",
    "  return cnt\n",
    "\n",
    "if __name__ == \"__main__\":\n",
    "  # help(temp)\n",
    "  print(temp.__doc__)\n"
   ]
  },
  {
   "cell_type": "code",
   "execution_count": null,
   "metadata": {
    "colab": {
     "base_uri": "https://localhost:8080/"
    },
    "id": "CyHhLQPpabdi",
    "outputId": "6ea0a4e4-017f-4f33-cbf5-d0b3d3c60899"
   },
   "outputs": [
    {
     "name": "stdout",
     "output_type": "stream",
     "text": [
      "avg: 2.5714285714285716\n",
      "median: 2\n"
     ]
    }
   ],
   "source": [
    "def mean_and_median(value_list):\n",
    "  \"\"\"\n",
    "  숫자 리스트 요소들의 평균과 중간값을 구하는 함수\n",
    "\n",
    "  Args:\n",
    "    value_list (iterable of int / float) : A list of int numbers\n",
    "  \n",
    "  Returns:\n",
    "    tuple(float, float)\n",
    "  \"\"\"\n",
    "\n",
    "  # 평균\n",
    "  mean = sum(value_list) / len(value_list)\n",
    "  \n",
    "  # 중간값\n",
    "  midpoint = int(len(value_list) / 2)\n",
    "  if len(value_list) % 2 == 0:\n",
    "    median = (value_list[midpoint - 1] + value_list[midpoint]) / 2\n",
    "  else:\n",
    "    median = value_list[midpoint]\n",
    "\n",
    "  return mean, median\n",
    "\n",
    "if __name__ == \"__main__\":\n",
    "  value_list = [1, 1, 2, 2, 3, 4, 5]\n",
    "  avg, median = mean_and_median(value_list)\n",
    "  print(\"avg:\", avg)\n",
    "  print(\"median:\", median)"
   ]
  },
  {
   "cell_type": "code",
   "execution_count": null,
   "metadata": {
    "colab": {
     "base_uri": "https://localhost:8080/"
    },
    "id": "R8Brud0FdXCE",
    "outputId": "e8cdee99-832d-4f30-ba8f-2730f0b6733c"
   },
   "outputs": [
    {
     "name": "stdout",
     "output_type": "stream",
     "text": [
      "+ : 20\n",
      "- : 6\n",
      "* : 91\n",
      "/ : 1.86\n"
     ]
    }
   ],
   "source": [
    "def calculation(num1,num2):\n",
    "  \"\"\"\n",
    "  두 수에 대한 사칙연산을 수행하는 함수\n",
    "\n",
    "  Args:\n",
    "    num1 : float number\n",
    "    num2 : float number\n",
    "  \n",
    "  Returns:\n",
    "    tuple(float, float, float, float)\n",
    "  \"\"\"\n",
    "\n",
    "  # 덧셈\n",
    "  plus_num = num1 + num2\n",
    "  # 뺄셈\n",
    "  minus_num = num1 - num2\n",
    "  # 곱셈\n",
    "  multiply_num = num1 * num2\n",
    "  # 나눗셈(소수점 둘째 자리까지)\n",
    "  divide_num = round(num1 / num2, 2)\n",
    "\n",
    "  return plus_num, minus_num, multiply_num, divide_num\n",
    "\n",
    "if __name__ == \"__main__\":\n",
    "  num1 = 13\n",
    "  num2 = 7\n",
    "  plus, minus, multiply, divide = calculation(num1, num2)\n",
    "  print(\"+ :\", plus)\n",
    "  print(\"- :\", minus)\n",
    "  print(\"* :\", multiply)\n",
    "  print(\"/ :\", divide)"
   ]
  },
  {
   "cell_type": "markdown",
   "metadata": {
    "id": "mVSCcC_fsUCr"
   },
   "source": [
    "- 이터레이터, 제너레이터, 데코레이터\n",
    "- 변수명 immutable or mutable, context manager"
   ]
  }
 ],
 "metadata": {
  "colab": {
   "collapsed_sections": [
    "0vy093StAftv",
    "not_PtpfXSaw"
   ],
   "name": "파이썬_기초문법_3.ipynb",
   "provenance": [],
   "toc_visible": true
  },
  "kernelspec": {
   "display_name": "Python 3 (ipykernel)",
   "language": "python",
   "name": "python3"
  },
  "language_info": {
   "name": "python"
  }
 },
 "nbformat": 4,
 "nbformat_minor": 1
}
