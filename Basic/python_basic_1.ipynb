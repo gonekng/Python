{
 "cells": [
  {
   "cell_type": "markdown",
   "metadata": {
    "id": "dLwExjd5A_yp"
   },
   "source": [
    "# Hello World"
   ]
  },
  {
   "cell_type": "code",
   "execution_count": null,
   "metadata": {
    "colab": {
     "base_uri": "https://localhost:8080/"
    },
    "id": "uFZXUV6A0X43",
    "outputId": "c86710cc-21eb-4fde-dec1-8d66249aa2fa"
   },
   "outputs": [
    {
     "name": "stdout",
     "output_type": "stream",
     "text": [
      "Hello, World!\n"
     ]
    }
   ],
   "source": [
    "print(\"Hello, World!\")"
   ]
  },
  {
   "cell_type": "markdown",
   "metadata": {
    "id": "NKUrB4v9BNfN"
   },
   "source": [
    "# 주석 처리\n",
    "- 코드 작업 시, 특정 코드에 대해 설명\n",
    "- 사용자 정의 함수 작성 시, 클래스 작성 시 중요 (도움말 작성)"
   ]
  },
  {
   "cell_type": "code",
   "execution_count": null,
   "metadata": {
    "colab": {
     "base_uri": "https://localhost:8080/"
    },
    "id": "k28aKgVCBfk_",
    "outputId": "9405d325-3408-42d1-fb4c-6ac71ae9e9f3"
   },
   "outputs": [
    {
     "name": "stdout",
     "output_type": "stream",
     "text": [
      "Hello, World!\n"
     ]
    }
   ],
   "source": [
    "# 한 줄 주석 처리\n",
    "\"\"\"\n",
    "여러 줄 주석 처리\n",
    "\"\"\"\n",
    "\n",
    "print(\"Hello, World!\")"
   ]
  },
  {
   "cell_type": "markdown",
   "metadata": {
    "id": "h_7j49kIB14t"
   },
   "source": [
    "# 변수 (Scalar)\n",
    "- 객체(OBject)로 구현이 됨\n",
    "  + 하나의 자료형(Type)을 가진다.\n",
    "  + 클래스(Class)로 정의된다.\n",
    "    - 다양한 함수들 존재"
   ]
  },
  {
   "cell_type": "markdown",
   "metadata": {
    "id": "z6aRtLxyCVFc"
   },
   "source": [
    "## int\n",
    "- int 정수를 표현하는 데 사용"
   ]
  },
  {
   "cell_type": "code",
   "execution_count": null,
   "metadata": {
    "colab": {
     "base_uri": "https://localhost:8080/"
    },
    "id": "JVilHXCWB1HD",
    "outputId": "c96ca0bc-85ca-4d1a-a66c-de51f4544ab1"
   },
   "outputs": [
    {
     "name": "stdout",
     "output_type": "stream",
     "text": [
      "1\n",
      "3\n",
      "<class 'int'>\n"
     ]
    }
   ],
   "source": [
    "num_int = 1\n",
    "num_int2 = 3\n",
    "print(num_int)\n",
    "print(num_int2)\n",
    "print(type(num_int))"
   ]
  },
  {
   "cell_type": "markdown",
   "metadata": {
    "id": "PADDhAxqDjS9"
   },
   "source": [
    "## float\n",
    "- 실수를 표현하는 데 사용"
   ]
  },
  {
   "cell_type": "code",
   "execution_count": null,
   "metadata": {
    "colab": {
     "base_uri": "https://localhost:8080/"
    },
    "id": "_zrREv-5DmaA",
    "outputId": "7957829b-0ada-41c8-8384-fa05c716241f"
   },
   "outputs": [
    {
     "name": "stdout",
     "output_type": "stream",
     "text": [
      "0.2\n",
      "<class 'float'>\n"
     ]
    }
   ],
   "source": [
    "num_float = 0.2\n",
    "print(num_float)\n",
    "print(type(num_float))"
   ]
  },
  {
   "cell_type": "markdown",
   "metadata": {
    "id": "UNiLldPiDz2O"
   },
   "source": [
    "## bool\n",
    "- True와 False로 나타나는 Boolean 값을 표현하는 데 사용"
   ]
  },
  {
   "cell_type": "code",
   "execution_count": null,
   "metadata": {
    "colab": {
     "base_uri": "https://localhost:8080/"
    },
    "id": "cPnbqeoaD6fx",
    "outputId": "bbc153bb-74bb-468e-d6a2-e04d32d7a3cb"
   },
   "outputs": [
    {
     "name": "stdout",
     "output_type": "stream",
     "text": [
      "True\n",
      "<class 'bool'>\n"
     ]
    }
   ],
   "source": [
    "bool_true = True\n",
    "print(bool_true)\n",
    "print(type(bool_true))"
   ]
  },
  {
   "cell_type": "markdown",
   "metadata": {
    "id": "RDm0wxZWEJ0G"
   },
   "source": [
    "## None\n",
    "- Null을 나타내는 자료형으로 None이라는 한 가지 값만 가진다."
   ]
  },
  {
   "cell_type": "code",
   "execution_count": null,
   "metadata": {
    "colab": {
     "base_uri": "https://localhost:8080/"
    },
    "id": "SI7MymLJEYVs",
    "outputId": "e18c8ff2-1bc9-4953-c752-215325015b44"
   },
   "outputs": [
    {
     "name": "stdout",
     "output_type": "stream",
     "text": [
      "None\n",
      "<class 'NoneType'>\n"
     ]
    }
   ],
   "source": [
    "none_x = None\n",
    "print(none_x)\n",
    "print(type(none_x))"
   ]
  },
  {
   "cell_type": "markdown",
   "metadata": {
    "id": "_bYZWhqsE0g-"
   },
   "source": [
    "# 사칙연산\n"
   ]
  },
  {
   "cell_type": "markdown",
   "metadata": {
    "id": "2yiMqWHQGjuv"
   },
   "source": [
    "## 정수형 사칙연산"
   ]
  },
  {
   "cell_type": "code",
   "execution_count": null,
   "metadata": {
    "colab": {
     "base_uri": "https://localhost:8080/"
    },
    "id": "LbqcrK_bE-yP",
    "outputId": "c87d01f4-8d84-4b15-e91a-46428c64596d"
   },
   "outputs": [
    {
     "name": "stdout",
     "output_type": "stream",
     "text": [
      "a + b =  17\n",
      "a - b =  13\n",
      "a * b =  30\n",
      "a / b =  7.5\n",
      "a // b =  7\n",
      "a % b =  1\n",
      "a ** b =  225\n"
     ]
    }
   ],
   "source": [
    "a = 15 # int\n",
    "b = 2 # int\n",
    "print('a + b = ', a+b) # int\n",
    "print('a - b = ', a-b) # int\n",
    "print('a * b = ', a*b) # int\n",
    "print('a / b = ', a/b) # float\n",
    "print('a // b = ', a//b) # int\n",
    "print('a % b = ', a%b) # int\n",
    "print('a ** b = ', a**b) # int"
   ]
  },
  {
   "cell_type": "markdown",
   "metadata": {
    "id": "685v40syGm80"
   },
   "source": [
    "## 실수형 사칙연산"
   ]
  },
  {
   "cell_type": "code",
   "execution_count": null,
   "metadata": {
    "colab": {
     "base_uri": "https://localhost:8080/"
    },
    "id": "5fZ7lUdXGds8",
    "outputId": "17a792e2-583e-46fc-a09f-c795f8a2ec99"
   },
   "outputs": [
    {
     "name": "stdout",
     "output_type": "stream",
     "text": [
      "a + b = 17.0\n",
      "a - b = 13.0\n",
      "a * b = 30.0\n",
      "a / b = 7.5\n",
      "a // b = 7.0\n",
      "a % b = 1.0\n",
      "a ** b = 225.0\n"
     ]
    }
   ],
   "source": [
    "a = 15.0 # float\n",
    "b = 2.0 # float\n",
    "print('a + b =', a+b) # float\n",
    "print('a - b =', a-b) # float\n",
    "print('a * b =', a*b) # float\n",
    "print('a / b =', a/b) # float\n",
    "print('a // b =', a//b) # float\n",
    "print('a % b =', a%b) # float\n",
    "print('a ** b =', a**b) # float"
   ]
  },
  {
   "cell_type": "markdown",
   "metadata": {
    "id": "rAO_6REcG2uX"
   },
   "source": [
    "# 논리형 연산자\n",
    "- Bool형은 True와 False 값으로 정의\n",
    "- AND, OR, NOT"
   ]
  },
  {
   "cell_type": "code",
   "execution_count": null,
   "metadata": {
    "colab": {
     "base_uri": "https://localhost:8080/"
    },
    "id": "w7fBdAOjHBvF",
    "outputId": "316af323-b6d7-4efd-9da3-4a523edc5108"
   },
   "outputs": [
    {
     "name": "stdout",
     "output_type": "stream",
     "text": [
      "x = True\n",
      "y = False\n",
      "x and x = True\n",
      "x and y = False\n",
      "y and x = False\n",
      "y and y = False\n",
      "x or x = True\n",
      "x or y = True\n",
      "y or x = True\n",
      "y or y = False\n"
     ]
    }
   ],
   "source": [
    "x = 5 > 4\n",
    "print('x =', x)\n",
    "y = 3 > 9\n",
    "print('y =', y)\n",
    "print('x and x =', x and x)\n",
    "print('x and y =', x and y)\n",
    "print('y and x =', y and x)\n",
    "print('y and y =', y and y)\n",
    "print('x or x =', x or x)\n",
    "print('x or y =', x or y)\n",
    "print('y or x =', y or x)\n",
    "print('y or y =', y or y)"
   ]
  },
  {
   "cell_type": "markdown",
   "metadata": {
    "id": "W49JdkQ5H_kj"
   },
   "source": [
    "## 비교 연산자\n",
    "- 부등호를 의미\n",
    "- 비교 연산자를 True와 False 값을 도출"
   ]
  },
  {
   "cell_type": "markdown",
   "metadata": {
    "id": "yL0aJq_hIKIZ"
   },
   "source": [
    "## 논리 & 비교 연산자 응용"
   ]
  },
  {
   "cell_type": "code",
   "execution_count": null,
   "metadata": {
    "colab": {
     "base_uri": "https://localhost:8080/"
    },
    "id": "fqBPn-CoIEQD",
    "outputId": "04554e4c-16ac-43c5-8a73-115906844142"
   },
   "outputs": [
    {
     "name": "stdout",
     "output_type": "stream",
     "text": [
      "숫자를 입력하시오. :24\n",
      "24\n",
      "<class 'str'>\n"
     ]
    }
   ],
   "source": [
    "var = input(\"숫자를 입력하시오. :\")\n",
    "print(var)\n",
    "print(type(var))"
   ]
  },
  {
   "cell_type": "code",
   "execution_count": null,
   "metadata": {
    "colab": {
     "base_uri": "https://localhost:8080/"
    },
    "id": "KLlGOHCdI6c-",
    "outputId": "f008b33c-01f6-4ae8-f596-7f10b2a00782"
   },
   "outputs": [
    {
     "name": "stdout",
     "output_type": "stream",
     "text": [
      "숫자를 입력하시오. :92\n",
      "92\n",
      "<class 'int'>\n"
     ]
    }
   ],
   "source": [
    "var = int(input(\"숫자를 입력하시오. :\"))\n",
    "print(var)\n",
    "print(type(var))"
   ]
  },
  {
   "cell_type": "code",
   "execution_count": null,
   "metadata": {
    "colab": {
     "base_uri": "https://localhost:8080/"
    },
    "id": "rIQQ7lhoJEqp",
    "outputId": "aafe6a1a-2b4a-419d-e12c-68fb05176b3b"
   },
   "outputs": [
    {
     "name": "stdout",
     "output_type": "stream",
     "text": [
      "숫자를 입력하시오. :29\n",
      "숫자를 입력하시오. :15\n",
      "숫자를 입력하시오. :8\n",
      "숫자를 입력하시오. :10\n",
      "True\n",
      "True\n"
     ]
    }
   ],
   "source": [
    "num1 = int(input(\"숫자를 입력하시오. :\"))\n",
    "num2 = int(input(\"숫자를 입력하시오. :\"))\n",
    "num3 = int(input(\"숫자를 입력하시오. :\"))\n",
    "num4 = int(input(\"숫자를 입력하시오. :\"))\n",
    "\n",
    "var1 = num1 >= num2 \n",
    "var2 = num3 < num4\n",
    "print(var1 and var2)\n",
    "print(var1 or var2)"
   ]
  },
  {
   "cell_type": "markdown",
   "metadata": {
    "id": "tp3CFnAoP56x"
   },
   "source": [
    "# 문자열"
   ]
  },
  {
   "cell_type": "markdown",
   "metadata": {
    "id": "Xa9D5XweekxP"
   },
   "source": [
    "## 문자열 입력 방법\n",
    "- 문자열을 입력하는 4가지 방법\n",
    "\n"
   ]
  },
  {
   "cell_type": "code",
   "execution_count": null,
   "metadata": {
    "colab": {
     "base_uri": "https://localhost:8080/"
    },
    "id": "LpXqD3TVQDgB",
    "outputId": "d9780913-28dd-412d-9bc8-2345502cd53e"
   },
   "outputs": [
    {
     "name": "stdout",
     "output_type": "stream",
     "text": [
      "Hello, World\n",
      "Hello, World\n",
      "'Hello, World\n",
      "\"Hello, World\"\n"
     ]
    }
   ],
   "source": [
    "print(\"Hello, World\")\n",
    "print('Hello, World')\n",
    "print(\"'Hello, World'\")\n",
    "print('\"Hello, World\"')"
   ]
  },
  {
   "cell_type": "markdown",
   "metadata": {
    "id": "VeLh8X_gdgz7"
   },
   "source": [
    "- 문자열에 작은따옴표, 큰따옴표 포함하는 방법"
   ]
  },
  {
   "cell_type": "code",
   "execution_count": null,
   "metadata": {
    "colab": {
     "base_uri": "https://localhost:8080/"
    },
    "id": "Q8_lU89EdttW",
    "outputId": "0579082a-34e4-40e9-9ba4-d60cfd727af1"
   },
   "outputs": [
    {
     "name": "stdout",
     "output_type": "stream",
     "text": [
      "Python's favorite food is perl\n",
      "\"Python is very easy.\" he says.\n",
      "Python's favorite food is perl\n",
      "\"Python is very easy.\" he says.\n"
     ]
    }
   ],
   "source": [
    "food = \"Python's favorite food is perl\"\n",
    "print(food)\n",
    "say = '\"Python is very easy.\" he says.'\n",
    "print(say)\n",
    "\n",
    "food2 = 'Python\\'s favorite food is perl'\n",
    "print(food2)\n",
    "say2 = \"\\\"Python is very easy.\\\" he says.\"\n",
    "print(say2)"
   ]
  },
  {
   "cell_type": "markdown",
   "metadata": {
    "id": "q5SlenTHezRt"
   },
   "source": [
    "- 변수에 여러 줄의 문자열 대입"
   ]
  },
  {
   "cell_type": "code",
   "execution_count": null,
   "metadata": {
    "colab": {
     "base_uri": "https://localhost:8080/"
    },
    "id": "ZA97qBSqe7f1",
    "outputId": "848f4b9a-d468-4670-cf3b-6e0241052b58"
   },
   "outputs": [
    {
     "name": "stdout",
     "output_type": "stream",
     "text": [
      "Life is too short.\n",
      "You need python.\n"
     ]
    }
   ],
   "source": [
    "multiline = \"Life is too short.\\nYou need python.\"\n",
    "print(multiline)"
   ]
  },
  {
   "cell_type": "code",
   "execution_count": null,
   "metadata": {
    "colab": {
     "base_uri": "https://localhost:8080/"
    },
    "id": "jHPZVO1EfH4I",
    "outputId": "b5e9f7dc-f5ba-4341-f386-f9591266be10"
   },
   "outputs": [
    {
     "name": "stdout",
     "output_type": "stream",
     "text": [
      "\n",
      "Life is too short.\n",
      "You need python\n",
      "\n"
     ]
    }
   ],
   "source": [
    "multiline ='''\n",
    "Life is too short.\n",
    "You need python\n",
    "'''\n",
    "print(multiline)"
   ]
  },
  {
   "cell_type": "markdown",
   "metadata": {
    "id": "IjQgjZonQsmD"
   },
   "source": [
    "## String 연산자\n",
    "- 덧셈 연산자\n"
   ]
  },
  {
   "cell_type": "code",
   "execution_count": null,
   "metadata": {
    "colab": {
     "base_uri": "https://localhost:8080/"
    },
    "id": "Z4DrzazaQ61x",
    "outputId": "09e1c1ae-9ce8-40b1-c780-c7fae84f2cb6"
   },
   "outputs": [
    {
     "name": "stdout",
     "output_type": "stream",
     "text": [
      "Hello World! \n"
     ]
    }
   ],
   "source": [
    "str1 = \"Hello \"\n",
    "str2 = \"World! \"\n",
    "\n",
    "print(str1 + str2)"
   ]
  },
  {
   "cell_type": "markdown",
   "metadata": {
    "id": "gJQqe_r6RUML"
   },
   "source": [
    "- 곱셈 연산자\n"
   ]
  },
  {
   "cell_type": "code",
   "execution_count": null,
   "metadata": {
    "colab": {
     "base_uri": "https://localhost:8080/"
    },
    "id": "h35ZgcSRRVeE",
    "outputId": "15f41220-2846-4250-c44d-3ed24a6d8963"
   },
   "outputs": [
    {
     "name": "stdout",
     "output_type": "stream",
     "text": [
      "Hello World! Hello World! Hello World! \n"
     ]
    }
   ],
   "source": [
    "greeting = str1 + str2\n",
    "print(greeting * 3)"
   ]
  },
  {
   "cell_type": "markdown",
   "metadata": {
    "id": "GuoyrLyMRoCc"
   },
   "source": [
    "## Indexing\n",
    "- 문자열 인덱싱은 문자열 안에서 범위를 지정하여 특정 단일 \n",
    "문자 추출"
   ]
  },
  {
   "cell_type": "code",
   "execution_count": null,
   "metadata": {
    "colab": {
     "base_uri": "https://localhost:8080/"
    },
    "id": "7RKUuzSxRgkf",
    "outputId": "e680b495-c2d1-4be4-dc86-19e2e2d1c543"
   },
   "outputs": [
    {
     "name": "stdout",
     "output_type": "stream",
     "text": [
      "H\n",
      "K\n",
      "!\n",
      "!\n"
     ]
    }
   ],
   "source": [
    "greeting = \"Hello Kaggle!\"\n",
    "print(greeting[0])\n",
    "print(greeting[6])\n",
    "print(greeting[len(greeting)-1])\n",
    "print(greeting[-1])"
   ]
  },
  {
   "cell_type": "markdown",
   "metadata": {
    "id": "GVT4E4ybSeKi"
   },
   "source": [
    "## Slicing\n",
    "- 문자열 슬라이싱은 문자열 안에서 범위를 지정하고 특정 문자열 추출"
   ]
  },
  {
   "cell_type": "code",
   "execution_count": null,
   "metadata": {
    "colab": {
     "base_uri": "https://localhost:8080/"
    },
    "id": "T-8PnKaCSdWo",
    "outputId": "3ef9fdc1-670b-4f0a-f44b-0a859e855f5d"
   },
   "outputs": [
    {
     "name": "stdout",
     "output_type": "stream",
     "text": [
      "Hello Kaggle!\n",
      "Hello\n",
      "Kaggle!\n",
      "lo Kag\n",
      "HloKg\n",
      "Kaggle\n",
      "!elggaK olleH\n"
     ]
    }
   ],
   "source": [
    "print(greeting[:])\n",
    "print(greeting[:5])\n",
    "print(greeting[6:])\n",
    "print(greeting[3:9])\n",
    "print(greeting[0:9:2])\n",
    "print(greeting[6:-1])\n",
    "print(greeting[::-1])"
   ]
  },
  {
   "cell_type": "markdown",
   "metadata": {
    "id": "46nXIbtuh0sO"
   },
   "source": [
    "## Formatting"
   ]
  },
  {
   "cell_type": "markdown",
   "metadata": {
    "id": "Kle67DyYjzM-"
   },
   "source": [
    "### format 코드"
   ]
  },
  {
   "cell_type": "code",
   "execution_count": null,
   "metadata": {
    "colab": {
     "base_uri": "https://localhost:8080/"
    },
    "id": "ZOBpA9W7hjqF",
    "outputId": "0d7f54ea-bbdf-40c4-fe00-0c242a1e25ef"
   },
   "outputs": [
    {
     "name": "stdout",
     "output_type": "stream",
     "text": [
      "I eat 3 apples.\n",
      "I eat five apples.\n",
      "I ate 10 apples, so I was sick for three days.\n"
     ]
    }
   ],
   "source": [
    "print(\"I eat %d apples.\" % 3) # 숫자 대입\n",
    "print(\"I eat %s apples.\" % \"five\") # 문자열 대입\n",
    "\n",
    "num = 10\n",
    "day = \"three\"\n",
    "say = \"I ate %d apples, so I was sick for %s days.\" % (num, day)\n",
    "print(say)"
   ]
  },
  {
   "cell_type": "code",
   "execution_count": null,
   "metadata": {
    "colab": {
     "base_uri": "https://localhost:8080/"
    },
    "id": "E1PPqO-aj8dt",
    "outputId": "a6969bfe-5573-4b06-d3db-3d6cd9b32125"
   },
   "outputs": [
    {
     "name": "stdout",
     "output_type": "stream",
     "text": [
      "I have 3 apples\n",
      "rate is 3.234\n",
      "Error is 98%.\n"
     ]
    }
   ],
   "source": [
    "print(\"I have %s apples\" % 3)\n",
    "print(\"rate is %s\" % 3.234)\n",
    "print(\"Error is %d%%.\" % 98) # fomatting 연산자와 %를 함께 쓸 때는 %%"
   ]
  },
  {
   "cell_type": "code",
   "execution_count": null,
   "metadata": {
    "colab": {
     "base_uri": "https://localhost:8080/"
    },
    "id": "4NK1qWs5kgGM",
    "outputId": "98e993f9-5995-422e-cdb5-679b64135ead"
   },
   "outputs": [
    {
     "name": "stdout",
     "output_type": "stream",
     "text": [
      "        hi,Jane!\n",
      "hi        ,Jane!\n",
      "'3.4213'\n",
      "'    3.4213'\n",
      "'3.4213    '\n"
     ]
    }
   ],
   "source": [
    "print(\"%10s,Jane!\" % \"hi\")\n",
    "print(\"%-10s,Jane!\" % \"hi\")\n",
    "\n",
    "print(\"'%0.4f'\" % 3.42134234)\n",
    "print(\"'%10.4f'\" % 3.42134234)\n",
    "print(\"'%-10.4f'\" % 3.42134234)"
   ]
  },
  {
   "cell_type": "markdown",
   "metadata": {
    "id": "6ndBV809giUn"
   },
   "source": [
    "### format 함수"
   ]
  },
  {
   "cell_type": "code",
   "execution_count": null,
   "metadata": {
    "colab": {
     "base_uri": "https://localhost:8080/"
    },
    "id": "w__tvG3on58D",
    "outputId": "be41c2e1-b513-4eb3-9f9a-9fcc799635e7"
   },
   "outputs": [
    {
     "name": "stdout",
     "output_type": "stream",
     "text": [
      "I eat 7 apples.\n",
      "I eat five apples.\n",
      "I ate 8 apples.\n",
      "I ate 8 apples, so I was sick for 3 days.\n",
      "I ate 6 apples, so I was sick for 2 days.\n",
      "I ate 4 apples, so I was sick for 1 days.\n"
     ]
    }
   ],
   "source": [
    "print(\"I eat {0} apples.\".format(7))\n",
    "print(\"I eat {0} apples.\".format(\"five\"))\n",
    "\n",
    "num = 8\n",
    "day = 3\n",
    "print(\"I ate {0} apples.\".format(num))\n",
    "print(\"I ate {0} apples, so I was sick for {1} days.\".format(num, day))\n",
    "\n",
    "print(\"I ate {num} apples, so I was sick for {day} days.\".format(num=6,day=2))\n",
    "print(\"I ate {0} apples, so I was sick for {day} days.\".format(4,day=1))"
   ]
  },
  {
   "cell_type": "code",
   "execution_count": null,
   "metadata": {
    "colab": {
     "base_uri": "https://localhost:8080/"
    },
    "id": "g-F3h2V2j7A6",
    "outputId": "8f1fa28e-138b-4319-e54f-96748f1004af"
   },
   "outputs": [
    {
     "name": "stdout",
     "output_type": "stream",
     "text": [
      "'hi        '\n",
      "'    hi    '\n",
      "'        hi'\n",
      "'====hi===='\n",
      "'hi!!!!!!!!'\n"
     ]
    }
   ],
   "source": [
    "print(\"'{0:<10}'\".format(\"hi\"))\n",
    "print(\"'{0:^10}'\".format(\"hi\"))\n",
    "print(\"'{0:>10}'\".format(\"hi\"))\n",
    "\n",
    "print(\"'{0:=^10}'\".format(\"hi\"))\n",
    "print(\"'{0:!<10}'\".format(\"hi\"))"
   ]
  },
  {
   "cell_type": "code",
   "execution_count": null,
   "metadata": {
    "colab": {
     "base_uri": "https://localhost:8080/"
    },
    "id": "hYn3xgzzkVgZ",
    "outputId": "be453c4e-c1c1-4ebc-b613-c66b510ad6d7"
   },
   "outputs": [
    {
     "name": "stdout",
     "output_type": "stream",
     "text": [
      "'3.4213'\n",
      "'    3.4213'\n",
      "'  3.4213  '\n",
      "'3.4213    '\n"
     ]
    }
   ],
   "source": [
    "y = 3.42134234\n",
    "print(\"'{0:0.4f}'\".format(y))\n",
    "print(\"'{0:10.4f}'\".format(y))\n",
    "print(\"'{0:^10.4f}'\".format(y))\n",
    "print(\"'{0:<10.4f}'\".format(y))"
   ]
  },
  {
   "cell_type": "code",
   "execution_count": null,
   "metadata": {
    "colab": {
     "base_uri": "https://localhost:8080/"
    },
    "id": "L-m1E68Ej7LE",
    "outputId": "58c23e89-cecf-4a7f-e0a9-facf911406bb"
   },
   "outputs": [
    {
     "name": "stdout",
     "output_type": "stream",
     "text": [
      "John {and} Marry\n"
     ]
    }
   ],
   "source": [
    "name1 = \"John\"\n",
    "name2 = \"Marry\"\n",
    "print(\"{0} {{and}} {1}\".format(name1, name2))"
   ]
  },
  {
   "cell_type": "markdown",
   "metadata": {
    "id": "YWM3q4oUoc8x"
   },
   "source": [
    "### f 문자열"
   ]
  },
  {
   "cell_type": "code",
   "execution_count": null,
   "metadata": {
    "colab": {
     "base_uri": "https://localhost:8080/"
    },
    "id": "b4bi91uCoffw",
    "outputId": "f84fcb90-fd6c-41be-81ff-bcfabfb5fa00"
   },
   "outputs": [
    {
     "name": "stdout",
     "output_type": "stream",
     "text": [
      "My name is Sally, and I'm 29 years old.\n",
      "Next year, I'm going to be 30 years old.\n",
      "My name is Sally, and I'm 29 years old.\n"
     ]
    }
   ],
   "source": [
    "name = 'Sally'\n",
    "age = 29\n",
    "print(f\"My name is {name}, and I'm {age} years old.\")\n",
    "print(f\"Next year, I'm going to be {age+1} years old.\")\n",
    "\n",
    "d = {'name':'Sally', 'age':29}\n",
    "print(f\"My name is {d['name']}, and I'm {d['age']} years old.\") # 딕셔너리 자료형 활용"
   ]
  },
  {
   "cell_type": "code",
   "execution_count": null,
   "metadata": {
    "colab": {
     "base_uri": "https://localhost:8080/"
    },
    "id": "zJb4S9Qbp2ai",
    "outputId": "420512a3-5909-40fe-98b0-cd9f9c82c2cf"
   },
   "outputs": [
    {
     "name": "stdout",
     "output_type": "stream",
     "text": [
      "hi        \n",
      "    hi    \n",
      "        hi\n",
      "====hi====\n",
      "hi!!!!!!!!\n"
     ]
    }
   ],
   "source": [
    "print(f'{\"hi\":<10}')\n",
    "print(f'{\"hi\":^10}')\n",
    "print(f'{\"hi\":>10}')\n",
    "\n",
    "print(f'{\"hi\":=^10}')\n",
    "print(f'{\"hi\":!<10}')"
   ]
  },
  {
   "cell_type": "code",
   "execution_count": null,
   "metadata": {
    "colab": {
     "base_uri": "https://localhost:8080/"
    },
    "id": "5m9sOZmyq6jh",
    "outputId": "a845859e-21e5-45c7-b4c7-37d22f2724f0"
   },
   "outputs": [
    {
     "name": "stdout",
     "output_type": "stream",
     "text": [
      "3.4213\n",
      "    3.4213\n",
      "  3.4213  \n",
      "3.4213    \n"
     ]
    }
   ],
   "source": [
    "y = 3.42134234\n",
    "print(f'{y:0.4f}')\n",
    "print(f'{y:10.4f}')\n",
    "print(f'{y:^10.4f}')\n",
    "print(f'{y:<10.4f}')"
   ]
  },
  {
   "cell_type": "code",
   "execution_count": null,
   "metadata": {
    "colab": {
     "base_uri": "https://localhost:8080/"
    },
    "id": "Zi_kTSd4rLbq",
    "outputId": "14981e55-4689-4923-b3a3-edd77efc7282"
   },
   "outputs": [
    {
     "name": "stdout",
     "output_type": "stream",
     "text": [
      "John {and} Marry\n"
     ]
    }
   ],
   "source": [
    "name1 = \"John\"\n",
    "name2 = \"Marry\"\n",
    "print(f\"{name1} {{and}} {name2}\")"
   ]
  },
  {
   "cell_type": "markdown",
   "metadata": {
    "id": "ln6HW1IMrVqE"
   },
   "source": [
    "## 문자열 함수"
   ]
  },
  {
   "cell_type": "code",
   "execution_count": null,
   "metadata": {
    "colab": {
     "base_uri": "https://localhost:8080/"
    },
    "id": "1DYYMNkNrdG_",
    "outputId": "8db157e8-571d-4647-cb21-e2368c24ffe6"
   },
   "outputs": [
    {
     "name": "stdout",
     "output_type": "stream",
     "text": [
      "2\n",
      "14\n",
      "-1\n",
      "2\n"
     ]
    }
   ],
   "source": [
    "# count\n",
    "a = 'hobby'\n",
    "print(a.count('b'))\n",
    "\n",
    "# find, index\n",
    "a = \"Python is the best choice\"\n",
    "print(a.find(\"b\"))\n",
    "print(a.find(\"k\")) # 없으면 -1 반환\n",
    "print(a.index(\"t\"))\n",
    "# print(a.index(\"k\")) # 없으면 에러"
   ]
  },
  {
   "cell_type": "code",
   "execution_count": null,
   "metadata": {
    "colab": {
     "base_uri": "https://localhost:8080/"
    },
    "id": "SvtwT9H_sciw",
    "outputId": "c20b9ca9-64d9-4616-a666-0d5a2a202542"
   },
   "outputs": [
    {
     "name": "stdout",
     "output_type": "stream",
     "text": [
      "a,b,c,d,e,f,g\n",
      "HELLO\n",
      "hello\n",
      "OK    \n",
      "    OK\n",
      "OK\n"
     ]
    }
   ],
   "source": [
    "# join\n",
    "print(\",\".join('abcdefg'))\n",
    "\n",
    "# upper, lower\n",
    "a = \"Hello\"\n",
    "print(a.upper())\n",
    "print(a.lower())\n",
    "\n",
    "# lstrip, rstrip, strip\n",
    "a = \"    OK    \"\n",
    "print(a.lstrip())\n",
    "print(a.rstrip())\n",
    "print(a.strip())"
   ]
  },
  {
   "cell_type": "code",
   "execution_count": null,
   "metadata": {
    "colab": {
     "base_uri": "https://localhost:8080/"
    },
    "id": "AeThlfdKtON1",
    "outputId": "7498f104-9915-4811-cdaf-469fa816f29f"
   },
   "outputs": [
    {
     "name": "stdout",
     "output_type": "stream",
     "text": [
      "That's wrong!\n",
      "['I', 'Love', 'You']\n",
      "['a', 'b', 'c', 'd']\n"
     ]
    }
   ],
   "source": [
    "# replace\n",
    "a = \"That's right!\"\n",
    "print(a.replace('right', 'wrong'))\n",
    "\n",
    "# split\n",
    "a = \"I Love You\"\n",
    "print(a.split()) # 공백 기준\n",
    "b = \"a:b:c:d\"\n",
    "print(b.split(':')) # 특정 구분자 기준"
   ]
  }
 ],
 "metadata": {
  "colab": {
   "collapsed_sections": [],
   "name": "파이썬_기초문법.ipynb",
   "provenance": [],
   "toc_visible": true
  },
  "kernelspec": {
   "display_name": "Python 3 (ipykernel)",
   "language": "python",
   "name": "python3"
  },
  "language_info": {
   "codemirror_mode": {
    "name": "ipython",
    "version": 3
   },
   "file_extension": ".py",
   "mimetype": "text/x-python",
   "name": "python",
   "nbconvert_exporter": "python",
   "pygments_lexer": "ipython3",
   "version": "3.9.7"
  }
 },
 "nbformat": 4,
 "nbformat_minor": 1
}
