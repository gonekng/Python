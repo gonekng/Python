{
 "cells": [
  {
   "cell_type": "markdown",
   "metadata": {
    "id": "1bQuBI9v0p8R"
   },
   "source": [
    "# 리스트\n",
    "- 시퀀스 데이터 타입\n",
    "- 데이터에 순서가 존재하며, 인덱싱 및 슬라이싱 가능\n",
    "- 대괄호('[값1, 값2, 값3]')를 사용하여 표현\n"
   ]
  },
  {
   "cell_type": "code",
   "execution_count": null,
   "metadata": {
    "colab": {
     "base_uri": "https://localhost:8080/"
    },
    "id": "J5ZMK30n1QVw",
    "outputId": "6e9e7d12-d7e9-4a1c-c133-a093cc52baee"
   },
   "outputs": [
    {
     "name": "stdout",
     "output_type": "stream",
     "text": [
      "[]\n",
      "[]\n",
      "[1]\n",
      "['apple']\n",
      "[1, 2, ['apple']]\n",
      "<class 'list'>\n"
     ]
    }
   ],
   "source": [
    "a = [] # 빈 리스트\n",
    "a_func = list() # 함수를 통해 생성\n",
    "b = [1]\n",
    "c = ['apple']\n",
    "d = [1,2,['apple']] # 리스트 안에 리스트\n",
    "\n",
    "print(a)\n",
    "print(a_func)\n",
    "print(b)\n",
    "print(c)\n",
    "print(d)\n",
    "\n",
    "print(type(d))"
   ]
  },
  {
   "cell_type": "markdown",
   "metadata": {
    "id": "UcFJisTp1_36"
   },
   "source": [
    "## 리스트 Indexing, Slicing"
   ]
  },
  {
   "cell_type": "code",
   "execution_count": null,
   "metadata": {
    "colab": {
     "base_uri": "https://localhost:8080/"
    },
    "id": "FiYpVAmS2Crr",
    "outputId": "0fbf9763-a7ae-468b-b78d-6f92351e18b0"
   },
   "outputs": [
    {
     "name": "stdout",
     "output_type": "stream",
     "text": [
      "[1, 2, 3, 4, 5, 6, 7, 8, 9, 10]\n",
      "1\n",
      "6\n",
      "[1, 2, 3, 4, 5]\n",
      "[9, 10]\n",
      "[4, 6, 8]\n",
      "[1, 4, 7]\n",
      "[10, 9, 8, 7, 6, 5, 4, 3, 2, 1]\n"
     ]
    }
   ],
   "source": [
    "a = [1,2,3,4,5,6,7,8,9,10]\n",
    "print(a)\n",
    "\n",
    "print(a[0])\n",
    "print(a[5])\n",
    "print(a[:5])\n",
    "print(a[8:])\n",
    "print(a[3:9:2])\n",
    "print(a[:-3:3])\n",
    "print(a[::-1])"
   ]
  },
  {
   "cell_type": "code",
   "execution_count": null,
   "metadata": {
    "colab": {
     "base_uri": "https://localhost:8080/"
    },
    "id": "kFNjJebH2tLY",
    "outputId": "9cb203d1-28c7-42a6-b680-690fee706f55"
   },
   "outputs": [
    {
     "name": "stdout",
     "output_type": "stream",
     "text": [
      "['apple', 'banana', 'cherry']\n",
      "banana\n",
      "e\n"
     ]
    }
   ],
   "source": [
    "a = [[\"apple\", \"banana\", \"cherry\"], 10]\n",
    "print(a[0])\n",
    "print(a[0][1])\n",
    "print(a[0][2][2])"
   ]
  },
  {
   "cell_type": "markdown",
   "metadata": {
    "id": "XC5fprGF4soq"
   },
   "source": [
    "## 리스트 연산자 사용"
   ]
  },
  {
   "cell_type": "code",
   "execution_count": null,
   "metadata": {
    "colab": {
     "base_uri": "https://localhost:8080/"
    },
    "id": "Cl3iT5yy4uSP",
    "outputId": "965d0c19-27b5-4387-b335-6aefb514d737"
   },
   "outputs": [
    {
     "name": "stdout",
     "output_type": "stream",
     "text": [
      "['john', 'evan', 'alice', 'eva']\n"
     ]
    }
   ],
   "source": [
    "a = [\"john\", \"evan\"]\n",
    "b = [\"alice\", \"eva\"]\n",
    "\n",
    "c = a + b # 리스트가 하나로 합쳐짐\n",
    "print(c)"
   ]
  },
  {
   "cell_type": "code",
   "execution_count": null,
   "metadata": {
    "colab": {
     "base_uri": "https://localhost:8080/"
    },
    "id": "oIxvU-K05L6U",
    "outputId": "52b2fc2c-ef0f-4074-b002-733c353bf2b3"
   },
   "outputs": [
    {
     "name": "stdout",
     "output_type": "stream",
     "text": [
      "a * 3 = ['john', 'evan', 'john', 'evan', 'john', 'evan']\n",
      "b * 0 = []\n"
     ]
    }
   ],
   "source": [
    "c = a * 3\n",
    "d = b * 0\n",
    "print(\"a * 3 =\", c) # 숫자만큼 반복\n",
    "print(\"b * 0 =\", d) # 빈 리스트 출력"
   ]
  },
  {
   "cell_type": "markdown",
   "metadata": {
    "id": "Qma0wfE05nQ-"
   },
   "source": [
    "## 리스트 수정 및 삭제"
   ]
  },
  {
   "cell_type": "code",
   "execution_count": null,
   "metadata": {
    "colab": {
     "base_uri": "https://localhost:8080/"
    },
    "id": "FSoKnpPX5pY6",
    "outputId": "45b6dfe3-efa7-47c6-ce26-dd1865870880"
   },
   "outputs": [
    {
     "name": "stdout",
     "output_type": "stream",
     "text": [
      "[0, 'b', 2]\n"
     ]
    }
   ],
   "source": [
    "a = [0, 1, 2]\n",
    "a[1] = 'b'\n",
    "print(a)"
   ]
  },
  {
   "cell_type": "markdown",
   "metadata": {
    "id": "5ZUCLKJ76WOA"
   },
   "source": [
    "### 리스트 값 추가"
   ]
  },
  {
   "cell_type": "code",
   "execution_count": null,
   "metadata": {
    "colab": {
     "base_uri": "https://localhost:8080/"
    },
    "id": "VRPVk6yE6VPs",
    "outputId": "5e33a9bb-b49d-442c-c847-dac746dcea02"
   },
   "outputs": [
    {
     "name": "stdout",
     "output_type": "stream",
     "text": [
      "[100, 200, 300, 400]\n",
      "[100, 200, 300, 400, [500, 600]]\n"
     ]
    }
   ],
   "source": [
    "a = [100,200,300]\n",
    "a.append(400)\n",
    "print(a)\n",
    "\n",
    "a.append([500,600]) # 리스트 자체를 요소로 추가\n",
    "print(a)"
   ]
  },
  {
   "cell_type": "code",
   "execution_count": null,
   "metadata": {
    "colab": {
     "base_uri": "https://localhost:8080/"
    },
    "id": "w_B4PAeN7RtK",
    "outputId": "c03930b3-c688-41a9-ed83-121cf077e674"
   },
   "outputs": [
    {
     "name": "stdout",
     "output_type": "stream",
     "text": [
      "[100, 200, 300, 400]\n",
      "[100, 200, 300, 400, 500, 600]\n"
     ]
    }
   ],
   "source": [
    "a = [100,200,300]\n",
    "a.append(400)\n",
    "print(a)\n",
    "\n",
    "a.extend([500,600]) # 리스트의 값들을 요소로 추가\n",
    "print(a)"
   ]
  },
  {
   "cell_type": "code",
   "execution_count": null,
   "metadata": {
    "colab": {
     "base_uri": "https://localhost:8080/"
    },
    "id": "MlfqC3Nw7md1",
    "outputId": "f4df5ccc-73b0-47c3-b6f6-c60336d1cce3"
   },
   "outputs": [
    {
     "name": "stdout",
     "output_type": "stream",
     "text": [
      "[0, 100, 1, 2]\n"
     ]
    }
   ],
   "source": [
    "a = [0,1,2]\n",
    "a.insert(1, 100) # 원하는 위치에 원하는 값 추가\n",
    "print(a)"
   ]
  },
  {
   "cell_type": "markdown",
   "metadata": {
    "id": "lYyBxGIn712G"
   },
   "source": [
    "### 리스트 값 삭제"
   ]
  },
  {
   "cell_type": "code",
   "execution_count": null,
   "metadata": {
    "colab": {
     "base_uri": "https://localhost:8080/"
    },
    "id": "GEEILVAx74Q2",
    "outputId": "376705c4-f69c-4374-cc23-423f02dae7d1"
   },
   "outputs": [
    {
     "name": "stdout",
     "output_type": "stream",
     "text": [
      "[4, 3, 2]\n"
     ]
    }
   ],
   "source": [
    "a = [4,3,2,1,\"A\"]\n",
    "a.remove(1) # 해당되는 값 제거 \n",
    "a.remove(\"A\")\n",
    "print(a)"
   ]
  },
  {
   "cell_type": "code",
   "execution_count": null,
   "metadata": {
    "colab": {
     "base_uri": "https://localhost:8080/"
    },
    "id": "DoEMWUuf8P2e",
    "outputId": "6c2ad3ca-9e5b-47cf-df1f-87aadd446d40"
   },
   "outputs": [
    {
     "name": "stdout",
     "output_type": "stream",
     "text": [
      "[1, 3, 4, 5, 6, 7, 8, 9, 10]\n",
      "[1, 7, 8, 9, 10]\n"
     ]
    }
   ],
   "source": [
    "a = [1,2,3,4,5,6,7,8,9,10]\n",
    "del a[1] # 인덱스 번호를 이용하여 제거\n",
    "print(a)\n",
    "\n",
    "del a[1:5]\n",
    "print(a)"
   ]
  },
  {
   "cell_type": "code",
   "execution_count": null,
   "metadata": {
    "colab": {
     "base_uri": "https://localhost:8080/"
    },
    "id": "QgBgL-_w8sIx",
    "outputId": "fef785aa-1c62-4de2-99c2-6c001ff0279a"
   },
   "outputs": [
    {
     "name": "stdout",
     "output_type": "stream",
     "text": [
      "c\n",
      "['a', 'b', 'd', 'e']\n",
      "e\n",
      "['a', 'b', 'd']\n"
     ]
    }
   ],
   "source": [
    "b = [\"a\", \"b\", \"c\", \"d\", \"e\"]\n",
    "x = b.pop(2)\n",
    "print(x)\n",
    "print(b)\n",
    "y = b.pop() # 인덱스를 지정하지 않으면 마지막 요소 추출 및 제거\n",
    "print(y)\n",
    "print(b)"
   ]
  },
  {
   "cell_type": "markdown",
   "metadata": {
    "id": "0KRQxSnd9QuY"
   },
   "source": [
    "### 그 외 메서드"
   ]
  },
  {
   "cell_type": "code",
   "execution_count": null,
   "metadata": {
    "colab": {
     "base_uri": "https://localhost:8080/"
    },
    "id": "7Ps8mU8Y9SIb",
    "outputId": "7cfaa749-e329-495c-f2d7-916c417ed7bd"
   },
   "outputs": [
    {
     "name": "stdout",
     "output_type": "stream",
     "text": [
      "[0, 1, 2, 3]\n",
      "[]\n"
     ]
    }
   ],
   "source": [
    "a = [0,1,2,3]\n",
    "print(a)\n",
    "\n",
    "a.clear()\n",
    "print(a)"
   ]
  },
  {
   "cell_type": "code",
   "execution_count": null,
   "metadata": {
    "colab": {
     "base_uri": "https://localhost:8080/"
    },
    "id": "tZU0Slh69XjA",
    "outputId": "fca2927b-f4b3-4efa-a0a8-e932fea98c38"
   },
   "outputs": [
    {
     "name": "stdout",
     "output_type": "stream",
     "text": [
      "2\n"
     ]
    }
   ],
   "source": [
    "a = [\"a\",\"a\",\"b\",\"b\"]\n",
    "print(a.index(\"b\")) # 해당 요소가 처음으로 등장하는 위치"
   ]
  },
  {
   "cell_type": "code",
   "execution_count": null,
   "metadata": {
    "colab": {
     "base_uri": "https://localhost:8080/"
    },
    "id": "y3C6SCYMCaHt",
    "outputId": "37f50579-3e3a-4b24-92f8-229750350b9d"
   },
   "outputs": [
    {
     "name": "stdout",
     "output_type": "stream",
     "text": [
      "[1, 2, 3, 4, 5]\n",
      "[5, 4, 3, 2, 1]\n"
     ]
    }
   ],
   "source": [
    "a = [1,4,5,2,3]\n",
    "b = [1,4,5,2,3]\n",
    "\n",
    "a.sort() # 오름차순\n",
    "print(a)\n",
    "\n",
    "b.sort(reverse=True) # 내림차순\n",
    "print(b)"
   ]
  },
  {
   "cell_type": "code",
   "execution_count": null,
   "metadata": {
    "colab": {
     "base_uri": "https://localhost:8080/"
    },
    "id": "z4zY0rVDDVyT",
    "outputId": "cef2b12a-f1df-4bec-8d2a-dea98e87289b"
   },
   "outputs": [
    {
     "name": "stdout",
     "output_type": "stream",
     "text": [
      "['a', 'bye', 'd', 'five']\n",
      "['five', 'd', 'bye', 'a']\n"
     ]
    }
   ],
   "source": [
    "c = ['d','bye','five','a']\n",
    "d = ['d','bye','five','a']\n",
    "\n",
    "c.sort()\n",
    "print(c)\n",
    "\n",
    "d.sort(reverse=True)\n",
    "print(d)"
   ]
  },
  {
   "cell_type": "markdown",
   "metadata": {
    "id": "Gmcl7JoDDtW6"
   },
   "source": [
    "# 튜플\n",
    "- 리스트와 비슷한 형태로 Indexing, Slicing 가능\n",
    "- 리스트와 달리 수정 및 삭제가 안 됨\n",
    "- 소괄호('(값1, 값2, 값3)')를 사용하여 표현"
   ]
  },
  {
   "cell_type": "code",
   "execution_count": null,
   "metadata": {
    "colab": {
     "base_uri": "https://localhost:8080/"
    },
    "id": "L_DwHTjQDuyG",
    "outputId": "fabaa08b-024b-4964-d0f4-4d4d7a37a561"
   },
   "outputs": [
    {
     "name": "stdout",
     "output_type": "stream",
     "text": [
      "0\n",
      "<class 'int'>\n",
      "(0,)\n",
      "<class 'tuple'>\n",
      "(0, 1, 2)\n",
      "<class 'tuple'>\n"
     ]
    }
   ],
   "source": [
    "tuple1 = (0) # 끝에 comma(,)를 붙이지 않으면 int 자료형\n",
    "tuple2 = (0,) # 끝에 comma(,)를 붙여야 tuple 자료형\n",
    "tuple3 = 0, 1, 2\n",
    "print(tuple1)\n",
    "print(type(tuple1))\n",
    "print(tuple2)\n",
    "print(type(tuple2))\n",
    "print(tuple3)\n",
    "print(type(tuple3))"
   ]
  },
  {
   "cell_type": "code",
   "execution_count": null,
   "metadata": {
    "colab": {
     "base_uri": "https://localhost:8080/"
    },
    "id": "YsjIusE8FZP3",
    "outputId": "4ea2222d-3619-422a-8350-ff8b09c19d74"
   },
   "outputs": [
    {
     "name": "stdout",
     "output_type": "stream",
     "text": [
      "<class 'tuple'>\n",
      "[0, 1, 2, 3, 'a']\n",
      "(0, 'b', 2, 3, 'a')\n"
     ]
    }
   ],
   "source": [
    "a = (0,1,2,3,'a')\n",
    "print(type(a))\n",
    "\n",
    "# del a[4] : 튜플에서는 수정, 삭제 안 됨\n",
    "b = list(a)\n",
    "print(b)\n",
    "b[1] = 'b'\n",
    "a = tuple(b)\n",
    "print(a)"
   ]
  },
  {
   "cell_type": "markdown",
   "metadata": {
    "id": "VZZoXJfMFraV"
   },
   "source": [
    "## 튜플 Indexing, Slicing"
   ]
  },
  {
   "cell_type": "code",
   "execution_count": null,
   "metadata": {
    "colab": {
     "base_uri": "https://localhost:8080/"
    },
    "id": "G2VbpEtxEuCt",
    "outputId": "3baa7d63-3edf-4da9-d34e-f300b8415c8a"
   },
   "outputs": [
    {
     "name": "stdout",
     "output_type": "stream",
     "text": [
      "<class 'tuple'>\n",
      "1\n",
      "3\n",
      "(1, 2)\n",
      "(0, 2, 'a')\n"
     ]
    }
   ],
   "source": [
    "a = (0,1,2,3,'a')\n",
    "print(type(a))\n",
    "\n",
    "print(a[1])\n",
    "print(a[-2])\n",
    "print(a[1:3])\n",
    "print(a[::2])"
   ]
  },
  {
   "cell_type": "markdown",
   "metadata": {
    "id": "VlOcMCsdGArO"
   },
   "source": [
    "## 튜플 연산자 사용"
   ]
  },
  {
   "cell_type": "code",
   "execution_count": null,
   "metadata": {
    "colab": {
     "base_uri": "https://localhost:8080/"
    },
    "id": "2bhoycOvF2Ua",
    "outputId": "abb46bf9-7a44-4489-f408-ffeee63d006e"
   },
   "outputs": [
    {
     "name": "stdout",
     "output_type": "stream",
     "text": [
      "(0, 1, 2, 'a', 'b', 'c')\n",
      "(0, 1, 2, 0, 1, 2, 0, 1, 2)\n",
      "()\n"
     ]
    }
   ],
   "source": [
    "t1 = (0,1,2)\n",
    "t2 = (\"a\", \"b\", \"c\")\n",
    "\n",
    "print(t1 + t2)\n",
    "print(t1 * 3)\n",
    "print(t1 * 0)"
   ]
  },
  {
   "cell_type": "markdown",
   "metadata": {
    "id": "OEzbw_I-HCI3"
   },
   "source": [
    "# 딕셔너리\n",
    "- Key와 Value로 구분됨\n",
    "- 중괄호({'키1':'값1', '키2':'값2'})를 사용하여 표현"
   ]
  },
  {
   "cell_type": "code",
   "execution_count": null,
   "metadata": {
    "colab": {
     "base_uri": "https://localhost:8080/"
    },
    "id": "QXV1ihbfHBxY",
    "outputId": "3eb05f22-86cb-4a1d-9321-0d2cbfce7b11"
   },
   "outputs": [
    {
     "name": "stdout",
     "output_type": "stream",
     "text": [
      "evan\n",
      "2022-03-10\n",
      "['A', 'B', 'R', 'Z']\n"
     ]
    }
   ],
   "source": [
    "dict_01 = {'teacher' : 'evan',\n",
    "           'class' : '601호',\n",
    "           'open' : '2022-03-10',\n",
    "           'students' : 24,\n",
    "           'names' : ['A', 'B', 'R', 'Z']}\n",
    "print(dict_01['teacher'])\n",
    "print(dict_01['open'])\n",
    "print(dict_01['names'])"
   ]
  },
  {
   "cell_type": "code",
   "execution_count": null,
   "metadata": {
    "colab": {
     "base_uri": "https://localhost:8080/"
    },
    "id": "4ncaNBXIJCNj",
    "outputId": "db55ae2a-e1ef-4ba4-bb3a-7eb2cbcb0162"
   },
   "outputs": [
    {
     "name": "stdout",
     "output_type": "stream",
     "text": [
      "dict_keys(['teacher', 'class', 'open', 'students', 'names'])\n",
      "<class 'dict_keys'>\n",
      "['teacher', 'class', 'open', 'students', 'names']\n"
     ]
    }
   ],
   "source": [
    "print(dict_01.keys())\n",
    "print(type(dict_01.keys()))\n",
    "print(list(dict_01.keys())) # 다양한 연산과 메서드를 적용할 수 있는 리스트형으로 변환"
   ]
  },
  {
   "cell_type": "code",
   "execution_count": null,
   "metadata": {
    "colab": {
     "base_uri": "https://localhost:8080/"
    },
    "id": "OSQH7P5cJ9cG",
    "outputId": "8d535d17-5b8e-405c-f76a-025317215440"
   },
   "outputs": [
    {
     "name": "stdout",
     "output_type": "stream",
     "text": [
      "dict_values(['evan', '601호', '2022-03-10', 24, ['A', 'B', 'R', 'Z']])\n",
      "<class 'dict_values'>\n",
      "['evan', '601호', '2022-03-10', 24, ['A', 'B', 'R', 'Z']]\n"
     ]
    }
   ],
   "source": [
    "print(dict_01.values())\n",
    "print(type(dict_01.values()))\n",
    "print(list(dict_01.values())) # 다양한 연산과 메서드를 적용할 수 있는 리스트형으로 변환"
   ]
  },
  {
   "cell_type": "code",
   "execution_count": null,
   "metadata": {
    "colab": {
     "base_uri": "https://localhost:8080/"
    },
    "id": "NOCjkGHhKQjq",
    "outputId": "58e4611d-7032-41f1-8de8-1d17e9953b4e"
   },
   "outputs": [
    {
     "data": {
      "text/plain": [
       "dict_items([('teacher', 'evan'), ('class', '601호'), ('open', '2022-03-10'), ('students', 24), ('names', ['A', 'B', 'R', 'Z'])])"
      ]
     },
     "execution_count": 206,
     "metadata": {},
     "output_type": "execute_result"
    }
   ],
   "source": [
    "dict_01.items() # 각 key와 value가 튜플 형태로 출력됨"
   ]
  },
  {
   "cell_type": "code",
   "execution_count": null,
   "metadata": {
    "colab": {
     "base_uri": "https://localhost:8080/"
    },
    "id": "afZ9QElUKwGf",
    "outputId": "0ef91dd2-9ebb-4ef1-c423-f0bca0571e31"
   },
   "outputs": [
    {
     "name": "stdout",
     "output_type": "stream",
     "text": [
      "evan\n",
      "None\n",
      "없음\n",
      "601호\n"
     ]
    }
   ],
   "source": [
    "print(dict_01.get(\"teacher\"))\n",
    "# print(dict_01['선생님'])\n",
    "print(dict_01.get(\"선생님\")) # key가 없으면 None을 반환\n",
    "print(dict_01.get(\"선생님\", \"없음\")) # key가 없을 때 대체값 지정 가능\n",
    "print(dict_01.get(\"class\"))\n",
    "\n",
    "# 그냥 값을 출력해도 되지만, get 메서드를 사용하면 key가 없더라도 에러 없이 출력 가능"
   ]
  },
  {
   "cell_type": "markdown",
   "metadata": {
    "id": "GQjP67LlQhm9"
   },
   "source": [
    "# 조건문 & 반복문"
   ]
  },
  {
   "cell_type": "markdown",
   "metadata": {
    "id": "qJwzO2eQVYOl"
   },
   "source": [
    "## 조건문"
   ]
  },
  {
   "cell_type": "code",
   "execution_count": null,
   "metadata": {
    "colab": {
     "base_uri": "https://localhost:8080/"
    },
    "id": "wec0dHR6QgrB",
    "outputId": "ee383639-22f2-40eb-a0ee-e085b51f1570"
   },
   "outputs": [
    {
     "name": "stdout",
     "output_type": "stream",
     "text": [
      "우산을 가져가지 않는다.\n"
     ]
    }
   ],
   "source": [
    "weather = '맑음'\n",
    "if weather == \"비\":\n",
    "  print(\"우산을 가져간다.\")\n",
    "else:\n",
    "  print(\"우산을 가져가지 않는다.\")"
   ]
  },
  {
   "cell_type": "code",
   "execution_count": null,
   "metadata": {
    "colab": {
     "base_uri": "https://localhost:8080/"
    },
    "id": "t0QcaE3mSLjQ",
    "outputId": "e1276a28-adcf-485b-95a6-8787b7cd37c5"
   },
   "outputs": [
    {
     "name": "stdout",
     "output_type": "stream",
     "text": [
      "점수를 입력하시오. : 50\n",
      "불합격입니다.\n"
     ]
    }
   ],
   "source": [
    "# 60점 이상 합격\n",
    "score = int(input(\"점수를 입력하시오. : \"))\n",
    "\n",
    "if score >= 60:\n",
    "  print(\"합격입니다.\")\n",
    "else:\n",
    "  print(\"불합격입니다.\")"
   ]
  },
  {
   "cell_type": "code",
   "execution_count": null,
   "metadata": {
    "colab": {
     "base_uri": "https://localhost:8080/"
    },
    "id": "xHt3zRo1UYRi",
    "outputId": "e2db42fe-28c8-48e3-eb6d-3edf5320cdf0"
   },
   "outputs": [
    {
     "name": "stdout",
     "output_type": "stream",
     "text": [
      "점수를 입력하시오. : 68\n",
      "D\n"
     ]
    }
   ],
   "source": [
    "# 90점 이상은 A, 80점 이상은 B, 70점 이상은 C, 나머지는 F\n",
    "score = int(input(\"점수를 입력하시오. : \"))\n",
    "grade = \"\"\n",
    "\n",
    "if score >= 90:\n",
    "  grade = \"A\"\n",
    "elif score >= 80:\n",
    "  grade = \"B\"\n",
    "elif score >= 70:\n",
    "  grade = \"C\"\n",
    "elif score >= 60:\n",
    "  grade = \"D\"\n",
    "else:\n",
    "  grade = \"F\"\n",
    "  \n",
    "print(grade)"
   ]
  },
  {
   "cell_type": "markdown",
   "metadata": {
    "id": "kbL5DPSLVaQi"
   },
   "source": [
    "## 반복문"
   ]
  },
  {
   "cell_type": "code",
   "execution_count": null,
   "metadata": {
    "colab": {
     "base_uri": "https://localhost:8080/"
    },
    "id": "JxLxx0jqVsFB",
    "outputId": "33363597-a561-42d1-934d-ef025fdd6efe"
   },
   "outputs": [
    {
     "name": "stdout",
     "output_type": "stream",
     "text": [
      "1 안녕하세요!\n",
      "2 안녕하세요!\n",
      "3 안녕하세요!\n",
      "4 안녕하세요!\n"
     ]
    }
   ],
   "source": [
    "for i in range(4):\n",
    "  print(i+1, \"안녕하세요!\")"
   ]
  },
  {
   "cell_type": "code",
   "execution_count": null,
   "metadata": {
    "colab": {
     "base_uri": "https://localhost:8080/"
    },
    "id": "I5DRK75nXvyN",
    "outputId": "88a57a99-9a52-4cc7-ec61-d7d0a78d80aa"
   },
   "outputs": [
    {
     "name": "stdout",
     "output_type": "stream",
     "text": [
      "range(0, 5)\n",
      "1번째\n",
      "shoot!\n",
      "2번째\n",
      "shoot!\n",
      "3번째\n",
      "stop!\n"
     ]
    }
   ],
   "source": [
    "count = range(5)\n",
    "print(count)\n",
    "\n",
    "for n in count:\n",
    "  print(str(n+1) + \"번째\")\n",
    "  if (n+1) == 3:\n",
    "    print(\"stop!\")\n",
    "    break\n",
    "  print(\"shoot!\")"
   ]
  },
  {
   "cell_type": "code",
   "execution_count": null,
   "metadata": {
    "colab": {
     "base_uri": "https://localhost:8080/"
    },
    "id": "Zf-J9GFTYpFr",
    "outputId": "e027aaa2-e106-4a22-fd44-5d6282cec561"
   },
   "outputs": [
    {
     "name": "stdout",
     "output_type": "stream",
     "text": [
      "h\n",
      "e\n"
     ]
    }
   ],
   "source": [
    "a = \"hello\"\n",
    "\n",
    "for x in a:\n",
    "  if x=='l':\n",
    "    break\n",
    "  \n",
    "  print(x)"
   ]
  },
  {
   "cell_type": "markdown",
   "metadata": {
    "id": "m1QMfOLjZ5p7"
   },
   "source": [
    "- 반복문 작성 방식 : zip, range, enumerate, len, etc"
   ]
  },
  {
   "cell_type": "code",
   "execution_count": null,
   "metadata": {
    "colab": {
     "base_uri": "https://localhost:8080/"
    },
    "id": "wBQ5rAMaZTCa",
    "outputId": "b4ba7515-d7ea-4a86-a039-363065671c07"
   },
   "outputs": [
    {
     "name": "stdout",
     "output_type": "stream",
     "text": [
      "0 A\n",
      "1 B\n",
      "2 C\n"
     ]
    }
   ],
   "source": [
    "alphabets = ['A', 'B', 'C']\n",
    "\n",
    "# enumerate는 인덱스와 값을 튜플 형태로 묶어주는 객체\n",
    "for i, value in enumerate(alphabets):\n",
    "  print(i, value)"
   ]
  }
 ],
 "metadata": {
  "colab": {
   "collapsed_sections": [],
   "name": "파이썬_기초문법2.ipynb",
   "provenance": [],
   "toc_visible": true
  },
  "kernelspec": {
   "display_name": "Python 3 (ipykernel)",
   "language": "python",
   "name": "python3"
  },
  "language_info": {
   "name": "python"
  }
 },
 "nbformat": 4,
 "nbformat_minor": 1
}
