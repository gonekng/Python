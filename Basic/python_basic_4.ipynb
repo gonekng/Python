{
 "cells": [
  {
   "cell_type": "markdown",
   "metadata": {
    "id": "b9Z3X69T-UlQ"
   },
   "source": [
    "# 클래스(Class)\n",
    "- 목적 : 코드의 간결화, 코드의 재사용, 유지보수 용이\n",
    "- 여러 클래스가 모여서 하나의 라이브러리가 됨\n",
    "  + 장고 / 웹개발 / 머신러닝 / 시각화 / 전처리\n",
    "- 클래스명은 대문자로 시작해야 함\n"
   ]
  },
  {
   "cell_type": "code",
   "execution_count": null,
   "metadata": {
    "colab": {
     "base_uri": "https://localhost:8080/"
    },
    "id": "5R-u1w8D-Mu2",
    "outputId": "fcd2ed79-0502-456c-9008-8e1a8f49995b"
   },
   "outputs": [
    {
     "name": "stdout",
     "output_type": "stream",
     "text": [
      "Kim은 korean\n",
      "Lee는 korean\n"
     ]
    }
   ],
   "source": [
    "class Person:\n",
    "\n",
    "  # class attribute (선택)\n",
    "  country = \"korean\"\n",
    "\n",
    "  # instance attribute (필수)\n",
    "  def __init__(self, name, age):\n",
    "    self.name = name\n",
    "    self.age = age\n",
    "\n",
    "if __name__ == \"__main__\":\n",
    "  kim = Person(\"Kim\", 30)\n",
    "  lee = Person(\"Lee\", 28)\n",
    "  \n",
    "  # access class attribute\n",
    "  print(\"Kim은 {}\".format(kim.__class__.country))\n",
    "  print(\"Lee는 {}\".format(lee.__class__.country))"
   ]
  },
  {
   "cell_type": "markdown",
   "metadata": {
    "id": "l__dysS7BZzr"
   },
   "source": [
    "## 인스턴스 메서드 생성\n",
    "- list.append(), list.extend()\n",
    "\n"
   ]
  },
  {
   "cell_type": "code",
   "execution_count": null,
   "metadata": {
    "colab": {
     "base_uri": "https://localhost:8080/"
    },
    "id": "6pvcmsqUBiG3",
    "outputId": "72603bcf-959b-48c8-ce69-66a3cd0c216e"
   },
   "outputs": [
    {
     "name": "stdout",
     "output_type": "stream",
     "text": [
      "Kim: 'creep' 노래를 부릅니다.\n",
      "Lee: 'peaches' 노래를 부릅니다.\n"
     ]
    }
   ],
   "source": [
    "class Person:\n",
    "\n",
    "  # class attribute (선택)\n",
    "  country = \"korean\"\n",
    "\n",
    "  # instance attribute (필수)\n",
    "  def __init__(self, name, age):\n",
    "    self.name = name\n",
    "    self.age = age\n",
    "  \n",
    "  # instance method 정의\n",
    "  def singing(self, songtitle):\n",
    "    return \"{}: '{}' 노래를 부릅니다.\".format(self.name, songtitle)\n",
    "\n",
    "if __name__ == \"__main__\":\n",
    "  kim = Person(\"Kim\", 30)\n",
    "  lee = Person(\"Lee\", 28)\n",
    "  \n",
    "  # call instance method\n",
    "  print(kim.singing(\"creep\"))\n",
    "  print(lee.singing(\"peaches\"))"
   ]
  },
  {
   "cell_type": "markdown",
   "metadata": {
    "id": "BbAppo6IGAhl"
   },
   "source": [
    "## 클래스 상속"
   ]
  },
  {
   "cell_type": "code",
   "execution_count": null,
   "metadata": {
    "colab": {
     "base_uri": "https://localhost:8080/"
    },
    "id": "wbUpN0qkFn--",
    "outputId": "bcce6de2-0185-4f89-f5a7-f975ac5e9bc2"
   },
   "outputs": [
    {
     "name": "stdout",
     "output_type": "stream",
     "text": [
      "Child Class On.\n",
      "I am Child!\n",
      "I am Parent!\n",
      "kim: 춤을 춥니다.\n",
      "kim: 'fake love' 노래를 부릅니다.\n",
      "kim : math 공부를 합니다.\n"
     ]
    }
   ],
   "source": [
    "class Parent:\n",
    "  \n",
    "  # init constructor\n",
    "  def __init__(self, name, age):\n",
    "    self.name = name\n",
    "    self.age = age\n",
    "  \n",
    "  # instance method\n",
    "  def whoAmI(self):\n",
    "    print(\"I am Parent!\")\n",
    "  \n",
    "  def singing(self, songtitle):\n",
    "    return \"{}: '{}' 노래를 부릅니다.\".format(self.name, songtitle)\n",
    "  \n",
    "  def dancing(self):\n",
    "    return \"{}: 춤을 춥니다.\".format(self.name)\n",
    "\n",
    "class Child(Parent):\n",
    "\n",
    "  # instance attribute\n",
    "  def __init__(self, name, age):\n",
    "    super().__init__(name, age) # 부모 클래스의 생성자 그대로 가져오기\n",
    "    print(\"Child Class On.\")\n",
    "  \n",
    "  # instance method\n",
    "  def whoAmI(self):\n",
    "    print(\"I am Child!\")\n",
    "  \n",
    "  def studying(self, subject):\n",
    "    return \"{} : {} 공부를 합니다.\".format(self.name, subject)\n",
    "\n",
    "if __name__ == \"__main__\":\n",
    "  child_kim = Child(\"kim\", 13)\n",
    "  parent_kim = Parent(\"kim\", 49)\n",
    "  child_kim.whoAmI()\n",
    "  parent_kim.whoAmI()\n",
    "  print(parent_kim.dancing())\n",
    "  # print(parent_kim.studying()) -> AttributeError 발생\n",
    "  print(child_kim.singing(\"fake love\"))\n",
    "  print(child_kim.studying(\"math\"))"
   ]
  },
  {
   "cell_type": "code",
   "execution_count": null,
   "metadata": {
    "colab": {
     "base_uri": "https://localhost:8080/"
    },
    "id": "MojrDR6GLqJq",
    "outputId": "c1aa2e65-49f8-4520-cb2e-2001981ed8e7"
   },
   "outputs": [
    {
     "name": "stdout",
     "output_type": "stream",
     "text": [
      "Selling Price: 500\n",
      "Selling Price: 500\n",
      "Price Updated\n",
      "Selling Price: 400\n"
     ]
    }
   ],
   "source": [
    "class TV:\n",
    "  def __init__(self):\n",
    "    # private variable (외부 접근 불가능)\n",
    "    self.__maxprice = 500\n",
    "  \n",
    "  def sell(self):\n",
    "    print(\"Selling Price: {}\".format(self.__maxprice))\n",
    "  \n",
    "  # set method, get method\n",
    "  def setMaxPrice(self, price):\n",
    "    self.__maxprice = price\n",
    "    print(\"Price Updated\")\n",
    "\n",
    "  def getMaxPrice(self):\n",
    "    return self.__maxprice\n",
    "  \n",
    "if __name__==\"__main__\":\n",
    "  tv = TV()\n",
    "  tv.sell()\n",
    "\n",
    "  # 강제로 값을 변경할 수 없음\n",
    "  tv.__maxprice = 100\n",
    "  tv.sell()\n",
    "\n",
    "  # 별도의 method를 통해 변경 가능\n",
    "  tv.setMaxPrice(400)\n",
    "  tv.sell()"
   ]
  },
  {
   "cell_type": "markdown",
   "metadata": {
    "id": "5ufGVNCEZl8O"
   },
   "source": [
    "## 클래스 내부 조건문\n",
    "- init constructor"
   ]
  },
  {
   "cell_type": "code",
   "execution_count": null,
   "metadata": {
    "colab": {
     "base_uri": "https://localhost:8080/"
    },
    "id": "eo9OhddlZgvK",
    "outputId": "c5535fd5-eb09-47be-f84a-0672f491f5c9"
   },
   "outputs": [
    {
     "name": "stdout",
     "output_type": "stream",
     "text": [
      "급여는 0원이 될 수 없습니다. 다시 입력하세요.\n",
      "David의 급여는 0원입니다.\n",
      "David의 급여는 1500원입니다.\n",
      "David의 급여는 4500원입니다.\n",
      "David의 주 급여는 642원입니다.\n"
     ]
    }
   ],
   "source": [
    "class Employee:\n",
    "\n",
    "  # init constructor\n",
    "  def __init__(self, name, salary = 0):\n",
    "    self.name = name\n",
    "\n",
    "    # public variable (외부 접근 가능)\n",
    "    if salary > 0:\n",
    "      self.salary = salary\n",
    "    else:\n",
    "      self.salary = 0\n",
    "      print(\"급여는 0원이 될 수 없습니다. 다시 입력하세요.\")\n",
    "  \n",
    "  def update_salary(self, amount):\n",
    "    self.salary += amount\n",
    "  \n",
    "  def weekly_salary(self):\n",
    "    return int(self.salary / 7)\n",
    "\n",
    "if __name__==\"__main__\":\n",
    "  emp1 = Employee(\"David\", -50000)\n",
    "  print(\"{}의 급여는 {}원입니다.\".format(emp1.name, emp1.salary))\n",
    "\n",
    "  emp1.salary = emp1.salary + 1500\n",
    "  print(\"{}의 급여는 {}원입니다.\".format(emp1.name, emp1.salary))\n",
    "\n",
    "  emp1.update_salary(3000)\n",
    "  print(\"{}의 급여는 {}원입니다.\".format(emp1.name, emp1.salary))\n",
    "\n",
    "  week_salary = emp1.weekly_salary()\n",
    "  print(\"{}의 주 급여는 {}원입니다.\".format(emp1.name, week_salary))\n"
   ]
  },
  {
   "cell_type": "markdown",
   "metadata": {
    "id": "zyUR8YpGebwY"
   },
   "source": [
    "## 클래스 Docstring"
   ]
  },
  {
   "cell_type": "code",
   "execution_count": null,
   "metadata": {
    "colab": {
     "base_uri": "https://localhost:8080/"
    },
    "id": "7kFxq12Jee8M",
    "outputId": "4bdcede3-0d07-4a23-d12b-7d33f8f47ec7"
   },
   "outputs": [
    {
     "name": "stdout",
     "output_type": "stream",
     "text": [
      "\n",
      "  사람을 표현하는 클래스\n",
      "\n",
      "  ***\n",
      "  Attributes\n",
      "  ----------\n",
      "  name: str\n",
      "    Name of the person\n",
      "  age: int\n",
      "    Age of the person\n",
      "\n",
      "  Methods\n",
      "  -------\n",
      "\n",
      "  info(additional=\"\"): \n",
      "    Prints the person's name and age\n",
      "\n",
      "  \n",
      "My name is Jiwon. I am 27 years old. I wanna be a data analyst.\n"
     ]
    }
   ],
   "source": [
    "class Person:\n",
    "  \"\"\"\n",
    "  사람을 표현하는 클래스\n",
    "\n",
    "  ***\n",
    "  Attributes\n",
    "  ----------\n",
    "  name: str\n",
    "    Name of the person\n",
    "  age: int\n",
    "    Age of the person\n",
    "\n",
    "  Methods\n",
    "  -------\n",
    "\n",
    "  info(additional=\"\"): \n",
    "    Prints the person's name and age\n",
    "\n",
    "  \"\"\"\n",
    "\n",
    "  def __init__(self, name, age):\n",
    "    \"\"\"\n",
    "    Constructs all the neccessary attributes for the person object\n",
    "\n",
    "    Parameters\n",
    "    ----------\n",
    "      name: str\n",
    "        Name of the person\n",
    "      age: int\n",
    "        Age of the person\n",
    "    \"\"\"\n",
    "\n",
    "    self.name = name\n",
    "    self.age = age\n",
    "  \n",
    "  def info(self, additional=None):\n",
    "    \"\"\"\n",
    "    Prints the person's information\n",
    "\n",
    "    Parameters\n",
    "    ----------\n",
    "      additional: str, optional\n",
    "        more info to be diplayed (Default is None) / A, B, C\n",
    "    \n",
    "    Returns\n",
    "    -------\n",
    "      None\n",
    "\n",
    "    \"\"\"\n",
    "    print(f'My name is {self.name}. I am {self.age} years old. ' + additional)\n",
    "\n",
    "if __name__==\"__main__\":\n",
    "  print(Person.__doc__)\n",
    "  person = Person(\"Jiwon\", age = 27)\n",
    "  person.info(\"I wanna be a data analyst.\")"
   ]
  }
 ],
 "metadata": {
  "colab": {
   "collapsed_sections": [],
   "name": "파이썬_기초문법_4.ipynb",
   "provenance": [],
   "toc_visible": true
  },
  "kernelspec": {
   "display_name": "Python 3 (ipykernel)",
   "language": "python",
   "name": "python3"
  },
  "language_info": {
   "name": "python"
  }
 },
 "nbformat": 4,
 "nbformat_minor": 1
}
